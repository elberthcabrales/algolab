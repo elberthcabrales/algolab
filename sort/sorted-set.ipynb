{
 "cells": [
  {
   "cell_type": "code",
   "execution_count": null,
   "id": "668d8453",
   "metadata": {},
   "outputs": [],
   "source": [
    "import bisect\n",
    "\n",
    "class SortedSet:\n",
    "    def __init__(self):\n",
    "        self._data = []\n",
    "\n",
    "    def add(self, value):\n",
    "        i = bisect.bisect_left(self._data, value)\n",
    "        if i == len(self._data) or self._data[i] != value:\n",
    "            self._data.insert(i, value)\n",
    "\n",
    "    def remove(self, value):\n",
    "        i = bisect.bisect_left(self._data, value)\n",
    "        if i < len(self._data) and self._data[i] == value:\n",
    "            self._data.pop(i)\n",
    "        else:\n",
    "            raise KeyError(f\"{value} not in set\")\n",
    "\n",
    "    def __contains__(self, value):\n",
    "        i = bisect.bisect_left(self._data, value)\n",
    "        return i < len(self._data) and self._data[i] == value\n",
    "\n",
    "    def __str__(self):\n",
    "        return str(self._data)\n"
   ]
  },
  {
   "cell_type": "code",
   "execution_count": 4,
   "id": "3da953d6",
   "metadata": {},
   "outputs": [
    {
     "name": "stdout",
     "output_type": "stream",
     "text": [
      "SortedSet([1, 3, 5, 9])\n",
      "True\n",
      "SortedSet([1, 3, 4, 5, 9])\n",
      "SortedSet([1, 3, 4, 9])\n"
     ]
    }
   ],
   "source": [
    "from sortedcontainers import SortedSet\n",
    "\n",
    "ss = SortedSet([5, 3, 9, 1])\n",
    "print(ss)          # SortedSet([s1, 3, 5, 9])\n",
    "print(3 in ss)     # True\n",
    "ss.add(4)\n",
    "print(ss)          # SortedSet([1, 3, 4, 5, 9])\n",
    "ss.discard(5)\n",
    "print(ss)          # SortedSet([1, 3, 4, 9])\n"
   ]
  }
 ],
 "metadata": {
  "kernelspec": {
   "display_name": ".venv",
   "language": "python",
   "name": "python3"
  },
  "language_info": {
   "codemirror_mode": {
    "name": "ipython",
    "version": 3
   },
   "file_extension": ".py",
   "mimetype": "text/x-python",
   "name": "python",
   "nbconvert_exporter": "python",
   "pygments_lexer": "ipython3",
   "version": "3.12.3"
  }
 },
 "nbformat": 4,
 "nbformat_minor": 5
}
