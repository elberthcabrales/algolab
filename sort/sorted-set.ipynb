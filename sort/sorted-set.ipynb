{
 "cells": [
  {
   "cell_type": "code",
   "execution_count": null,
   "id": "668d8453",
   "metadata": {},
   "outputs": [],
   "source": [
    "import bisect\n",
    "\n",
    "class SortedSet:\n",
    "    def __init__(self):\n",
    "        self._data = []\n",
    "\n",
    "    def add(self, value):\n",
    "        i = bisect.bisect_left(self._data, value)\n",
    "        if i == len(self._data) or self._data[i] != value:\n",
    "            self._data.insert(i, value)\n",
    "\n",
    "    def remove(self, value):\n",
    "        i = bisect.bisect_left(self._data, value)\n",
    "        if i < len(self._data) and self._data[i] == value:\n",
    "            self._data.pop(i)\n",
    "        else:\n",
    "            raise KeyError(f\"{value} not in set\")\n",
    "\n",
    "    def __contains__(self, value):\n",
    "        i = bisect.bisect_left(self._data, value)\n",
    "        return i < len(self._data) and self._data[i] == value\n",
    "\n",
    "    def __str__(self):\n",
    "        return str(self._data)\n"
   ]
  },
  {
   "cell_type": "code",
   "execution_count": 4,
   "id": "3da953d6",
   "metadata": {},
   "outputs": [
    {
     "name": "stdout",
     "output_type": "stream",
     "text": [
      "SortedSet([1, 3, 5, 9])\n",
      "True\n",
      "SortedSet([1, 3, 4, 5, 9])\n",
      "SortedSet([1, 3, 4, 9])\n"
     ]
    }
   ],
   "source": [
    "from sortedcontainers import SortedSet\n",
    "\n",
    "ss = SortedSet([5, 3, 9, 1])\n",
    "print(ss)          # SortedSet([s1, 3, 5, 9])\n",
    "print(3 in ss)     # True\n",
    "ss.add(4)\n",
    "print(ss)          # SortedSet([1, 3, 4, 5, 9])\n",
    "ss.discard(5)\n",
    "print(ss)          # SortedSet([1, 3, 4, 9])\n"
   ]
  },
  {
   "cell_type": "code",
   "execution_count": null,
   "id": "9fb38297",
   "metadata": {},
   "outputs": [],
   "source": [
    "import bisect\n",
    "\n",
    "class NumberContainers:\n",
    "\n",
    "    def __init__(self):\n",
    "        \"\"\"\n",
    "            find 10\n",
    "                10 no t in number_index then  returns -1\n",
    "            find 10\n",
    "                10 in number_index then returns smallest of number_index\n",
    "\n",
    "            change on existing index\n",
    "            index 1 in index_number then get old_number and use index_number to get array of index to edit it\n",
    "        \"\"\"\n",
    "        self.number_index = {} # 10: [1,2,3,5]\n",
    "        self.index_number = {} # 2:10, 1:10, 3:10, 5:10 --> 1:20\n",
    "\n",
    "    def change(self, index: int, number: int) -> None:\n",
    "        if index in self.index_number:\n",
    "            old_number = self.index_number[index]\n",
    "            old_indexes = self.number_index[old_number]\n",
    "            i = bisect.bisect_left(old_indexes, index)\n",
    "\n",
    "            old_indexes.pop(i)\n",
    "            if len(old_indexes) == 0:\n",
    "                del self.number_index[old_number]\n",
    "        \n",
    "        self.index_number[index] = number\n",
    "        if number not in self.number_index:\n",
    "            self.number_index[number] = [index]\n",
    "            return\n",
    "        \n",
    "        i = bisect.bisect_left(self.number_index[number], index)\n",
    "\n",
    "        if i == len(self.number_index[number]) or self.number_index[number][i] != index:\n",
    "            self.number_index[number].insert(i, index)\n",
    "        \n",
    "        \n",
    "\n",
    "    def find(self, number: int) -> int:\n",
    "        if number not in self.number_index:\n",
    "            return -1\n",
    "        return self.number_index[number][0]\n",
    "\n",
    "\n",
    "# Your NumberContainers object will be instantiated and called as such:\n",
    "# obj = NumberContainers()\n",
    "# obj.change(index,number)\n",
    "# param_2 = obj.find(number)"
   ]
  },
  {
   "cell_type": "code",
   "execution_count": 2,
   "id": "8e559080",
   "metadata": {},
   "outputs": [
    {
     "name": "stdout",
     "output_type": "stream",
     "text": [
      "After adding elements: SortedSet([1, 3, 5, 9])\n",
      "After adding duplicate 3: SortedSet([1, 3, 5, 9])\n",
      "Is 5 in set? True\n",
      "Is 7 in set? False\n",
      "After removing 3: SortedSet([1, 5, 9])\n",
      "7\n"
     ]
    }
   ],
   "source": [
    "from sortedcontainers import SortedSet\n",
    "\n",
    "# Example usage of the custom SortedSet class\n",
    "s = SortedSet()\n",
    "s.add(5)\n",
    "s.add(3)\n",
    "s.add(9)\n",
    "s.add(1)\n",
    "print(\"After adding elements:\", s)  # Output: [1, 3, 5, 9]\n",
    "\n",
    "s.add(3)  # Duplicate, will not be added\n",
    "print(\"After adding duplicate 3:\", s)  # Output: [1, 3, 5, 9]\n",
    "\n",
    "print(\"Is 5 in set?\", 5 in s)  # Output: True\n",
    "print(\"Is 7 in set?\", 7 in s)  # Output: False\n",
    "\n",
    "s.remove(3)\n",
    "print(\"After removing 3:\", s)  # Output: [1, 5, 9]\n",
    "\n",
    "try:\n",
    "    s.remove(7)\n",
    "except KeyError as e:\n",
    "    print(e)  # Output: 7 not in set"
   ]
  }
 ],
 "metadata": {
  "kernelspec": {
   "display_name": ".venv",
   "language": "python",
   "name": "python3"
  },
  "language_info": {
   "codemirror_mode": {
    "name": "ipython",
    "version": 3
   },
   "file_extension": ".py",
   "mimetype": "text/x-python",
   "name": "python",
   "nbconvert_exporter": "python",
   "pygments_lexer": "ipython3",
   "version": "3.12.3"
  }
 },
 "nbformat": 4,
 "nbformat_minor": 5
}
