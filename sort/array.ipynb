{
 "cells": [
  {
   "cell_type": "code",
   "execution_count": 1,
   "metadata": {},
   "outputs": [
    {
     "name": "stdout",
     "output_type": "stream",
     "text": [
      "[5, 6, 7, 1, 2, 3, 4]\n"
     ]
    }
   ],
   "source": [
    "from typing import List\n",
    "\n",
    "\n",
    "class Solution:\n",
    "    def rotate(self, nums: List[int], k: int) -> None:\n",
    "        \"\"\"\n",
    "        Do not return anything, modify nums in-place instead.\n",
    "        \"\"\"\n",
    "        \n",
    "        k = k % len(nums)\n",
    "\n",
    "\n",
    "        nums[:] = nums[-k:] + nums[:-k]\n",
    "\n",
    "#test cases\n",
    "s = Solution()\n",
    "nums = [1,2,3,4,5,6,7]\n",
    "k = 3\n",
    "s.rotate(nums, k)\n",
    "print(nums) #[5,6,7,1,2,3,4]"
   ]
  },
  {
   "cell_type": "code",
   "execution_count": null,
   "metadata": {},
   "outputs": [],
   "source": [
    "class Solution:\n",
    "    def sortArray(self, nums: List[int]) -> List[int]:\n",
    "        \"\"\"\n",
    "            mergesort\n",
    "            left and right\n",
    "\n",
    "            split until last is equal to 1\n",
    "            merge sirting comparing if left is less than right\n",
    "            return mrged array\n",
    "        \"\"\"\n",
    "        if len(nums) <= 1:\n",
    "            return nums\n",
    "\n",
    "        mid = len(nums) // 2\n",
    "        mid_left = nums[mid:]\n",
    "        mid__right = nums[:mid]\n",
    "\n",
    "        left_nums = self.sortArray(mid_left)\n",
    "        right_nums = self.sortArray(mid__right)\n",
    "\n",
    "        return self.merge(left_nums, right_nums)\n",
    "\n",
    "    def merge(self, left_nums: List[int], right_nums: List[int]) -> List[int]:\n",
    "        i = 0 # left_nums' index\n",
    "        j = 0 # right_nums' index\n",
    "        ans = []\n",
    "\n",
    "        while i < len(left_nums) and j < len(right_nums):\n",
    "            if left_nums[i] < right_nums[j]:\n",
    "                ans.append(left_nums[i])\n",
    "                i += 1\n",
    "            else:\n",
    "                ans.append(right_nums[j])\n",
    "                j += 1\n",
    "        \n",
    "        while i < len(left_nums):\n",
    "            ans.append(left_nums[i])\n",
    "            i += 1\n",
    "        while j < len(right_nums):\n",
    "            ans.append(right_nums[j])\n",
    "            j += 1\n",
    "\n",
    "        return ans"
   ]
  }
 ],
 "metadata": {
  "kernelspec": {
   "display_name": "myenv",
   "language": "python",
   "name": "python3"
  },
  "language_info": {
   "codemirror_mode": {
    "name": "ipython",
    "version": 3
   },
   "file_extension": ".py",
   "mimetype": "text/x-python",
   "name": "python",
   "nbconvert_exporter": "python",
   "pygments_lexer": "ipython3",
   "version": "3.12.7"
  }
 },
 "nbformat": 4,
 "nbformat_minor": 2
}
