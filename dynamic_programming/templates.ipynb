{
 "cells": [
  {
   "cell_type": "code",
   "execution_count": 2,
   "metadata": {},
   "outputs": [
    {
     "name": "stdout",
     "output_type": "stream",
     "text": [
      "12\n",
      "12\n"
     ]
    }
   ],
   "source": [
    "from functools import cache\n",
    "from typing import List\n",
    "\n",
    "class Solution:\n",
    "    def robBU(self, nums: List[int]) -> int:\n",
    "        n = len(nums)\n",
    "        if n == 1:\n",
    "            return nums[0]\n",
    "        if n == 2:\n",
    "            return max(nums[0], nums[1])\n",
    "        dp = [0] * n\n",
    "\n",
    "        dp[0] = nums[0]\n",
    "        dp[1] = max(nums[0], nums[1])\n",
    "\n",
    "        for i in range(2, n):\n",
    "            dp[i] = max(dp[i - 1], dp[i - 2] + nums[i])\n",
    "\n",
    "        return dp[n - 1]\n",
    "        \n",
    "    def robTD(self, nums: List[int]) -> int:\n",
    "        n = len(nums)\n",
    "        if n == 1:\n",
    "            return nums[0]\n",
    "        if n == 2:\n",
    "            return max(nums[0], nums[1])\n",
    "        @cache\n",
    "        def dp(i):\n",
    "            if i < 0:\n",
    "                return 0\n",
    "\n",
    "            return max(dp(i - 2) + nums[i], dp(i - 1))\n",
    "\n",
    "        return dp(n - 1)\n",
    "# Test case for House Robber\n",
    "nums = [2, 7, 9, 3, 1]\n",
    "sol = Solution()\n",
    "print(sol.robTD(nums))\n",
    "print(sol.robBU(nums))\n",
    "\n"
   ]
  }
 ],
 "metadata": {
  "kernelspec": {
   "display_name": "myenv",
   "language": "python",
   "name": "python3"
  },
  "language_info": {
   "codemirror_mode": {
    "name": "ipython",
    "version": 3
   },
   "file_extension": ".py",
   "mimetype": "text/x-python",
   "name": "python",
   "nbconvert_exporter": "python",
   "pygments_lexer": "ipython3",
   "version": "3.12.7"
  }
 },
 "nbformat": 4,
 "nbformat_minor": 2
}
