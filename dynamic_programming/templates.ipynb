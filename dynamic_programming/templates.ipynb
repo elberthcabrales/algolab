{
 "cells": [
  {
   "cell_type": "code",
   "execution_count": 2,
   "metadata": {},
   "outputs": [
    {
     "name": "stdout",
     "output_type": "stream",
     "text": [
      "12\n",
      "12\n"
     ]
    }
   ],
   "source": [
    "from functools import cache\n",
    "from typing import List\n",
    "\n",
    "class Solution:\n",
    "    def robBU(self, nums: List[int]) -> int:\n",
    "        n = len(nums)\n",
    "        if n == 1:\n",
    "            return nums[0]\n",
    "        if n == 2:\n",
    "            return max(nums[0], nums[1])\n",
    "        dp = [0] * n\n",
    "\n",
    "        dp[0] = nums[0]\n",
    "        dp[1] = max(nums[0], nums[1])\n",
    "\n",
    "        for i in range(2, n):\n",
    "            dp[i] = max(dp[i - 1], dp[i - 2] + nums[i])\n",
    "\n",
    "        return dp[n - 1]\n",
    "        \n",
    "    def robTD(self, nums: List[int]) -> int:\n",
    "        n = len(nums)\n",
    "        if n == 1:\n",
    "            return nums[0]\n",
    "        if n == 2:\n",
    "            return max(nums[0], nums[1])\n",
    "        @cache\n",
    "        def dp(i):\n",
    "            if i < 0:\n",
    "                return 0\n",
    "\n",
    "            return max(dp(i - 2) + nums[i], dp(i - 1))\n",
    "\n",
    "        return dp(n - 1)\n",
    "# Test case for House Robber\n",
    "nums = [2, 7, 9, 3, 1]\n",
    "sol = Solution()\n",
    "print(sol.robTD(nums))\n",
    "print(sol.robBU(nums))\n",
    "\n"
   ]
  },
  {
   "cell_type": "code",
   "execution_count": null,
   "metadata": {},
   "outputs": [],
   "source": [
    "from functools import cache\n",
    "\"\"\"\"\n",
    "You are given a 0-indexed m x n binary matrix grid. \n",
    "You can move from a cell (row, col) to any of the cells (row + 1, col) or (row, col + 1).\n",
    "\n",
    "Return true if there is a path from (0, 0) to (m - 1, n - 1) that visits an equal number of 0's and 1's. Otherwise return false.\n",
    "\"\"\"\n",
    "class Solution:\n",
    "    def isThereAPath(self, grid: List[List[int]]) -> bool:\n",
    "        \"\"\"\n",
    "            verify all the combinations using memorization\n",
    "        \"\"\"\n",
    "        cols = len(grid[0])\n",
    "        rows = len(grid)\n",
    "        @cache\n",
    "        def dp(r, c, balance):\n",
    "            if grid[r][c] == 1:\n",
    "                balance += 1\n",
    "            else:\n",
    "                balance -= 1\n",
    "\n",
    "            if r == rows - 1 and c == cols - 1:\n",
    "                return balance == 0\n",
    "            if r + 1 < rows and dp(r + 1, c, balance):\n",
    "                return True\n",
    "            if c + 1 < cols and dp(r, c+1, balance):\n",
    "                return True\n",
    "        \n",
    "        if dp(0,0, 0):\n",
    "            return True\n",
    "        return False"
   ]
  },
  {
   "cell_type": "code",
   "execution_count": 13,
   "metadata": {},
   "outputs": [
    {
     "data": {
      "text/plain": [
       "True"
      ]
     },
     "execution_count": 14,
     "metadata": {},
     "output_type": "execute_result"
    }
   ],
   "source": [
    "from functools import reduce\n",
    "\n",
    "reduce(lambda x, y: x * y, [1,2,3], 1)\n",
    "\n",
    "nums = [1,2,3,4]\n",
    "reduce(lambda x, y: x * y, nums[0:4], 1) % 2 == 0\n"
   ]
  },
  {
   "cell_type": "code",
   "execution_count": null,
   "metadata": {},
   "outputs": [],
   "source": []
  }
 ],
 "metadata": {
  "kernelspec": {
   "display_name": "myenv",
   "language": "python",
   "name": "python3"
  },
  "language_info": {
   "codemirror_mode": {
    "name": "ipython",
    "version": 3
   },
   "file_extension": ".py",
   "mimetype": "text/x-python",
   "name": "python",
   "nbconvert_exporter": "python",
   "pygments_lexer": "ipython3",
   "version": "3.12.7"
  }
 },
 "nbformat": 4,
 "nbformat_minor": 2
}
