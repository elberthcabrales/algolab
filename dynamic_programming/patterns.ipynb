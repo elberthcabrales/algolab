{
 "cells": [
  {
   "cell_type": "code",
   "execution_count": 1,
   "metadata": {},
   "outputs": [
    {
     "name": "stdout",
     "output_type": "stream",
     "text": [
      "[[9, 54, 378, 4914], [0, 6, 42, 546], [0, 0, 7, 91], [0, 0, 0, 13]]\n"
     ]
    }
   ],
   "source": [
    "\"\"\"\n",
    "GET ALL THE SUB ARRAYS IN A LIST USING A MATRIX\n",
    "\"\"\"\n",
    "nums = [9,6,7,13]\n",
    "n = len(nums)\n",
    "dp = [[0] * n for _ in range(n)]\n",
    "\n",
    "for i in range(n):\n",
    "    product = 1\n",
    "    for j in range(i, n):\n",
    "        product *= nums[j]\n",
    "        dp[i][j] = product\n",
    "\n",
    "print(dp)"
   ]
  },
  {
   "cell_type": "code",
   "execution_count": null,
   "metadata": {},
   "outputs": [],
   "source": [
    "# example of using product of subarrays\n",
    "class Solution:\n",
    "    def numSubarrayProductLessThanK(self, nums: List[int], k: int) -> int:\n",
    "        if k <= 1:\n",
    "            return 0\n",
    "\n",
    "        prefix_product = 1\n",
    "        slow = 0\n",
    "        ans = 0\n",
    "        \n",
    "        for fast, num in enumerate(nums):\n",
    "            prefix_product *= num\n",
    "\n",
    "            while prefix_product >= k:\n",
    "                prefix_product /= nums[slow]\n",
    "                slow += 1\n",
    "\n",
    "            \n",
    "            ans += fast - slow + 1\n",
    "        \n",
    "        \n",
    "        return ans"
   ]
  },
  {
   "cell_type": "code",
   "execution_count": null,
   "metadata": {},
   "outputs": [],
   "source": [
    "def sliding_window_subarray(nums):\n",
    "    n = len(nums)\n",
    "    left = 0  # Start of the window\n",
    "    current_sum = 0  # To track the sum (or other property) of the current subarray\n",
    "    result = float('-inf')  # Placeholder for the result\n",
    "\n",
    "    for right in range(n):\n",
    "        current_sum += nums[right]  # Expand the window by including nums[right]\n",
    "\n",
    "        # Perform some condition check (e.g., max/min sum, target sum, etc.)\n",
    "        while <some_condition_based_on_problem>:  # Shrink the window if needed\n",
    "            current_sum -= nums[left]\n",
    "            left += 1\n",
    "\n",
    "        # Update the result based on the current window\n",
    "        result = max(result, current_sum)  # Example: maximize the sum\n",
    "\n",
    "    return result"
   ]
  },
  {
   "cell_type": "code",
   "execution_count": null,
   "metadata": {},
   "outputs": [],
   "source": [
    "def longest_increasing_subsequence(nums):\n",
    "    n = len(nums)\n",
    "    dp = [1] * n  # dp[i] represents the length of LIS ending at index i\n",
    "\n",
    "    for i in range(1, n):\n",
    "        for j in range(i):\n",
    "            if nums[i] > nums[j]:  # Check if nums[i] can extend the subsequence ending at nums[j]\n",
    "                dp[i] = max(dp[i], dp[j] + 1)\n",
    "\n",
    "    return max(dp)  # The longest increasing subsequence length"
   ]
  },
  {
   "cell_type": "code",
   "execution_count": null,
   "metadata": {},
   "outputs": [],
   "source": [
    "def subsets(nums):\n",
    "    result = []\n",
    "    subset = []\n",
    "\n",
    "    def backtrack(start):\n",
    "        # Add the current subset to the result\n",
    "        result.append(subset[:])\n",
    "\n",
    "        # Explore further elements to include in the subset\n",
    "        for i in range(start, len(nums)):\n",
    "            subset.append(nums[i])  # Include nums[i] in the subset\n",
    "            backtrack(i + 1)        # Recur to include the next elements\n",
    "            subset.pop()            # Backtrack (remove nums[i] from the subset)\n",
    "\n",
    "    backtrack(0)\n",
    "    return result"
   ]
  }
 ],
 "metadata": {
  "kernelspec": {
   "display_name": "myenv",
   "language": "python",
   "name": "python3"
  },
  "language_info": {
   "codemirror_mode": {
    "name": "ipython",
    "version": 3
   },
   "file_extension": ".py",
   "mimetype": "text/x-python",
   "name": "python",
   "nbconvert_exporter": "python",
   "pygments_lexer": "ipython3",
   "version": "3.12.7"
  }
 },
 "nbformat": 4,
 "nbformat_minor": 2
}
