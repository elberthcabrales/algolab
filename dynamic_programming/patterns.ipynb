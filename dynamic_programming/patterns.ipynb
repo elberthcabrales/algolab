{
 "cells": [
  {
   "cell_type": "code",
   "execution_count": 1,
   "metadata": {},
   "outputs": [
    {
     "name": "stdout",
     "output_type": "stream",
     "text": [
      "[[9, 54, 378, 4914], [0, 6, 42, 546], [0, 0, 7, 91], [0, 0, 0, 13]]\n"
     ]
    }
   ],
   "source": [
    "\"\"\"\n",
    "GET ALL THE SUB ARRAYS IN A LIST USING A MATRIX\n",
    "\"\"\"\n",
    "nums = [9,6,7,13]\n",
    "n = len(nums)\n",
    "dp = [[0] * n for _ in range(n)]\n",
    "\n",
    "for i in range(n):\n",
    "    product = 1\n",
    "    for j in range(i, n):\n",
    "        product *= nums[j]\n",
    "        dp[i][j] = product\n",
    "\n",
    "print(dp)"
   ]
  }
 ],
 "metadata": {
  "kernelspec": {
   "display_name": "myenv",
   "language": "python",
   "name": "python3"
  },
  "language_info": {
   "codemirror_mode": {
    "name": "ipython",
    "version": 3
   },
   "file_extension": ".py",
   "mimetype": "text/x-python",
   "name": "python",
   "nbconvert_exporter": "python",
   "pygments_lexer": "ipython3",
   "version": "3.12.7"
  }
 },
 "nbformat": 4,
 "nbformat_minor": 2
}
