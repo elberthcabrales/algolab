{
 "cells": [
  {
   "cell_type": "code",
   "execution_count": 1,
   "id": "4c58de87",
   "metadata": {},
   "outputs": [
    {
     "data": {
      "text/plain": [
       "42"
      ]
     },
     "execution_count": 1,
     "metadata": {},
     "output_type": "execute_result"
    }
   ],
   "source": [
    "def catalan(n):\n",
    "  memo = {}\n",
    "  def fn(i: int) -> int:\n",
    "    if i == 0:\n",
    "      return 1\n",
    "      \n",
    "    if i in  memo:\n",
    "      return memo[i]\n",
    "      \n",
    "    sum = 0\n",
    "    for j in range(i):\n",
    "      sum += fn(j) * fn(i-1-j)\n",
    "      \n",
    "    memo[i] = sum\n",
    "    return memo[i]\n",
    "\n",
    "  return fn(n)\n",
    "\n",
    "# Test the function\n",
    "catalan(5)  # Example usage, should return 42"
   ]
  },
  {
   "cell_type": "code",
   "execution_count": null,
   "id": "e2c74b49",
   "metadata": {},
   "outputs": [
    {
     "data": {
      "text/plain": [
       "inf"
      ]
     },
     "execution_count": 1,
     "metadata": {},
     "output_type": "execute_result"
    }
   ],
   "source": [
    "# Available numbers are 1, 3, and 4\n",
    "def count_ways(n):\n",
    "  # replace this placeholder return statement with your code\n",
    "  \n",
    "  dp = [0] * (n + 1)\n",
    "  dp[0] = 1\n",
    "\n",
    "  for i in range(1, n + 1):\n",
    "    dp[i] = 0 if i - 1 < 0 else dp[i - 1]\n",
    "    dp[i] = 0 if i - 3 < 0 else dp[i - 3]\n",
    "    dp[i] = 0 if i - 4 < 0 else dp[i - 4]\n",
    "      \n",
    "  return dp[n]\n",
    "\n",
    "def count_waysTD(n):\n",
    "  # replace this placeholder return statement with your code\n",
    "  memo = {}\n",
    "  def fn(i: int) -> int:\n",
    "    if i > n:\n",
    "      return 0\n",
    "    if i == n:\n",
    "      return 1\n",
    "    if i in memo:\n",
    "      return memo[i]\n",
    "    \n",
    "    memo[i] = fn(i + 1) + fn(i + 3) + fn(i +4)\n",
    "    \n",
    "    return memo[i]\n",
    "  return fn(0)\n",
    "\n"
   ]
  },
  {
   "cell_type": "code",
   "execution_count": null,
   "id": "fae557ce",
   "metadata": {},
   "outputs": [],
   "source": [
    "def find_unique_path(matrix):\n",
    "    # the length of 2d matrix will be equal to the number of rows\n",
    "    rows = len(matrix)  \n",
    "\n",
    "    # The number of elements in 1st row are equal to the number of columns in 2d matrix\n",
    "    column = len(matrix[0]) \n",
    "\n",
    "    pathArray = [[-1 for index1 in range(column)]for index2 in range(rows)]\n",
    "    def find_unique_path_memoization(i, j, row, cols, matrix, pathArray):\n",
    "\n",
    "        # check the boundary constraints\n",
    "        if (i == row or j == cols):\n",
    "            return 0\n",
    "        \n",
    "        # check if obstacle is present or not \n",
    "        if (matrix[i][j] == 1):\n",
    "            return 0\n",
    "        \n",
    "        # check the base case when the last cell is reached\n",
    "        if (i == row-1 and j == cols-1):\n",
    "            return 1\n",
    "            \n",
    "        if (pathArray[i][j] != -1):\n",
    "            return pathArray[i][j]\n",
    "        \n",
    "        pathArray[i][j] = find_unique_path_memoization(i+1, j, row, cols, matrix, pathArray) + find_unique_path_memoization(i, j+1 , row, cols, matrix, pathArray)\n",
    "        return pathArray[i][j]\n",
    "\n",
    "    return find_unique_path_memoization(0, 0, rows, column, matrix, pathArray)\n"
   ]
  },
  {
   "cell_type": "code",
   "execution_count": 2,
   "id": "0fb12ade",
   "metadata": {},
   "outputs": [],
   "source": [
    "#https://leetcode.com/problems/minimum-path-sum/?envType=problem-list-v2&envId=dynamic-programming\n",
    "from typing import List\n",
    "\n",
    "\n",
    "class Solution:\n",
    "    def minPathSum(self, grid: List[List[int]]) -> int:\n",
    "        len_col = len(grid[0])\n",
    "        len_row = len(grid)\n",
    "\n",
    "        dp = [[0] * len_col for _ in range(len_row)]\n",
    "\n",
    "        dp[0][0] = grid[0][0]\n",
    "        for r in range(1, len_row):\n",
    "            dp[r][0] = dp[r-1][0] + grid[r][0]\n",
    "        \n",
    "        for c in range(1, len_col):\n",
    "            dp[0][c] = dp[0][c - 1] + grid[0][c]\n",
    "\n",
    "        \n",
    "        for row in range(1, len_row):\n",
    "            for col in range(1, len_col):\n",
    "                dp[row][col] = min(dp[row-1][col], dp[row][col - 1])  + grid[row][col]\n",
    "\n",
    "        \n",
    "        return dp[len_row - 1][len_col -1]\n",
    "    \n",
    "    def minPathSum(self, grid: List[List[int]]) -> int:\n",
    "        rows, cols = len(grid), len(grid[0])\n",
    "        memo = {}\n",
    "        \n",
    "        def dp(r: int, c: int) -> int:\n",
    "            # Base case: reached target\n",
    "            if r == rows - 1 and c == cols - 1:\n",
    "                return grid[r][c]\n",
    "            \n",
    "            # Out of bounds\n",
    "            if r >= rows or c >= cols:\n",
    "                return float('inf')\n",
    "                \n",
    "            # Check memo\n",
    "            if (r, c) in memo:\n",
    "                return memo[(r, c)]\n",
    "            \n",
    "            # Recurrence: min of going right or down\n",
    "            memo[(r, c)] = grid[r][c] + min(\n",
    "                dp(r + 1, c),    # go down\n",
    "                dp(r, c + 1)     # go right\n",
    "            )\n",
    "            \n",
    "            return memo[(r, c)]\n",
    "        \n",
    "        return dp(0, 0)\n",
    "        "
   ]
  }
 ],
 "metadata": {
  "kernelspec": {
   "display_name": ".venv (3.12.3)",
   "language": "python",
   "name": "python3"
  },
  "language_info": {
   "codemirror_mode": {
    "name": "ipython",
    "version": 3
   },
   "file_extension": ".py",
   "mimetype": "text/x-python",
   "name": "python",
   "nbconvert_exporter": "python",
   "pygments_lexer": "ipython3",
   "version": "3.12.3"
  }
 },
 "nbformat": 4,
 "nbformat_minor": 5
}
