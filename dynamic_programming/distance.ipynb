{
 "cells": [
  {
   "cell_type": "code",
   "execution_count": 2,
   "metadata": {},
   "outputs": [
    {
     "name": "stdout",
     "output_type": "stream",
     "text": [
      "Edit distance between 'a' and 'b' is 1\n"
     ]
    }
   ],
   "source": [
    "def edit_distance(str1: str, str2: str) -> int:\n",
    "    m, n = len(str1), len(str2)\n",
    "    \n",
    "    # Create a DP table to store results of subproblems\n",
    "    dp = [[0] * (n + 1) for _ in range(m + 1)]\n",
    "\n",
    "    # Initialize the first row and column\n",
    "    for i in range(m + 1):\n",
    "        dp[i][0] = i\n",
    "\n",
    "    for j in range(n + 1):\n",
    "        dp[0][j] = j\n",
    "\n",
    "        \n",
    "    for i in range(1, m + 1):\n",
    "        for j in range(1, n + 1):\n",
    "            if str1[i - 1] == str2[j - 1]:\n",
    "                dp[i][j] = dp[i - 1][j - 1]  # If last characters are the same, ignore them\n",
    "            else:\n",
    "                dp[i][j] = 1 + min(dp[i - 1][j],    # Remove\n",
    "                                   dp[i][j - 1],    # Insert\n",
    "                                   dp[i - 1][j - 1])  # Replace\n",
    "\n",
    "    return dp[m][n]\n",
    "\n",
    "# Example usage\n",
    "str1 = \"a\"\n",
    "str2 = \"b\"\n",
    "print(f\"Edit distance between '{str1}' and '{str2}' is {edit_distance(str1, str2)}\")"
   ]
  }
 ],
 "metadata": {
  "kernelspec": {
   "display_name": "myenv",
   "language": "python",
   "name": "python3"
  },
  "language_info": {
   "codemirror_mode": {
    "name": "ipython",
    "version": 3
   },
   "file_extension": ".py",
   "mimetype": "text/x-python",
   "name": "python",
   "nbconvert_exporter": "python",
   "pygments_lexer": "ipython3",
   "version": "3.12.7"
  }
 },
 "nbformat": 4,
 "nbformat_minor": 2
}
