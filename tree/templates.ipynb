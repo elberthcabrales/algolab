{
 "cells": [
  {
   "cell_type": "code",
   "execution_count": 71,
   "metadata": {},
   "outputs": [
    {
     "data": {
      "text/plain": [
       "9"
      ]
     },
     "execution_count": 71,
     "metadata": {},
     "output_type": "execute_result"
    }
   ],
   "source": [
    "#BSF\n",
    "# Definition for a binary tree node.\n",
    "import math\n",
    "from collections import deque\n",
    "from typing import Optional, List\n",
    "\n",
    "\n",
    "class TreeNode:\n",
    "    def __init__(self, val=0, left=None, right=None):\n",
    "        self.val = val\n",
    "        self.left = left\n",
    "        self.right = right\n",
    "\n",
    "root = TreeNode(3)\n",
    "root.left = TreeNode(5)\n",
    "root.right = TreeNode(1)\n",
    "root.left.left = TreeNode(6)\n",
    "root.left.right = TreeNode(2)\n",
    "root.right.left = TreeNode(0)\n",
    "root.right.right = TreeNode(8)\n",
    "root.left.right.left = TreeNode(7)\n",
    "root.left.right.right = TreeNode(4)\n",
    "\"\"\"\n",
    "    Binary tree: DFS (recursive)\n",
    "    1448. Count Good Nodes in Binary Tree\n",
    "\n",
    "\"\"\"\n",
    "def binary_tree_dfs_recursive(root):\n",
    "    if not root:\n",
    "        return 0  # Example logic to count nodes\n",
    "\n",
    "    ans = 1  # Count the current node\n",
    "    ans += binary_tree_dfs_recursive(root.left)\n",
    "    ans += binary_tree_dfs_recursive(root.right)\n",
    "    return ans # Returns in each iteration creating a sum\n",
    "\n",
    "# Test case for the binary_tree_dfs_recursive function\n",
    "output_binary_tree_dfs_recursive = binary_tree_dfs_recursive(root)\n",
    "output_binary_tree_dfs_recursive\n"
   ]
  },
  {
   "cell_type": "code",
   "execution_count": 72,
   "metadata": {},
   "outputs": [
    {
     "name": "stdout",
     "output_type": "stream",
     "text": [
      "[[3], [5, 1], [6, 2, 0, 8], [7, 4]]\n"
     ]
    },
    {
     "data": {
      "text/plain": [
       "9"
      ]
     },
     "execution_count": 72,
     "metadata": {},
     "output_type": "execute_result"
    }
   ],
   "source": [
    "\"\"\"\n",
    "    Binary tree: BFS\n",
    "    where to use it?\n",
    "    199. Binary Tree Right Side View\n",
    "    1302. Deepest Leaves Sum\n",
    "    102. Binary Tree Level Order Traversal\n",
    "\"\"\"\n",
    "def binary_tree_bfs(root):\n",
    "    if not root:\n",
    "        return 0  # Example logic to count nodes\n",
    "\n",
    "    queue = deque([root])\n",
    "    count = 0  # Counter for nodes\n",
    "    levels = []\n",
    "    while queue:\n",
    "        current_length = len(queue)\n",
    "        level = []\n",
    "        for _ in range(current_length):\n",
    "            node = queue.popleft()\n",
    "            level.append(node.val)\n",
    "            count += 1  # Process the current node\n",
    "\n",
    "            if node.left:\n",
    "                queue.append(node.left)\n",
    "            if node.right:\n",
    "                queue.append(node.right)\n",
    "        levels.append(level)\n",
    "    print(levels) # [[1], [2, 3], [4, 5, 6, 7]]\n",
    "    return count\n",
    "\n",
    "\n",
    "\n",
    "# Test case for the binary_tree_bfs function\n",
    "output_binary_tree_bfs = binary_tree_bfs(root)\n",
    "output_binary_tree_bfs\n"
   ]
  },
  {
   "cell_type": "code",
   "execution_count": 73,
   "metadata": {},
   "outputs": [
    {
     "data": {
      "text/plain": [
       "4"
      ]
     },
     "execution_count": 73,
     "metadata": {},
     "output_type": "execute_result"
    }
   ],
   "source": [
    "#Conver Sorted List to binary seach Tree\n",
    "class Solution:\n",
    "    def sortedListToBST(self) -> Optional[TreeNode]:\n",
    "        \"\"\"\n",
    "            fill an array with the linked list\n",
    "        \"\"\"\n",
    "        nums = [1,2,3,4,5,6,7]\n",
    "    \n",
    "        def createTree(left: int, right: int):\n",
    "            if left > right:\n",
    "                return None\n",
    "            \n",
    "            mid = (left + right) // 2\n",
    "            root = TreeNode(nums[mid])\n",
    "            root.left = createTree(left, mid - 1)\n",
    "            root.right = createTree(mid + 1, right)\n",
    "\n",
    "            return root\n",
    "        \n",
    "        return createTree(0, len(nums) - 1)\n",
    "\n",
    "solution = Solution()\n",
    "output_sortedListToBST = solution.sortedListToBST()\n",
    "output_sortedListToBST.val"
   ]
  },
  {
   "cell_type": "code",
   "execution_count": null,
   "metadata": {},
   "outputs": [],
   "source": [
    "# Invert Binary Tree\n",
    "class Solution:\n",
    "    def invertTree(self, root: Optional[TreeNode]) -> Optional[TreeNode]:\n",
    "        if not root:\n",
    "            return None\n",
    "        \n",
    "        queue = deque([root])\n",
    "        while queue:\n",
    "            current = queue.popleft()\n",
    "            current.left, current.right = current.right, current.left\n",
    "            \n",
    "            if current.left:\n",
    "                queue.append(current.left)\n",
    "            \n",
    "            if current.right:\n",
    "                queue.append(current.right)\n",
    "        \n",
    "        return root\n",
    "    def invertTreeRecursive(self, root: Optional[TreeNode]) -> Optional[TreeNode]:\n",
    "        def dfs(node: Optional[TreeNode]):\n",
    "            if not node:\n",
    "                return None\n",
    "            \n",
    "            right = dfs(node.right)\n",
    "            left = dfs(node.left)\n",
    "            \n",
    "            node.left = right\n",
    "            node.right = left\n",
    "\n",
    "            return node\n",
    "\n",
    "        return dfs(root)"
   ]
  },
  {
   "cell_type": "code",
   "execution_count": 61,
   "metadata": {},
   "outputs": [
    {
     "name": "stdout",
     "output_type": "stream",
     "text": [
      "Preorder: [1, 2, 4, 5, 3, 6, 7]\n",
      "Inorder: [4, 2, 5, 1, 6, 3, 7]\n",
      "Postorder: [4, 5, 2, 6, 7, 3, 1]\n"
     ]
    }
   ],
   "source": [
    "# 1. Preorder Traversal (Root → Left → Right)\n",
    "def preorder_iterative(root):\n",
    "    if not root:\n",
    "        return []\n",
    "    \n",
    "    stack = [root]\n",
    "    result = []\n",
    "    \n",
    "    while stack:\n",
    "        node = stack.pop()\n",
    "        result.append(node.val)\n",
    "        \n",
    "        # Push right first so that left is processed first\n",
    "        if node.right:\n",
    "            stack.append(node.right)\n",
    "        if node.left:\n",
    "            stack.append(node.left)\n",
    "    \n",
    "    return result\n",
    "\n",
    "# IMPORTANT\n",
    "# 2. Inorder Traversal (Left → Root → Right)\n",
    "def inorder_iterative(root):\n",
    "    stack = []\n",
    "    result = []\n",
    "    current = root\n",
    "    \n",
    "    while current or stack:\n",
    "        while current:\n",
    "            stack.append(current)\n",
    "            current = current.left\n",
    "        \n",
    "        current = stack.pop()\n",
    "        result.append(current.val)\n",
    "        current = current.right\n",
    "    \n",
    "    return result\n",
    "\n",
    "# 3. Postorder Traversal (Left → Right → Root)\n",
    "def postorder_iterative(root):\n",
    "    if not root:\n",
    "        return []\n",
    "    \n",
    "    stack1 = [root]\n",
    "    result = []\n",
    "    \n",
    "    while stack1:\n",
    "        node = stack1.pop()\n",
    "        result.append(node.val)\n",
    "        \n",
    "        if node.left:\n",
    "            stack1.append(node.left)\n",
    "        if node.right:\n",
    "            stack1.append(node.right)\n",
    "    \n",
    "    return result[::-1]\n",
    "        \n",
    "\n",
    "\n",
    "print(\"Preorder:\", preorder_iterative(root))  # Output: [1, 2, 4, 5, 3, 6, 7]\n",
    "print(\"Inorder:\", inorder_iterative(root))    # Output: [4, 2, 5, 1, 6, 3, 7]\n",
    "print(\"Postorder:\", postorder_iterative(root)) # Output: [4, 5, 2, 6, 7, 3, 1]\n"
   ]
  },
  {
   "cell_type": "code",
   "execution_count": 62,
   "metadata": {},
   "outputs": [
    {
     "name": "stdout",
     "output_type": "stream",
     "text": [
      "1\n"
     ]
    }
   ],
   "source": [
    "class Solution:\n",
    "    def isValidBST(self, root: Optional[TreeNode]) -> bool:\n",
    "        \"\"\"\n",
    "            handle prevLeft and prevUpper to validate current val\n",
    "        \"\"\"\n",
    "        return self.validator(root, math.inf, -math.inf)\n",
    "    def validator(self, node: Optional[TreeNode], left: int, right: int) -> bool:\n",
    "        if node is None:\n",
    "            return True\n",
    "        \n",
    "        val = node.val\n",
    "        if left <= val:\n",
    "            return False\n",
    "        if right >= val:\n",
    "            return False\n",
    "\n",
    "        # val as param is the prev\n",
    "        if not self.validator(node.left, val, right):\n",
    "            return False \n",
    "        if not self.validator(node.right, left, val):\n",
    "            return False\n",
    "\n",
    "        return True\n",
    "\n",
    "# Test case for the isValidBST function\n",
    "print(root.val)"
   ]
  },
  {
   "cell_type": "code",
   "execution_count": 11,
   "metadata": {},
   "outputs": [
    {
     "name": "stdout",
     "output_type": "stream",
     "text": [
      "True\n",
      "False\n"
     ]
    }
   ],
   "source": [
    "class Solution:\n",
    "    def verifyPreorder(self, preorder: List[int]) -> bool:\n",
    "        antecessor = -math.inf\n",
    "        stack = []\n",
    "        for num in preorder:\n",
    "            while stack and stack[-1] < num:\n",
    "                antecessor = stack.pop()\n",
    "            \n",
    "            if antecessor > num:\n",
    "                return False\n",
    "            stack.append(num)\n",
    "        return True\n",
    "# Test case for the isValidBST function\n",
    "s = Solution()\n",
    "first = [5,2,1,3,6]\n",
    "print(s.verifyPreorder(first))# False\n",
    "second = [5,2,6,1,3]\n",
    "print(s.verifyPreorder(second)) # True"
   ]
  },
  {
   "cell_type": "code",
   "execution_count": null,
   "metadata": {},
   "outputs": [],
   "source": [
    "# https://leetcode.com/problems/convert-bst-to-greater-tree/description/\n",
    "class Solution:\n",
    "    def convertBSTNoOptimus(self, root: Optional[TreeNode]) -> Optional[TreeNode]:\n",
    "        accum = [0]\n",
    "        def postorder(node):\n",
    "            if node is None:\n",
    "                return None\n",
    "\n",
    "            postorder(node.right)\n",
    "            accum.append(node.val + accum[-1])\n",
    "            node.val = accum[-1]\n",
    "            postorder(node.left)\n",
    "        postorder(root)\n",
    "\n",
    "        return root\n",
    "\n",
    "    def convertBST(self, root: Optional[TreeNode]) -> Optional[TreeNode]:\n",
    "        total = 0\n",
    "        stack = []\n",
    "        current = root\n",
    "        while stack or current:\n",
    "            while current:\n",
    "                stack.append(current)\n",
    "                current = current.right\n",
    "            \n",
    "            current = stack.pop()\n",
    "            total += current.val\n",
    "            current.val = total\n",
    "\n",
    "            current = current.left\n",
    "        \n",
    "        return root"
   ]
  },
  {
   "cell_type": "code",
   "execution_count": 35,
   "metadata": {},
   "outputs": [
    {
     "name": "stdout",
     "output_type": "stream",
     "text": [
      "2\n",
      "1\n",
      "3\n"
     ]
    }
   ],
   "source": [
    "class Codec:\n",
    "    def deserialize(self, data: str) -> Optional[TreeNode]:\n",
    "        \"\"\"Decodes your encoded data to tree using BST properties.\"\"\"\n",
    "        if not data:\n",
    "            return None\n",
    "        \n",
    "        values = list(map(int, data.split(\",\")))\n",
    "        \n",
    "        def build_bst(min_val, max_val):\n",
    "            if not values or values[0] < min_val or values[0] > max_val:\n",
    "                return None\n",
    "            \n",
    "            val = values.pop(0)\n",
    "            node = TreeNode(val)\n",
    "            node.left = build_bst(min_val, val)\n",
    "            node.right = build_bst(val, max_val)\n",
    "            \n",
    "            return node\n",
    "        \n",
    "        return build_bst(float('-inf'), float('inf'))\n",
    "\n",
    "    # FOR SORTED IN PREORDER\n",
    "    s = Codec()\n",
    "    root = s.deserialize(\"2,1,3\")\n",
    "    print(root.val) # 2\n",
    "    print(root.left.val) # 1\n",
    "    print(root.right.val) # 3"
   ]
  },
  {
   "cell_type": "code",
   "execution_count": 80,
   "metadata": {},
   "outputs": [
    {
     "name": "stdout",
     "output_type": "stream",
     "text": [
      "5\n"
     ]
    }
   ],
   "source": [
    "class Solution:\n",
    "    def __init__(self):\n",
    "        self.ans = 0\n",
    "    def compute(self, node):\n",
    "        if node is None:\n",
    "            return 0, 0 # sum of val and number of nodes\n",
    "\n",
    "        left = self.compute(node.left)\n",
    "        right = self.compute(node.right)\n",
    "\n",
    "        sum_val = left[0] + right[0] + node.val\n",
    "        counter = left[1] + right[1] + 1\n",
    "\n",
    "        if (sum_val // counter) == node.val:\n",
    "            self.ans += 1\n",
    "\n",
    "        return sum_val, counter\n",
    "\n",
    "\n",
    "    def averageOfSubtree(self, root: TreeNode) -> int:\n",
    "        self.compute(root)\n",
    "\n",
    "        return self.ans\n",
    "s = Solution()\n",
    "print(s.averageOfSubtree(root)) # 1"
   ]
  },
  {
   "cell_type": "code",
   "execution_count": 68,
   "metadata": {},
   "outputs": [
    {
     "data": {
      "text/plain": [
       "1"
      ]
     },
     "execution_count": 68,
     "metadata": {},
     "output_type": "execute_result"
    }
   ],
   "source": [
    "class Solution:\n",
    "    def lowestCommonAncestor(self, root: 'TreeNode', p: 'TreeNode', q: 'TreeNode') -> 'TreeNode':\n",
    "        if root is None:\n",
    "            return root\n",
    "        # case\n",
    "        # Input: root = [3,5,1,6,2,0,8,null,null,7,4], p = 5, q = 4\n",
    "        if root == q or root == p:\n",
    "            return root\n",
    "        \n",
    "        left = self.lowestCommonAncestor(root.left, p, q)\n",
    "        right = self.lowestCommonAncestor(root.right, p, q)\n",
    "\n",
    "        # case \n",
    "        # Input: root = [3,5,1,6,2,0,8,null,null,7,4], p = 5, q = 1\n",
    "        if left and right:\n",
    "            return root\n",
    "        \n",
    "        if left:\n",
    "            return left\n",
    "\n",
    "        # case 3 when exist only one leaf\n",
    "        return right\n",
    "# Test case for the lowestCommonAncestor function\n",
    "\n",
    "\n",
    "s = Solution()\n",
    "p = root.left\n",
    "q = root.right\n",
    "output_lowestCommonAncestor = s.lowestCommonAncestor(root, p, q)\n",
    "output_lowestCommonAncestor.val"
   ]
  }
 ],
 "metadata": {
  "kernelspec": {
   "display_name": "myenv",
   "language": "python",
   "name": "python3"
  },
  "language_info": {
   "codemirror_mode": {
    "name": "ipython",
    "version": 3
   },
   "file_extension": ".py",
   "mimetype": "text/x-python",
   "name": "python",
   "nbconvert_exporter": "python",
   "pygments_lexer": "ipython3",
   "version": "3.12.7"
  }
 },
 "nbformat": 4,
 "nbformat_minor": 2
}
