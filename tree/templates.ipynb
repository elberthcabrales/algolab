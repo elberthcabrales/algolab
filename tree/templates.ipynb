{
 "cells": [
  {
   "cell_type": "code",
   "execution_count": null,
   "metadata": {},
   "outputs": [
    {
     "data": {
      "text/plain": [
       "3"
      ]
     },
     "execution_count": 1,
     "metadata": {},
     "output_type": "execute_result"
    }
   ],
   "source": [
    "\"\"\"\n",
    "    Binary tree: DFS (recursive)\n",
    "    1448. Count Good Nodes in Binary Tree\n",
    "\n",
    "\"\"\"\n",
    "def binary_tree_dfs_recursive(root):\n",
    "    if not root:\n",
    "        return 0  # Example logic to count nodes\n",
    "\n",
    "    ans = 1  # Count the current node\n",
    "    ans += binary_tree_dfs_recursive(root.left)\n",
    "    ans += binary_tree_dfs_recursive(root.right)\n",
    "    return ans\n",
    "\n",
    "# Define a simple binary tree for testing: 1 -> (2, 3)\n",
    "class TreeNode:\n",
    "    def __init__(self, val=0, left=None, right=None):\n",
    "        self.val = val\n",
    "        self.left = left\n",
    "        self.right = right\n",
    "\n",
    "# Creating the binary tree: \n",
    "#         1\n",
    "#        / \\\n",
    "#       2   3\n",
    "root = TreeNode(1)\n",
    "root.left = TreeNode(2)\n",
    "root.right = TreeNode(3)\n",
    "\n",
    "# Test case for the binary_tree_dfs_recursive function\n",
    "output_binary_tree_dfs_recursive = binary_tree_dfs_recursive(root)\n",
    "output_binary_tree_dfs_recursive\n"
   ]
  },
  {
   "cell_type": "code",
   "execution_count": null,
   "metadata": {},
   "outputs": [],
   "source": [
    "\"\"\"\n",
    "    Binary tree: DFS (iterative)\n",
    "\"\"\"\n",
    "def binary_tree_dfs_iterative(root):\n",
    "    if not root:\n",
    "        return 0  # Example logic to count nodes\n",
    "\n",
    "    stack = [root]\n",
    "    count = 0  # Counter for nodes\n",
    "\n",
    "    while stack:\n",
    "        node = stack.pop()\n",
    "        count += 1  # Process the current node\n",
    "\n",
    "        if node.right:\n",
    "            stack.append(node.right)\n",
    "        if node.left:\n",
    "            stack.append(node.left)\n",
    "\n",
    "    return count\n",
    "\n",
    "# Creating the binary tree: \n",
    "#         1\n",
    "#        / \\\n",
    "#       2   3\n",
    "root = TreeNode(1)\n",
    "root.left = TreeNode(2)\n",
    "root.right = TreeNode(3)\n",
    "\n",
    "# Test case for the binary_tree_dfs_iterative function\n",
    "output_binary_tree_dfs_iterative = binary_tree_dfs_iterative(root)\n",
    "output_binary_tree_dfs_iterative\n"
   ]
  },
  {
   "cell_type": "code",
   "execution_count": null,
   "metadata": {},
   "outputs": [
    {
     "data": {
      "text/plain": [
       "3"
      ]
     },
     "execution_count": 2,
     "metadata": {},
     "output_type": "execute_result"
    }
   ],
   "source": [
    "\"\"\"\n",
    "    Binary tree: BFS\n",
    "    where to use it?\n",
    "    199. Binary Tree Right Side View\n",
    "    1302. Deepest Leaves Sum\n",
    "    102. Binary Tree Level Order Traversal\n",
    "\"\"\"\n",
    "from collections import deque\n",
    "\n",
    "def binary_tree_bfs(root):\n",
    "    if not root:\n",
    "        return 0  # Example logic to count nodes\n",
    "\n",
    "    queue = deque([root])\n",
    "    count = 0  # Counter for nodes\n",
    "\n",
    "    while queue:\n",
    "        current_length = len(queue)\n",
    "        for _ in range(current_length):\n",
    "            node = queue.popleft()\n",
    "            count += 1  # Process the current node\n",
    "\n",
    "            if node.left:\n",
    "                queue.append(node.left)\n",
    "            if node.right:\n",
    "                queue.append(node.right)\n",
    "\n",
    "    return count\n",
    "\n",
    "# Creating the binary tree: \n",
    "#         1\n",
    "#        / \\\n",
    "#       2   3\n",
    "root = TreeNode(1)\n",
    "root.left = TreeNode(2)\n",
    "root.right = TreeNode(3)\n",
    "\n",
    "# Test case for the binary_tree_bfs function\n",
    "output_binary_tree_bfs = binary_tree_bfs(root)\n",
    "output_binary_tree_bfs\n"
   ]
  }
 ],
 "metadata": {
  "kernelspec": {
   "display_name": "myenv",
   "language": "python",
   "name": "python3"
  },
  "language_info": {
   "codemirror_mode": {
    "name": "ipython",
    "version": 3
   },
   "file_extension": ".py",
   "mimetype": "text/x-python",
   "name": "python",
   "nbconvert_exporter": "python",
   "pygments_lexer": "ipython3",
   "version": "3.12.7"
  }
 },
 "nbformat": 4,
 "nbformat_minor": 2
}
