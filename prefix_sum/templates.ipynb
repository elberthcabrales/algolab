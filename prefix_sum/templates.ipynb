{
 "cells": [
  {
   "cell_type": "code",
   "execution_count": 1,
   "metadata": {},
   "outputs": [
    {
     "data": {
      "text/plain": [
       "[True, True, False]"
      ]
     },
     "execution_count": 1,
     "metadata": {},
     "output_type": "execute_result"
    }
   ],
   "source": [
    "# Sample implementation of the answer_queries method with example input to test\n",
    "\n",
    "class Templates:\n",
    "    def answer_queries(self, nums, queries, limit):\n",
    "        n = len(nums)\n",
    "        prefix = [0] * (n + 1)\n",
    "        for i in range(n):\n",
    "            prefix[i + 1] = prefix[i] + nums[i]\n",
    "\n",
    "        ans = []\n",
    "\n",
    "        for x, y in queries:\n",
    "            curr = prefix[y + 1] - prefix[x]\n",
    "            ans.append(curr < limit)\n",
    "\n",
    "        return ans\n",
    "\n",
    "# Test case for the answer_queries method\n",
    "template = Templates()\n",
    "nums = [1, 2, 3, 4, 5]\n",
    "queries = [[0, 2], [1, 3], [0, 4]]\n",
    "limit = 10\n",
    "output_answer_queries = template.answer_queries(nums, queries, limit)\n",
    "output_answer_queries\n"
   ]
  }
 ],
 "metadata": {
  "kernelspec": {
   "display_name": "myenv",
   "language": "python",
   "name": "python3"
  },
  "language_info": {
   "codemirror_mode": {
    "name": "ipython",
    "version": 3
   },
   "file_extension": ".py",
   "mimetype": "text/x-python",
   "name": "python",
   "nbconvert_exporter": "python",
   "pygments_lexer": "ipython3",
   "version": "3.12.7"
  }
 },
 "nbformat": 4,
 "nbformat_minor": 2
}
