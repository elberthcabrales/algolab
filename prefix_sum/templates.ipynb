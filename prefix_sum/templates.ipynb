{
 "cells": [
  {
   "cell_type": "code",
   "execution_count": null,
   "metadata": {},
   "outputs": [
    {
     "data": {
      "text/plain": [
       "[True, True, False]"
      ]
     },
     "execution_count": 2,
     "metadata": {},
     "output_type": "execute_result"
    }
   ],
   "source": [
    "# Sample implementation of the answer_queries method with example input to test\n",
    "\n",
    "class Templates:\n",
    "    def answer_queries(self, nums, queries, limit):\n",
    "        n = len(nums)\n",
    "        prefix = [0] * (n + 1)\n",
    "        for i in range(n):\n",
    "            prefix[i + 1] = prefix[i] + nums[i]\n",
    "\n",
    "        ans = []\n",
    "\n",
    "        # [0, 1, 3, 6, 10, 15]\n",
    "        for x, y in queries:\n",
    "            curr = prefix[y + 1] - prefix[x]\n",
    "            ans.append(curr < limit)\n",
    "\n",
    "        return ans\n",
    "\n",
    "# Test case for the answer_queries method\n",
    "template = Templates()\n",
    "nums = [1, 2, 3, 4, 5]\n",
    "queries = [[0, 2], [1, 3], [0, 4]]\n",
    "limit = 10\n",
    "output_answer_queries = template.answer_queries(nums, queries, limit)\n",
    "output_answer_queries\n"
   ]
  },
  {
   "cell_type": "code",
   "execution_count": null,
   "metadata": {},
   "outputs": [
    {
     "data": {
      "text/plain": [
       "2"
      ]
     },
     "execution_count": 1,
     "metadata": {},
     "output_type": "execute_result"
    }
   ],
   "source": [
    "from typing import List\n",
    "\n",
    "# https://leetcode.com/problems/number-of-ways-to-split-array/\n",
    "class Solution:\n",
    "    def waysToSplitArray(self, nums: List[int]) -> int:\n",
    "        \"\"\"\n",
    "        Input: nums = [10,4,-8,7]\n",
    "        [10,14,6,13]\n",
    "        10, 3 because 13 - 10 true\n",
    "        14, -1 because 13 - 14 true\n",
    "        6, 7   necaise 13 - 6 false\n",
    "        \"\"\"\n",
    "        ans = 0\n",
    "        n = len(nums)\n",
    "        prefix_sum = [0] * n\n",
    "        prefix_sum[0] = nums[0]\n",
    "\n",
    "        for i in range(1, n):\n",
    "            prefix_sum[i] = prefix_sum[i - 1] + nums[i]\n",
    "\n",
    "        for i in range(n - 1):\n",
    "            sum_left = prefix_sum[i]\n",
    "            sum_right = prefix_sum[n - 1] - prefix_sum[i]\n",
    "\n",
    "            ans += 1 if sum_left >= sum_right else 0\n",
    "        \n",
    "        return ans\n",
    "\n",
    "# Test case for the waysToSplitArray method\n",
    "solution = Solution()\n",
    "nums = [10, 4, -8, 7]\n",
    "output_waysToSplitArray = solution.waysToSplitArray(nums)\n",
    "output_waysToSplitArray"
   ]
  },
  {
   "cell_type": "code",
   "execution_count": null,
   "metadata": {},
   "outputs": [],
   "source": [
    "# https://leetcode.com/problems/maximum-number-of-vowels-in-a-substring-of-given-length/\n",
    "class Solution:\n",
    "    def maxVowels(self, s: str, k: int) -> int:\n",
    "        vowels = {\"a\",\"e\",\"i\",\"o\",\"u\"}\n",
    "        max_vowels = 0\n",
    "        current = 0\n",
    "\n",
    "        for i in range(k):\n",
    "            if s[i] in vowels:\n",
    "                current += 1\n",
    "            \n",
    "        max_vowels = max(current,max_vowels)\n",
    "\n",
    "        for right in range(k,len(s)):\n",
    "            if s[right] in vowels:\n",
    "                current += 1\n",
    "            if s[right - k] in vowels:\n",
    "                current -= 1\n",
    "            \n",
    "            max_vowels = max(max_vowels, current)\n",
    "            \n",
    "\n",
    "        return max_vowels"
   ]
  },
  {
   "cell_type": "code",
   "execution_count": null,
   "metadata": {},
   "outputs": [],
   "source": [
    "# https://leetcode.com/problems/find-pivot-index/\n",
    "class Solution:\n",
    "    def pivotIndex(self, nums: List[int]) -> int:\n",
    "        n = len(nums)\n",
    "        prefix_sum = [0] * (n + 1)\n",
    "        for i in range(n):\n",
    "            prefix_sum[i + 1] = prefix_sum[i] + nums[i]\n",
    "        prefix_sum\n",
    "\n",
    "        for i in range(n):\n",
    "            # [0,1,8,11,17,22,28]\n",
    "            num = nums[i]\n",
    "            if prefix_sum[i] == prefix_sum[n] -  prefix_sum[i + 1]:\n",
    "                return i\n",
    "        \n",
    "        return -1"
   ]
  },
  {
   "cell_type": "code",
   "execution_count": null,
   "metadata": {},
   "outputs": [],
   "source": [
    "# https://leetcode.com/problems/count-vowel-strings-in-ranges/\n",
    "class Solution:\n",
    "    def vowelStrings(self, words: List[str], queries: List[List[int]]) -> List[int]:\n",
    "        vowel = set(['a','e','i','o','u'])\n",
    "        prefix_sum = [0] * (len(words) + 1)\n",
    "\n",
    "        for i, word in enumerate(words):\n",
    "            val = 1 if word[0] in vowel and word[-1] in vowel else 0\n",
    "            prefix_sum[i + 1] = prefix_sum[i] + val\n",
    "        \n",
    "        ans = []\n",
    "        for l, r in queries:\n",
    "            ans.append(prefix_sum[r + 1] - prefix_sum[l])\n",
    "\n",
    "        \n",
    "        return ans"
   ]
  },
  {
   "cell_type": "code",
   "execution_count": null,
   "metadata": {},
   "outputs": [],
   "source": [
    "class Solution:\n",
    "    def productExceptSelf(self, nums: List[int]) -> List[int]:\n",
    "        \"\"\"\n",
    "        Input: nums = [2,3,4,5]\n",
    "        Output: [60,40,30,24]\n",
    "        [1, 2, 6, 24]\n",
    "        [60,20,5,1]\n",
    "        \"\"\"\n",
    "        n = len(nums)\n",
    "        arrLeft = [1] *  n\n",
    "        for i in range(1, len(arrLeft)):\n",
    "            arrLeft[i] = arrLeft[i - 1] * nums[i - 1]\n",
    "\n",
    "        arrRight = [1] * n\n",
    "        for i in range(len(arrRight) - 2, -1, -1):\n",
    "            arrRight[i] = arrRight[i + 1] * nums[i + 1]\n",
    "\n",
    "     \n",
    "        for i in range(n):\n",
    "            nums[i] = arrLeft[i] * arrRight[i]\n",
    "\n",
    "        \n",
    "        return nums"
   ]
  },
  {
   "cell_type": "code",
   "execution_count": null,
   "metadata": {},
   "outputs": [],
   "source": [
    "class NumMatrix:\n",
    "\n",
    "    def __init__(self, matrix: List[List[int]]):\n",
    "        \"\"\"\n",
    "            create prefix sum\n",
    "                        [0,0,0]\n",
    "            [1,2]       [0,1,3]\n",
    "            [3,4]       [0,4, 10]\n",
    "        \"\"\"\n",
    "        rows = len(matrix)\n",
    "        cols = len(matrix[0])\n",
    "        self.ps = [[0 for _ in range(cols + 1)] for _ in range(rows + 1)]\n",
    "        \n",
    "        for r in range(1, rows + 1):\n",
    "            for c in range(1, cols + 1):\n",
    "                self.ps[r][c] = self.ps[r][c - 1] + self.ps[r - 1][c] +  matrix[r - 1][c - 1] - self.ps[r - 1][c - 1]\n",
    "        \n",
    "        \n",
    "\n",
    "    def sumRegion(self, row1: int, col1: int, row2: int, col2: int) -> int:\n",
    "        \"\"\"\n",
    "            add row2,col2\n",
    "            remove row1 - 1, col2    (above)\n",
    "            remove row2, col - 1 (left)\n",
    "            add corner top left row1-1,col1-1\n",
    "        \"\"\"\n",
    "        #fix size to ps\n",
    "        row1, col1, row2, col2 =  row1 + 1, col1 + 1, row2 + 1, col2 + 1\n",
    "        \n",
    "        return self.ps[row2][col2] - self.ps[row1-1][col2] - self.ps[row2][col1 - 1] + self.ps[row1-1][col1-1]\n",
    "\n",
    "\n",
    "# Your NumMatrix object will be instantiated and called as such:\n",
    "# obj = NumMatrix(matrix)\n",
    "# param_1 = obj.sumRegion(row1,col1,row2,col2)"
   ]
  }
 ],
 "metadata": {
  "kernelspec": {
   "display_name": ".venv (3.12.3)",
   "language": "python",
   "name": "python3"
  },
  "language_info": {
   "codemirror_mode": {
    "name": "ipython",
    "version": 3
   },
   "file_extension": ".py",
   "mimetype": "text/x-python",
   "name": "python",
   "nbconvert_exporter": "python",
   "pygments_lexer": "ipython3",
   "version": "3.12.3"
  }
 },
 "nbformat": 4,
 "nbformat_minor": 2
}
