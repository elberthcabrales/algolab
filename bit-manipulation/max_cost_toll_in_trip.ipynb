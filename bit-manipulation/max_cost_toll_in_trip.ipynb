{
 "cells": [
  {
   "cell_type": "code",
   "execution_count": null,
   "metadata": {},
   "outputs": [],
   "source": [
    "from collections import defaultdict\n",
    "from functools import lru_cache\n",
    "from typing import List\n",
    "class Solution:\n",
    "    def maximumCost(self, n: int, highways: List[List[int]], k: int) -> int:\n",
    "        graph = defaultdict(list)\n",
    "\n",
    "        for i,j,c in highways:\n",
    "            graph[i].append((j,c))\n",
    "            graph[j].append((i,c))\n",
    "\n",
    "        @lru_cache(None)\n",
    "        def dfs(cur,length,mask):\n",
    "            if length == 0:\n",
    "                return 0 \n",
    "\n",
    "            max_val = -1 \n",
    "\n",
    "            for neighbor,cost in graph[cur]:\n",
    "                if not mask&(1<<neighbor) and dfs(neighbor,length-1,mask|(1<<neighbor)) != -1:\n",
    "                    max_val = max(max_val,cost + dfs(neighbor,length-1,mask|(1<<neighbor)))\n",
    "\n",
    "            return max_val\n",
    "\n",
    "        return max([dfs(i,k,1<<i) for i in range(n)])\n",
    "\n",
    "    def maximumCostBU(self, n: int, highways: List[List[int]], k: int) -> int:\n",
    "        \"\"\"\n",
    "            create graph\n",
    "            create dfs with new visit each wo\n",
    "        \"\"\"\n",
    "        graph = defaultdict(list)\n",
    "        for u,v,w in highways:\n",
    "            graph[u].append((v, w))\n",
    "            graph[v].append((u, w))\n",
    "        \n",
    "        max_val = -1\n",
    "        def dfs(start: int, index: int, accum: int, seen: set):\n",
    "            nonlocal max_val\n",
    "            if index == k:\n",
    "                max_val = max(max_val, accum)\n",
    "                return\n",
    "            \n",
    "            for neighbor, toll in graph[start]:\n",
    "                if neighbor not in seen:\n",
    "                    seen.add(neighbor)\n",
    "                    dfs(neighbor, index + 1, accum + toll, seen)\n",
    "                    seen.remove(neighbor)\n",
    "\n",
    "        \n",
    "        for i in range(n):\n",
    "            dfs(i, 0, 0, {i})\n",
    "\n",
    "        return max_val"
   ]
  }
 ],
 "metadata": {
  "kernelspec": {
   "display_name": "myenv",
   "language": "python",
   "name": "python3"
  },
  "language_info": {
   "name": "python",
   "version": "3.12.7"
  }
 },
 "nbformat": 4,
 "nbformat_minor": 2
}
