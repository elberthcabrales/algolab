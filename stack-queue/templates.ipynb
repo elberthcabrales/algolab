{
 "cells": [
  {
   "cell_type": "markdown",
   "metadata": {},
   "source": [
    "***Monotonic***"
   ]
  },
  {
   "cell_type": "code",
   "execution_count": 1,
   "metadata": {},
   "outputs": [
    {
     "data": {
      "text/plain": [
       "[2, 8]"
      ]
     },
     "execution_count": 1,
     "metadata": {},
     "output_type": "execute_result"
    }
   ],
   "source": [
    "# Refactored implementation of the monotonic_increasing_stack function\n",
    "\n",
    "def monotonic_increasing_stack(arr):\n",
    "    stack = []\n",
    "    for i in range(len(arr)):\n",
    "        while stack and arr[i] < stack[-1]:\n",
    "            stack.pop()\n",
    "        stack.append(arr[i])\n",
    "    return stack\n",
    "\n",
    "# Test case for the monotonic_increasing_stack function\n",
    "arr = [5, 3, 4, 7, 2, 8]\n",
    "output_monotonic_stack = monotonic_increasing_stack(arr)\n",
    "output_monotonic_stack\n"
   ]
  },
  {
   "cell_type": "code",
   "execution_count": 4,
   "metadata": {},
   "outputs": [
    {
     "name": "stdout",
     "output_type": "stream",
     "text": [
      "[3, 3, 5, 5, 6, 7]\n"
     ]
    }
   ],
   "source": [
    "from typing import List\n",
    "from collections import deque\n",
    "\n",
    "def maxSlidingWindow(nums: List[int], k: int) -> List[int]:\n",
    "    dq = deque()\n",
    "    res = []\n",
    "\n",
    "    for i in range(k):\n",
    "        while dq and nums[i] >= nums[dq[-1]]:\n",
    "            dq.pop()\n",
    "        dq.append(i)\n",
    "\n",
    "    res.append(nums[dq[0]])\n",
    "\n",
    "    for i in range(k, len(nums)):\n",
    "        if dq and dq[0] == i - k:\n",
    "            dq.popleft()\n",
    "        while dq and nums[i] >= nums[dq[-1]]:\n",
    "            dq.pop()\n",
    "\n",
    "        dq.append(i)\n",
    "        res.append(nums[dq[0]])\n",
    "\n",
    "    return res\n",
    "\n",
    "# Test case for the maxSlidingWindow function\n",
    "nums = [1,3,-1,-3,5,3,6,7]\n",
    "k = 3\n",
    "output_maxSlidingWindow = maxSlidingWindow(nums, k)\n",
    "print(output_maxSlidingWindow)\n",
    "    "
   ]
  },
  {
   "cell_type": "markdown",
   "metadata": {},
   "source": []
  }
 ],
 "metadata": {
  "kernelspec": {
   "display_name": "myenv",
   "language": "python",
   "name": "python3"
  },
  "language_info": {
   "codemirror_mode": {
    "name": "ipython",
    "version": 3
   },
   "file_extension": ".py",
   "mimetype": "text/x-python",
   "name": "python",
   "nbconvert_exporter": "python",
   "pygments_lexer": "ipython3",
   "version": "3.12.7"
  }
 },
 "nbformat": 4,
 "nbformat_minor": 2
}
