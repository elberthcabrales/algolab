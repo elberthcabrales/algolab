{
 "cells": [
  {
   "cell_type": "markdown",
   "metadata": {},
   "source": [
    "***Monotonic***"
   ]
  },
  {
   "cell_type": "code",
   "execution_count": 1,
   "metadata": {},
   "outputs": [
    {
     "data": {
      "text/plain": [
       "[2, 8]"
      ]
     },
     "execution_count": 1,
     "metadata": {},
     "output_type": "execute_result"
    }
   ],
   "source": [
    "# Refactored implementation of the monotonic_increasing_stack function\n",
    "\n",
    "def monotonic_increasing_stack(arr):\n",
    "    stack = []\n",
    "    for i in range(len(arr)):\n",
    "        while stack and arr[i] < stack[-1]:\n",
    "            stack.pop()\n",
    "        stack.append(arr[i])\n",
    "    return stack\n",
    "\n",
    "# Test case for the monotonic_increasing_stack function\n",
    "arr = [5, 3, 4, 7, 2, 8]\n",
    "output_monotonic_stack = monotonic_increasing_stack(arr)\n",
    "output_monotonic_stack\n"
   ]
  },
  {
   "cell_type": "code",
   "execution_count": null,
   "metadata": {},
   "outputs": [
    {
     "name": "stdout",
     "output_type": "stream",
     "text": [
      "[3, 3, 5, 5, 6, 7]\n"
     ]
    }
   ],
   "source": [
    "from typing import List\n",
    "from collections import deque\n",
    "\n",
    "def maxSlidingWindow(nums: List[int], k: int) -> List[int]:\n",
    "    dq = deque()\n",
    "    res = []\n",
    "\n",
    "    for i in range(k):\n",
    "        while dq and nums[i] >= nums[dq[-1]]:\n",
    "            dq.pop()\n",
    "        dq.append(i)\n",
    "\n",
    "    res.append(nums[dq[0]])\n",
    "\n",
    "    for i in range(k, len(nums)):\n",
    "        # keep the size of the deque equal to k\n",
    "        if dq and dq[0] == i - k:\n",
    "            dq.popleft()\n",
    "        while dq and nums[i] >= nums[dq[-1]]:\n",
    "            dq.pop()\n",
    "\n",
    "        dq.append(i)\n",
    "        res.append(nums[dq[0]])\n",
    "\n",
    "    return res\n",
    "\n",
    "# Test case for the maxSlidingWindow function\n",
    "nums = [1,3,-1,-3,5,3,6,7]\n",
    "k = 3\n",
    "output_maxSlidingWindow = maxSlidingWindow(nums, k)\n",
    "print(output_maxSlidingWindow)\n",
    "    "
   ]
  },
  {
   "cell_type": "code",
   "execution_count": 2,
   "metadata": {},
   "outputs": [
    {
     "name": "stdout",
     "output_type": "stream",
     "text": [
      "[3, 1, 2, 1, 1, 0]\n"
     ]
    }
   ],
   "source": [
    "from typing import List\n",
    "\n",
    "class Solution:\n",
    "    def canSeePersonsCount(self, heights: List[int]) -> List[int]:\n",
    "        \"\"\"\n",
    "            all the minions looks only to right\n",
    "            the last minion has 0\n",
    "            use a monotonic stack to handle bigger\n",
    "                              0 ,1,2,3,4 ,5\n",
    "            Input: heights = [10,6,8,5,11,9]\n",
    "\n",
    "            curr = 10\n",
    "            stack\n",
    "            [11]\n",
    "            ans\n",
    "            [3,1,2,1,1,0]\n",
    "             0,1,2,3,4,5\n",
    "        \"\"\"\n",
    "\n",
    "        stack = []\n",
    "        n = len(heights)\n",
    "        ans = [0] * n\n",
    "\n",
    "        for i in range(n - 1, -1, -1):\n",
    "            if stack and heights[i] > stack[-1]:    \n",
    "                while stack and stack[-1] < heights[i]:\n",
    "                    stack.pop()\n",
    "                    ans[i] += 1\n",
    "            if stack:\n",
    "                ans[i] += 1\n",
    "\n",
    "            stack.append(heights[i])\n",
    "\n",
    "        return ans\n",
    "\n",
    "# Test case for the Solution class\n",
    "heights = [10,6,8,5,11,9]\n",
    "solution = Solution()\n",
    "output_canSeePersonsCount = solution.canSeePersonsCount(heights)\n",
    "print(output_canSeePersonsCount)"
   ]
  },
  {
   "cell_type": "code",
   "execution_count": null,
   "metadata": {},
   "outputs": [
    {
     "name": "stdout",
     "output_type": "stream",
     "text": [
      "[7, 0, 5, 5, 0]\n"
     ]
    }
   ],
   "source": [
    "# Definition for singly-linked list.\n",
    "# https://leetcode.com/problems/next-greater-node-in-linked-list/\n",
    "from typing import Optional, List\n",
    "\n",
    "class ListNode:\n",
    "    def __init__(self, val=0, next=None):\n",
    "        self.val = val\n",
    "        self.next = next\n",
    "class Solution:\n",
    "    def nextLargerNodes(self, head: Optional[ListNode]) -> List[int]:\n",
    "        values = []\n",
    "        curr = head\n",
    "        while curr:\n",
    "            values.append(curr.val)\n",
    "            curr = curr.next\n",
    "\n",
    "        answer = [0] * len(values)\n",
    "        stack = []\n",
    "        for i, value in enumerate(values):\n",
    "            while stack and values[i] > values[stack[-1]]:\n",
    "                smaller = stack.pop()\n",
    "                answer[smaller] = value\n",
    "            stack.append(i)\n",
    "        \n",
    "        return answer\n",
    "# Test case for the Solution class\n",
    "head = ListNode(2)\n",
    "head.next = ListNode(7)\n",
    "head.next.next = ListNode(4)\n",
    "head.next.next.next = ListNode(3)\n",
    "head.next.next.next.next = ListNode(5)\n",
    "solution = Solution()\n",
    "output_nextLargerNodes = solution.nextLargerNodes(head)\n",
    "print(output_nextLargerNodes)"
   ]
  },
  {
   "cell_type": "code",
   "execution_count": null,
   "metadata": {},
   "outputs": [],
   "source": [
    "class Solution:\n",
    "    def dailyTemperatures(self, temperatures: List[int]) -> List[int]:\n",
    "        \"\"\"\n",
    "            Input: temperatures = [73,74,75,71,69,72,76,73]\n",
    "            curr = 76(6)\n",
    "            stack\n",
    "            [2,3,4,5]\n",
    "            ans\n",
    "            [1,1,4,2,1,0,0]\n",
    "        \"\"\"\n",
    "        stack = []\n",
    "        answer = [0] * len(temperatures)\n",
    "        \n",
    "        for i in range(len(temperatures)):\n",
    "            while stack and temperatures[stack[-1]] < temperatures[i]:\n",
    "                j = stack.pop()\n",
    "                answer[j] = i - j\n",
    "            stack.append(i)\n",
    "        \n",
    "        return answer"
   ]
  },
  {
   "cell_type": "code",
   "execution_count": null,
   "metadata": {},
   "outputs": [],
   "source": [
    "#https://leetcode.com/problems/sum-of-subarray-minimums/description/\n",
    "\n",
    "class Solution:\n",
    "    def sumSubarrayMins(self, arr: List[int]) -> int:\n",
    "        MOD = 10 ** 9 + 7\n",
    "\n",
    "        # monotonic increasing stack\n",
    "        stack = []\n",
    "\n",
    "        # make a dp array of the same size as the input array\n",
    "        dp = [0] * len(arr)\n",
    "\n",
    "        # populate monotonically increasing stack\n",
    "        for i in range(len(arr)):\n",
    "            # before pushing an element, make sure all\n",
    "            # larger and equal elements in the stack are\n",
    "            # removed\n",
    "            while stack and arr[stack[-1]] >= arr[i]:\n",
    "                stack.pop()\n",
    "\n",
    "            # calculate the sum of minimums of all subarrays\n",
    "            # ending at index i\n",
    "            if stack:\n",
    "                previousSmaller = stack[-1]\n",
    "                dp[i] = dp[previousSmaller] + (i - previousSmaller) * arr[i]\n",
    "            else:\n",
    "                dp[i] = (i + 1) * arr[i]\n",
    "            stack.append(i)\n",
    "\n",
    "        # add all the elements of dp to get the answer\n",
    "        return sum(dp) % MOD\n"
   ]
  },
  {
   "cell_type": "code",
   "execution_count": null,
   "metadata": {},
   "outputs": [],
   "source": [
    "# https://leetcode.com/problems/remove-all-adjacent-duplicates-in-string-ii/\n",
    "class Solution:\n",
    "    def removeDuplicates(self, s: str, k: int) -> str:\n",
    "        \"\"\"\n",
    "            remove adjacent with the k frequency\n",
    "        \"\"\"\n",
    "        stack = [] # [char, freq]\n",
    "        for char in s:\n",
    "            if stack and stack[-1][0] == char:\n",
    "                stack[-1][1] += 1\n",
    "                \n",
    "                if stack[-1][1] == k:\n",
    "                    stack.pop()\n",
    "            else:\n",
    "                stack.append([char, 1])\n",
    "        \n",
    "        return \"\".join([char * freq for char, freq in stack])"
   ]
  },
  {
   "cell_type": "code",
   "execution_count": 3,
   "metadata": {},
   "outputs": [
    {
     "name": "stdout",
     "output_type": "stream",
     "text": [
      "{0: ['a'], 1: ['b'], 2: ['c']}\n"
     ]
    }
   ],
   "source": [
    "def parse_levels(s: str):\n",
    "    levels = {}\n",
    "    current_level = 0\n",
    "\n",
    "    for char in s:\n",
    "        if char == '(':\n",
    "            current_level += 1\n",
    "        elif char == ')':\n",
    "            current_level -= 1\n",
    "        else:\n",
    "            if current_level not in levels:\n",
    "                levels[current_level] = []\n",
    "            levels[current_level].append(char)\n",
    "\n",
    "    return levels\n",
    "\n",
    "# Example usage\n",
    "input_string = \"a(b(c))\"\n",
    "result = parse_levels(input_string)\n",
    "print(result)"
   ]
  },
  {
   "cell_type": "code",
   "execution_count": 1,
   "metadata": {},
   "outputs": [
    {
     "name": "stdout",
     "output_type": "stream",
     "text": [
      "[-1, 3, -1]\n"
     ]
    }
   ],
   "source": [
    "# https://leetcode.com/problems/next-greater-element-i/\n",
    "from typing import List\n",
    "from collections import defaultdict\n",
    "\n",
    "from collections import defaultdict\n",
    "\n",
    "class Solution:\n",
    "    def nextGreaterElement(self, nums1: List[int], nums2: List[int]) -> List[int]:\n",
    "        # Step 1: Use a monotonic stack to preprocess `nums2`\n",
    "        next_greater = {}\n",
    "        stack = []\n",
    "        \n",
    "        for num in nums2:\n",
    "            while stack and stack[-1] < num:\n",
    "                next_greater[stack.pop()] = num\n",
    "            stack.append(num)\n",
    "        \n",
    "        while stack:\n",
    "            next_greater[stack.pop()] = -1\n",
    "        \n",
    "        # Step 2: Build the result for nums1 using the precomputed dictionary\n",
    "        return [next_greater[num] for num in nums1]\n",
    "\n",
    "# Example usage:\n",
    "solution = Solution()\n",
    "nums1 = [4, 1, 2]\n",
    "nums2 = [1, 3, 4, 2]\n",
    "result = solution.nextGreaterElement(nums1, nums2)\n",
    "print(result)  # Output: [-1, 3, -1]\n"
   ]
  },
  {
   "cell_type": "markdown",
   "metadata": {},
   "source": []
  }
 ],
 "metadata": {
  "kernelspec": {
   "display_name": ".venv",
   "language": "python",
   "name": "python3"
  },
  "language_info": {
   "codemirror_mode": {
    "name": "ipython",
    "version": 3
   },
   "file_extension": ".py",
   "mimetype": "text/x-python",
   "name": "python",
   "nbconvert_exporter": "python",
   "pygments_lexer": "ipython3",
   "version": "3.12.3"
  }
 },
 "nbformat": 4,
 "nbformat_minor": 2
}
