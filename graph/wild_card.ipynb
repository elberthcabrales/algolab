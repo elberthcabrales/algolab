{
 "cells": [
  {
   "cell_type": "code",
   "execution_count": 11,
   "id": "54206721",
   "metadata": {},
   "outputs": [
    {
     "data": {
      "text/plain": [
       "'ho*'"
      ]
     },
     "execution_count": 11,
     "metadata": {},
     "output_type": "execute_result"
    }
   ],
   "source": [
    "word = \"hot\"\n",
    "\n",
    "word[:2] + \"*\" + word[2+1:]"
   ]
  },
  {
   "cell_type": "code",
   "execution_count": null,
   "id": "deefe2e5",
   "metadata": {},
   "outputs": [],
   "source": [
    "from collections import defaultdict, deque\n",
    "class Solution:\n",
    "    def ladderLength(self, beginWord: str, endWord: str, wordList: List[str]) -> int:\n",
    "        \"\"\"\n",
    "            declare\n",
    "                graph using set\n",
    "                bucket using set (wild card pattern)\n",
    "                visited set\n",
    "            \n",
    "            apply bfs\n",
    "        \"\"\"\n",
    "        if endWord not in wordList:\n",
    "            return 0\n",
    "        \n",
    "\n",
    "        bucket = defaultdict(set)\n",
    "        graph = defaultdict(set)\n",
    "        len_word = len(beginWord) # constrain wordList[i].length == beginWord.length\n",
    "        for word in wordList + [beginWord]:\n",
    "            for i in range(len_word):\n",
    "                pattern = word[:i] + \"*\" + word[i+1:]\n",
    "                bucket[pattern].add(word)\n",
    "        \n",
    "        for word in wordList + [beginWord]:\n",
    "            for i in range(len_word):\n",
    "                pattern = word[:i] + \"*\" + word[i+1:]\n",
    "                for neighbor in bucket[pattern]:\n",
    "                    if neighbor != word: # prevent dog -> dog exactly equals\n",
    "                        graph[word].add(neighbor)\n",
    "        \n",
    "        visited = set([beginWord])\n",
    "        queue = deque([beginWord])\n",
    "        transformations = 0\n",
    "        \n",
    "        while queue:\n",
    "            size = len(queue)\n",
    "            transformations += 1\n",
    "            for _ in range(size):\n",
    "                word = queue.popleft()\n",
    "\n",
    "                if word == endWord:\n",
    "                    return transformations\n",
    "                \n",
    "                for neighbor in graph[word]:\n",
    "                    if not neighbor in visited:\n",
    "                        queue.append(neighbor)\n",
    "                    visited.add(neighbor)\n",
    "               \n",
    "        \n",
    "        return 0"
   ]
  }
 ],
 "metadata": {
  "kernelspec": {
   "display_name": ".venv",
   "language": "python",
   "name": "python3"
  },
  "language_info": {
   "codemirror_mode": {
    "name": "ipython",
    "version": 3
   },
   "file_extension": ".py",
   "mimetype": "text/x-python",
   "name": "python",
   "nbconvert_exporter": "python",
   "pygments_lexer": "ipython3",
   "version": "3.12.3"
  }
 },
 "nbformat": 4,
 "nbformat_minor": 5
}
