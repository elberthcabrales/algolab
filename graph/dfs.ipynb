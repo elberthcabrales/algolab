{
 "cells": [
  {
   "cell_type": "code",
   "execution_count": null,
   "metadata": {},
   "outputs": [
    {
     "name": "stdout",
     "output_type": "stream",
     "text": [
      "7\n"
     ]
    }
   ],
   "source": [
    "from typing import List\n",
    "\n",
    "\n",
    "class Solution:\n",
    "    def findMaxFish(self, grid: List[List[int]]) -> int:\n",
    "        adjacents = [(0,1), (1,0), (0,-1), (-1, 0)]\n",
    "        visited = set()\n",
    "        rows = len(grid)\n",
    "        cols = len(grid[0])\n",
    "        isValid = lambda r, c: 0 <= c < cols and 0 <= r < rows and grid[r][c] > 0\n",
    "\n",
    "        def dfs(row, col):\n",
    "            val = 0\n",
    "            for x, y in adjacents:\n",
    "                next_col = col + y\n",
    "                next_row = row + x\n",
    "                if (next_row, next_col) not in visited and isValid(next_row, next_col):\n",
    "                    visited.add((next_row, next_col))\n",
    "                    val += dfs(next_row, next_col) + grid[next_row][next_col]\n",
    "            \n",
    "            return val\n",
    "        \n",
    "        fishes = 0\n",
    "        for r in range(rows):\n",
    "            for c in range(cols):\n",
    "                if (r, c) not in visited and isValid(r, c):\n",
    "                    visited.add((r, c))\n",
    "                    fishes = max(fishes, dfs(r, c) + grid[r][c])\n",
    "\n",
    "        \n",
    "        return fishes\n",
    "\"\"\"\n",
    "    Input: grid = [\n",
    "        [0,2,1,0],\n",
    "        [4,0,0,3],\n",
    "        [1,0,0,4],\n",
    "        [0,3,2,0]]\n",
    "    Output: 7\n",
    "    Explanation: The fisher can start at cell (1,3) and collect 3 fish, then move to cell (2,3) and collect 4 fish.\n",
    "\"\"\"\n",
    "grid = [[0,2,1,0],[4,0,0,3],[1,0,0,4],[0,3,2,0]]\n",
    "print(Solution().findMaxFish(grid))\n"
   ]
  },
  {
   "cell_type": "code",
   "execution_count": 16,
   "metadata": {},
   "outputs": [
    {
     "name": "stdout",
     "output_type": "stream",
     "text": [
      "20\n"
     ]
    }
   ],
   "source": [
    "def recursive(t):\n",
    "    val = 0\n",
    "    if t <= 0:\n",
    "        return 0\n",
    "    val += recursive(t - 1) + 2\n",
    "\n",
    "    return val\n",
    "\n",
    "result = recursive(10)\n",
    "print(result)"
   ]
  }
 ],
 "metadata": {
  "kernelspec": {
   "display_name": "myenv",
   "language": "python",
   "name": "python3"
  },
  "language_info": {
   "codemirror_mode": {
    "name": "ipython",
    "version": 3
   },
   "file_extension": ".py",
   "mimetype": "text/x-python",
   "name": "python",
   "nbconvert_exporter": "python",
   "pygments_lexer": "ipython3",
   "version": "3.12.7"
  }
 },
 "nbformat": 4,
 "nbformat_minor": 2
}
