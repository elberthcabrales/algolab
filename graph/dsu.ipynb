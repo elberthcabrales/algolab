{
 "cells": [
  {
   "cell_type": "code",
   "execution_count": 1,
   "metadata": {},
   "outputs": [
    {
     "data": {
      "text/plain": [
       "2"
      ]
     },
     "execution_count": 1,
     "metadata": {},
     "output_type": "execute_result"
    }
   ],
   "source": [
    "\"\"\"\n",
    "You have a graph of n nodes. You are given an integer n \n",
    "and an array edges where edges[i] = [ai, bi] indicates that there is an edge between ai and bi in the graph.\n",
    "\n",
    "Return the number of connected components in the graph.\n",
    "\n",
    "\"\"\"\n",
    "\n",
    "class Solution:\n",
    "    def __init__(self):\n",
    "        pass\n",
    "\n",
    "    def find(self, representative, vertex):\n",
    "        \"\"\"Find the root of `vertex` with path compression.\"\"\"\n",
    "        if vertex == representative[vertex]:\n",
    "            return vertex\n",
    "        representative[vertex] = self.find(representative, representative[vertex])\n",
    "        return representative[vertex]\n",
    "\n",
    "    def combine(self, representative, size, vertex1, vertex2):\n",
    "        \"\"\"Combine two sets containing `vertex1` and `vertex2`.\"\"\"\n",
    "        root1 = self.find(representative, vertex1)\n",
    "        root2 = self.find(representative, vertex2)\n",
    "\n",
    "        if root1 == root2:\n",
    "            return 0  # No change in the number of components\n",
    "        else:\n",
    "            if size[root1] > size[root2]:\n",
    "                size[root1] += size[root2]\n",
    "                representative[root2] = root1\n",
    "            else:\n",
    "                size[root2] += size[root1]\n",
    "                representative[root1] = root2\n",
    "            return 1  # A component is merged\n",
    "\n",
    "    def countComponents(self, n, edges):\n",
    "        \"\"\"Count the number of connected components in a graph.\"\"\"\n",
    "        representative = list(range(n))\n",
    "        size = [1] * n\n",
    "\n",
    "        components = n\n",
    "        for edge in edges:\n",
    "            components -= self.combine(representative, size, edge[0], edge[1])\n",
    "\n",
    "        return components\n",
    "\n",
    "\n",
    "# Example usage\n",
    "n = 5\n",
    "edges = [[0, 1], [1, 2], [3, 4]]\n",
    "\n",
    "solution = Solution()\n",
    "connected_components = solution.countComponents(n, edges)\n",
    "connected_components\n"
   ]
  },
  {
   "cell_type": "code",
   "execution_count": null,
   "metadata": {},
   "outputs": [],
   "source": []
  }
 ],
 "metadata": {
  "kernelspec": {
   "display_name": "myenv",
   "language": "python",
   "name": "python3"
  },
  "language_info": {
   "codemirror_mode": {
    "name": "ipython",
    "version": 3
   },
   "file_extension": ".py",
   "mimetype": "text/x-python",
   "name": "python",
   "nbconvert_exporter": "python",
   "pygments_lexer": "ipython3",
   "version": "3.12.7"
  }
 },
 "nbformat": 4,
 "nbformat_minor": 2
}
