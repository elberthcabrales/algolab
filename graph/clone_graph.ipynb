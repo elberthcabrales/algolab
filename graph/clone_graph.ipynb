{
 "cells": [
  {
   "cell_type": "code",
   "execution_count": 3,
   "metadata": {},
   "outputs": [
    {
     "name": "stdout",
     "output_type": "stream",
     "text": [
      "<__main__.Node object at 0x7bd96c3f4530>\n"
     ]
    }
   ],
   "source": [
    "import collections\n",
    "from typing import Optional, List\n",
    "\n",
    "\n",
    "class Node:\n",
    "    def __init__(self, val = 0, neighbors = None):\n",
    "        self.val = val\n",
    "        self.neighbors = neighbors if neighbors is not None else []\n",
    "\n",
    "\n",
    "class Solution:\n",
    "    def cloneGraph(self, node: Optional['Node']) -> Optional['Node']:\n",
    "        \"\"\"\n",
    "            use the node as the reference and create a new object as value using classs Node\n",
    "            traverse the node param is an instance of Node and has neighbors\n",
    "            \n",
    "            if finds any node add neighbor\n",
    "        \"\"\"\n",
    "        if not node:\n",
    "            return node\n",
    "\n",
    "        visited = {} #create map and the key is node\n",
    "        visited[node] = Node(node.val, [])\n",
    "        queue = collections.deque([node])\n",
    "\n",
    "        while queue:\n",
    "            current_node = queue.popleft()\n",
    "\n",
    "            for neighbor in current_node.neighbors:\n",
    "                if neighbor not in visited:\n",
    "                    visited[neighbor] = Node(neighbor.val, [])\n",
    "                    queue.append(neighbor)\n",
    "                visited[current_node].neighbors.append(visited[neighbor])\n",
    "\n",
    "        \n",
    "        return visited[node]\n",
    "\n",
    "\n",
    "# TEST\n",
    "node = Node(1)\n",
    "node.neighbors = [Node(2), Node(4)]\n",
    "node.neighbors[0].neighbors = [node, Node(3)]\n",
    "node.neighbors[1].neighbors = [node, Node(3)]\n",
    "node.neighbors[0].neighbors[1].neighbors = [node.neighbors[0], node.neighbors[1]]\n",
    "\n",
    "\n",
    "s = Solution()\n",
    "print(s.cloneGraph(node))"
   ]
  },
  {
   "cell_type": "code",
   "execution_count": 3,
   "metadata": {},
   "outputs": [
    {
     "name": "stdout",
     "output_type": "stream",
     "text": [
      "empty\n"
     ]
    }
   ],
   "source": [
    "arr = []\n",
    "\n",
    "if not arr:\n",
    "    print(\"empty\")"
   ]
  }
 ],
 "metadata": {
  "kernelspec": {
   "display_name": "myenv",
   "language": "python",
   "name": "python3"
  },
  "language_info": {
   "codemirror_mode": {
    "name": "ipython",
    "version": 3
   },
   "file_extension": ".py",
   "mimetype": "text/x-python",
   "name": "python",
   "nbconvert_exporter": "python",
   "pygments_lexer": "ipython3",
   "version": "3.12.7"
  }
 },
 "nbformat": 4,
 "nbformat_minor": 2
}
