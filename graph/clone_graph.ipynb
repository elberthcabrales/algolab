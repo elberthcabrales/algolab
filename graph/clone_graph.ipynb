{
 "cells": [
  {
   "cell_type": "code",
   "execution_count": 2,
   "metadata": {},
   "outputs": [
    {
     "name": "stdout",
     "output_type": "stream",
     "text": [
      "<__main__.Node object at 0x785eb1f0b020>\n"
     ]
    }
   ],
   "source": [
    "import collections\n",
    "from typing import Optional, List\n",
    "\n",
    "class Node:\n",
    "    def __init__(self, val = 0, neighbors = None):\n",
    "        self.val = val\n",
    "        self.neighbors = neighbors if neighbors is not None else []\n",
    "\n",
    "class Solution:\n",
    "\n",
    "    def __init__(self):\n",
    "        # Dictionary to save the visited node and it's respective clone\n",
    "        # as key and value respectively. This helps to avoid cycles.\n",
    "        self.visited = {}\n",
    "\n",
    "    def cloneGraph(self, node: Optional[\"Node\"]) -> Optional[\"Node\"]:\n",
    "        if not node:\n",
    "            return node\n",
    "\n",
    "        # If the node was already visited before.\n",
    "        # Return the clone from the visited dictionary.\n",
    "        if node in self.visited:\n",
    "            return self.visited[node]\n",
    "\n",
    "        # Create a clone for the given node.\n",
    "        # Note that we don't have cloned neighbors as of now, hence [].\n",
    "        clone_node = Node(node.val, [])\n",
    "\n",
    "        # The key is original node and value being the clone node.\n",
    "        self.visited[node] = clone_node\n",
    "\n",
    "        # Iterate through the neighbors to generate their clones\n",
    "        # and prepare a list of cloned neighbors to be added to the cloned node.\n",
    "        if node.neighbors:\n",
    "            clone_node.neighbors = [self.cloneGraph(n) for n in node.neighbors]\n",
    "\n",
    "        return clone_node\n",
    "\n",
    "\n",
    "# TEST\n",
    "node = Node(1)\n",
    "node.neighbors = [Node(2), Node(4)]\n",
    "node.neighbors[0].neighbors = [node, Node(3)]\n",
    "node.neighbors[1].neighbors = [node, Node(3)]\n",
    "node.neighbors[0].neighbors[1].neighbors = [node.neighbors[0], node.neighbors[1]]\n",
    "\n",
    "\n",
    "s = Solution()\n",
    "print(s.cloneGraph(node))"
   ]
  },
  {
   "cell_type": "code",
   "execution_count": 3,
   "metadata": {},
   "outputs": [
    {
     "name": "stdout",
     "output_type": "stream",
     "text": [
      "empty\n"
     ]
    }
   ],
   "source": [
    "arr = []\n",
    "\n",
    "if not arr:\n",
    "    print(\"empty\")"
   ]
  }
 ],
 "metadata": {
  "kernelspec": {
   "display_name": ".venv (3.12.3)",
   "language": "python",
   "name": "python3"
  },
  "language_info": {
   "codemirror_mode": {
    "name": "ipython",
    "version": 3
   },
   "file_extension": ".py",
   "mimetype": "text/x-python",
   "name": "python",
   "nbconvert_exporter": "python",
   "pygments_lexer": "ipython3",
   "version": "3.12.3"
  }
 },
 "nbformat": 4,
 "nbformat_minor": 2
}
