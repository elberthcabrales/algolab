{
  "cells": [
    {
      "cell_type": "code",
      "execution_count": 47,
      "metadata": {},
      "outputs": [
        {
          "name": "stdout",
          "output_type": "stream",
          "text": [
            "[0, 1, 2, 3]\n"
          ]
        }
      ],
      "source": [
        "from collections import deque, defaultdict\n",
        "from typing import List\n",
        "#  The number of edges that can be used to reach the node is the node's indegree\n",
        "class Solution:\n",
        "    def topologicalSort(self, numNodes: int, edges: List[List[int]]) -> List[int]:\n",
        "        \"\"\"\n",
        "        Template for topological sorting using Kahn's algorithm.\n",
        "        \n",
        "        Arguments:\n",
        "        numNodes -- Total number of nodes in the graph.\n",
        "        edges -- List of directed edges [u, v] where u -> v.\n",
        "\n",
        "        Returns:\n",
        "        A list of nodes in topological order if possible; an empty list if there's a cycle.\n",
        "        \"\"\"\n",
        "        # Step 1: Initialize graph and in-degree array\n",
        "        graph = defaultdict(list)\n",
        "        in_degree = [0] * numNodes\n",
        "\n",
        "        # Step 2: Build the graph and compute in-degrees\n",
        "        for u, v in edges:\n",
        "            graph[u].append(v)\n",
        "            in_degree[v] += 1\n",
        "\n",
        "        # Step 3: Collect all nodes with in-degree 0\n",
        "        #queue = deque([node for node in range(numNodes) if in_degree[node] == 0])\n",
        "        queue = deque()\n",
        "        for node in range(numNodes):\n",
        "            if in_degree[node] == 0:\n",
        "                queue.append(node)\n",
        "        topo_order = []\n",
        "\n",
        "        # Step 4: Process nodes\n",
        "        while queue:\n",
        "            node = queue.popleft()\n",
        "            topo_order.append(node)\n",
        "\n",
        "            for neighbor in graph[node]:\n",
        "                in_degree[neighbor] -= 1\n",
        "                if in_degree[neighbor] == 0:\n",
        "                    queue.append(neighbor)\n",
        "\n",
        "        # Step 5: Check for cycles\n",
        "        if len(topo_order) != numNodes:\n",
        "            return []  # Graph has a cycle\n",
        "\n",
        "        return topo_order\n",
        "\n",
        "# test the solution with an example\n",
        "numNodes = 4\n",
        "edges = [[0, 1], [0, 2], [1, 3], [2, 3]]\n",
        "sol = Solution()\n",
        "print(sol.topologicalSort(numNodes, edges))  # Output: [0, 1, 2, 3]"
      ]
    },
    {
      "cell_type": "code",
      "execution_count": 48,
      "metadata": {},
      "outputs": [
        {
          "name": "stdout",
          "output_type": "stream",
          "text": [
            "[(1, 4), (2, 5)]\n"
          ]
        }
      ],
      "source": [
        "#test zip of two lists with different lengths\n",
        "a = [1, 2, 3]\n",
        "b = [4, 5]\n",
        "print(list(zip(a, b)))  # Output: [(1, 4), (2, 5)]\n"
      ]
    },
    {
      "cell_type": "markdown",
      "metadata": {},
      "source": [
        "***Uber fright Interview***"
      ]
    },
    {
      "cell_type": "code",
      "execution_count": 7,
      "metadata": {},
      "outputs": [],
      "source": [
        "from collections import defaultdict, deque\n",
        "from typing import Set, List\n",
        "\n",
        "class Solution:\n",
        "    def getAncestors(self, n: int, edges: List[List[int]]) -> List[List[int]]:\n",
        "        adjacency_list = defaultdict(list)\n",
        "\n",
        "        indegree = [0 for _ in range(n)]\n",
        "        for from_node, to_node in edges:\n",
        "            adjacency_list[from_node].append(to_node)\n",
        "            indegree[to_node] += 1\n",
        "\n",
        "        nodes_with_zero_indegree = [i for i in range(n) if indegree[i] == 0]\n",
        "\n",
        "        topological_order = []\n",
        "        while nodes_with_zero_indegree:\n",
        "            current_node = nodes_with_zero_indegree.pop(0)\n",
        "            topological_order.append(current_node)\n",
        "\n",
        "            for neighbor in adjacency_list[current_node]:\n",
        "                indegree[neighbor] -= 1\n",
        "                if indegree[neighbor] == 0:\n",
        "                    nodes_with_zero_indegree.append(neighbor)\n",
        "\n",
        "        ancestors_set_list = [set() for _ in range(n)]\n",
        "\n",
        "        for node in topological_order:\n",
        "            for neighbor in adjacency_list[node]:\n",
        "                ancestors_set_list[neighbor].add(node)\n",
        "                ancestors_set_list[neighbor].update(ancestors_set_list[node])\n",
        "        \n",
        "        ancestors_list = [[] for _ in range(n)]\n",
        "\n",
        "        for i in range(n):\n",
        "            for node in range(n):\n",
        "                if node == i:\n",
        "                    continue\n",
        "                if node in ancestors_set_list[i]:\n",
        "                    ancestors_list[i].append(node)\n",
        "\n",
        "        return ancestors_list\n",
        "\n",
        "s = Solution()\n",
        "\"\"\"\n",
        "    Create 6 test cases for the getAncestors function.\n",
        "\"\"\"\n",
        "# Test case 1\n",
        "n = 5\n",
        "edges = [[0, 1], [0, 2], [1, 3], [2, 3], [3, 4]]\n",
        "expected_output = [[], [0], [0], [0, 1, 2], [0, 1, 2, 3]]\n",
        "assert s.getAncestors(n, edges) == expected_output"
      ]
    },
    {
      "cell_type": "markdown",
      "metadata": {},
      "source": [
        "### How to use map in Python"
      ]
    },
    {
      "cell_type": "code",
      "execution_count": null,
      "metadata": {},
      "outputs": [],
      "source": [
        "# Example usage of map function\n",
        "numbers = [1, 2, 3, 4, 5]\n",
        "squared = list(map(lambda x: x ** 2, numbers))\n",
        "print(squared)  # Output: [1, 4, 9, 16, 25]\n"
      ]
    }
  ],
  "metadata": {
    "kernelspec": {
      "display_name": "myenv",
      "language": "python",
      "name": "python3"
    },
    "language_info": {
      "codemirror_mode": {
        "name": "ipython",
        "version": 3
      },
      "file_extension": ".py",
      "mimetype": "text/x-python",
      "name": "python",
      "nbconvert_exporter": "python",
      "pygments_lexer": "ipython3",
      "version": "3.12.7"
    }
  },
  "nbformat": 4,
  "nbformat_minor": 2
}
