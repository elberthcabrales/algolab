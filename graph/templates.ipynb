{
 "cells": [
  {
   "cell_type": "code",
   "execution_count": null,
   "metadata": {},
   "outputs": [
    {
     "data": {
      "text/plain": [
       "2"
      ]
     },
     "execution_count": 2,
     "metadata": {},
     "output_type": "execute_result"
    }
   ],
   "source": [
    "\"\"\"\n",
    "    DFS in recursive mode\n",
    "    Example for the graph_dfs_recursive function using the \"Number of Provinces\" problem\n",
    "\"\"\"\n",
    "\n",
    "def number_of_provinces(isConnected):\n",
    "    def dfs(node, visited):\n",
    "        visited.add(node)\n",
    "        for neighbor in range(len(isConnected[node])):\n",
    "            if isConnected[node][neighbor] == 1 and neighbor not in visited:\n",
    "                dfs(neighbor, visited)\n",
    "\n",
    "    n = len(isConnected)\n",
    "    visited = set()\n",
    "    province_count = 0\n",
    "\n",
    "    for i in range(n):\n",
    "        if i not in visited:\n",
    "            province_count += 1\n",
    "            dfs(i, visited)\n",
    "\n",
    "    return province_count\n",
    "\n",
    "# Test case for the number_of_provinces function\n",
    "isConnected = [\n",
    "    [1, 1, 0],\n",
    "    [1, 1, 0],\n",
    "    [0, 0, 1]\n",
    "]\n",
    "\n",
    "output_number_of_provinces = number_of_provinces(isConnected)\n",
    "output_number_of_provinces\n"
   ]
  },
  {
   "cell_type": "code",
   "execution_count": null,
   "metadata": {},
   "outputs": [
    {
     "data": {
      "text/plain": [
       "4"
      ]
     },
     "execution_count": 6,
     "metadata": {},
     "output_type": "execute_result"
    }
   ],
   "source": [
    "# Refactored implementation of the graph_dfs_iterative function\n",
    "\n",
    "def graph_dfs_iterative(graph, start_node):\n",
    "    stack = [start_node]\n",
    "    seen = set([start_node])\n",
    "    count = 0  # Counter for nodes visited\n",
    "\n",
    "    while stack:\n",
    "        node = stack.pop()\n",
    "        count += 1  # Process the current node\n",
    "\n",
    "        for neighbor in graph[node]:\n",
    "            if neighbor not in seen:\n",
    "                seen.add(neighbor)\n",
    "                stack.append(neighbor)\n",
    "\n",
    "    return count\n",
    "\n",
    "# Test case for the graph_dfs_iterative function\n",
    "graph = {\n",
    "    0: [1, 2],\n",
    "    1: [0, 3],\n",
    "    2: [0, 3],\n",
    "    3: [1, 2]\n",
    "}\n",
    "\n",
    "output_graph_dfs_iterative = graph_dfs_iterative(graph, 0)\n",
    "output_graph_dfs_iterative\n"
   ]
  },
  {
   "cell_type": "code",
   "execution_count": 7,
   "metadata": {},
   "outputs": [
    {
     "data": {
      "text/plain": [
       "4"
      ]
     },
     "execution_count": 7,
     "metadata": {},
     "output_type": "execute_result"
    }
   ],
   "source": [
    "\"\"\"\n",
    "BFS in iterative mode\n",
    "\n",
    "Example for the graph_bfs function using the \"Rotting Oranges\" problem\n",
    "\"\"\" \n",
    "from collections import deque\n",
    "from typing import List\n",
    "\n",
    "def orangesRotting(grid: List[List[int]]) -> int:\n",
    "    rows = len(grid)\n",
    "    cols = len(grid[0])\n",
    "    adjacents = [(0, 1), (1, 0), (0, -1), (-1, 0)]\n",
    "    visited = set()\n",
    "    queue = deque()\n",
    "\n",
    "    def isValid(x: int, y: int) -> bool:\n",
    "        return 0 <= x < rows and 0 <= y < cols\n",
    "\n",
    "    fresh_orage = 0\n",
    "    for r in range(rows):\n",
    "        for c in range(cols):\n",
    "            if grid[r][c] == 2:\n",
    "                queue.append((r, c))\n",
    "            if grid[r][c] == 1:\n",
    "                fresh_orage += 1\n",
    "    if fresh_orage == 0:\n",
    "        return 0\n",
    "\n",
    "    minuts = -1\n",
    "\n",
    "    while queue:\n",
    "        size = len(queue)\n",
    "        for _ in range(size):\n",
    "            row, col = queue.popleft()\n",
    "            for x, y in adjacents:\n",
    "                next_row, next_col = x + row, y + col\n",
    "                if isValid(next_row, next_col) and (next_row, next_col) not in visited and grid[next_row][next_col] == 1:\n",
    "                    queue.append((next_row, next_col))\n",
    "                    grid[next_row][next_col] = 2\n",
    "                    fresh_orage -= 1\n",
    "                visited.add((next_row, next_col))\n",
    "\n",
    "        minuts += 1\n",
    "    \n",
    "    return -1 if fresh_orage > 0 else minuts\n",
    "\"\"\"\n",
    "[2,2,2]\n",
    "[0,2,2]\n",
    "[1,0,2]\n",
    "\"\"\"\n",
    "# Test case for the oranges_rotting function\n",
    "grid = [\n",
    "    [2, 1, 1],\n",
    "    [1, 1, 0],\n",
    "    [0, 1, 1]\n",
    "]\n",
    "\n",
    "output_oranges_rotting = orangesRotting(grid)\n",
    "output_oranges_rotting\n"
   ]
  },
  {
   "cell_type": "code",
   "execution_count": null,
   "metadata": {},
   "outputs": [],
   "source": [
    "#OPTIMIZED\n",
    "#https://leetcode.com/problems/maximum-number-of-points-from-grid-queries/\n",
    "from heapq import heappush, heappop\n",
    "from typing import List\n",
    "\n",
    "class Solution:\n",
    "    def maxPoints(self, grid: List[List[int]], queries: List[int]) -> List[int]:\n",
    "        rows, cols = len(grid), len(grid[0])\n",
    "        directions = [(0, 1), (1, 0), (0, -1), (-1, 0)]\n",
    "        isValid = lambda x, y: 0 <= x < rows and 0 <= y < cols\n",
    "\n",
    "        # Sort queries and maintain original indices\n",
    "        sorted_queries = sorted((query, idx) for idx, query in enumerate(queries))\n",
    "        hashMap = {}\n",
    "\n",
    "        # Min-heap to process cells based on value\n",
    "        heap = [(grid[0][0], 0, 0)]\n",
    "        visited = set([(0, 0)])\n",
    "        points = 0\n",
    "\n",
    "        for query, idx in sorted_queries:\n",
    "            # Process the grid for the current query threshold\n",
    "            while heap:\n",
    "                value, r, c = heap[0]\n",
    "                if value >= query:\n",
    "                    break\n",
    "                heappop(heap)\n",
    "                points += 1\n",
    "                # Explore neighbors\n",
    "                for dr, dc in directions:\n",
    "                    nr, nc = r + dr, c + dc\n",
    "                    if isValid(nr, nc) and (nr, nc) not in visited:\n",
    "                        visited.add((nr, nc))\n",
    "                        heappush(heap, (grid[nr][nc], nr, nc))\n",
    "            hashMap[query] = points\n",
    "        \n",
    "        # Map the results back to the original query order\n",
    "        return [hashMap[query] for query in queries]\n",
    "\n"
   ]
  }
 ],
 "metadata": {
  "kernelspec": {
   "display_name": "myenv",
   "language": "python",
   "name": "python3"
  },
  "language_info": {
   "codemirror_mode": {
    "name": "ipython",
    "version": 3
   },
   "file_extension": ".py",
   "mimetype": "text/x-python",
   "name": "python",
   "nbconvert_exporter": "python",
   "pygments_lexer": "ipython3",
   "version": "3.12.7"
  }
 },
 "nbformat": 4,
 "nbformat_minor": 2
}
