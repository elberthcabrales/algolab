{
 "cells": [
  {
   "cell_type": "code",
   "execution_count": 1,
   "metadata": {},
   "outputs": [
    {
     "data": {
      "text/plain": [
       "[[], [1], [1, 2], [1, 2, 3], [1, 3], [2], [2, 3], [3]]"
      ]
     },
     "execution_count": 1,
     "metadata": {},
     "output_type": "execute_result"
    }
   ],
   "source": [
    "# Example for Backtracking: Subsets (78. Subsets)\n",
    "\n",
    "def generate_subsets(nums):\n",
    "    \"\"\"\n",
    "    Generate all subsets of a given list of numbers.\n",
    "\n",
    "    Args:\n",
    "        nums (List[int]): The list of numbers.\n",
    "\n",
    "    Returns:\n",
    "        List[List[int]]: All possible subsets.\n",
    "    \"\"\"\n",
    "    def backtrack(start, current):\n",
    "        result.append(list(current))  # Add the current subset\n",
    "        for i in range(start, len(nums)):\n",
    "            current.append(nums[i])  # Include nums[i] in the subset\n",
    "            backtrack(i + 1, current)  # Recur with the next elements\n",
    "            current.pop()  # Backtrack and undo the move\n",
    "\n",
    "    result = []\n",
    "    backtrack(0, [])\n",
    "    return result\n",
    "\n",
    "# Test case for Subsets\n",
    "nums = [1, 2, 3]\n",
    "output_generate_subsets = generate_subsets(nums)\n",
    "output_generate_subsets\n"
   ]
  },
  {
   "cell_type": "code",
   "execution_count": null,
   "metadata": {},
   "outputs": [],
   "source": [
    "# Example for Permutations II (47. Permutations II) using Counter\n",
    "\n",
    "from collections import Counter\n",
    "from typing import List\n",
    "\n",
    "def permute_unique(nums: List[int]) -> List[List[int]]:\n",
    "    \"\"\"\n",
    "    Generate all unique permutations of a given list of numbers using a Counter.\n",
    "\n",
    "    Args:\n",
    "        nums (List[int]): The list of numbers, which may contain duplicates.\n",
    "\n",
    "    Returns:\n",
    "        List[List[int]]: All possible unique permutations.\n",
    "    \"\"\"\n",
    "    result = []\n",
    "\n",
    "    def backtracking(sub: List[int], counter: Counter):\n",
    "        if len(sub) == len(nums):\n",
    "            result.append(sub[:])\n",
    "            return\n",
    "        \n",
    "        for num in counter.keys():\n",
    "            if counter[num] > 0:\n",
    "                sub.append(num)\n",
    "                counter[num] -= 1\n",
    "                backtracking(sub, counter)\n",
    "                counter[num] += 1\n",
    "                sub.pop()\n",
    "\n",
    "    backtracking([], Counter(nums))\n",
    "    return result\n",
    "\n",
    "# Test case for Permutations II using Counter\n",
    "nums = [1, 1, 2]\n",
    "output_permute_unique = permute_unique(nums)\n",
    "output_permute_unique\n"
   ]
  },
  {
   "cell_type": "code",
   "execution_count": null,
   "metadata": {},
   "outputs": [],
   "source": [
    "# Example for Backtracking: Palindrome Partitioning (131. Palindrome Partitioning)\n",
    "\n",
    "def palindrome_partitioning(s: str) -> List[List[str]]:\n",
    "    \"\"\"\n",
    "    Partition a string into all possible palindrome partitioning.\n",
    "\n",
    "    Args:\n",
    "        s (str): The input string.\n",
    "\n",
    "    Returns:\n",
    "        List[List[str]]: All possible partitions where each substring is a palindrome.\n",
    "    \"\"\"\n",
    "    def is_palindrome(substring: str) -> bool:\n",
    "        return substring == substring[::-1]\n",
    "\n",
    "    def backtrack(start: int, path: List[str]):\n",
    "        if start == len(s):\n",
    "            result.append(path[:])  # Add the current partition\n",
    "            return\n",
    "\n",
    "        for end in range(start + 1, len(s) + 1):\n",
    "            substring = s[start:end]\n",
    "            if is_palindrome(substring):\n",
    "                path.append(substring)  # Include the palindrome substring\n",
    "                backtrack(end, path)  # Recur for the remaining string\n",
    "                path.pop()  # Backtrack and undo the move\n",
    "\n",
    "    result = []\n",
    "    backtrack(0, [])\n",
    "    return result\n",
    "\n",
    "# Test case for Palindrome Partitioning\n",
    "s = \"aab\"\n",
    "output_palindrome_partitioning = palindrome_partitioning(s)\n",
    "output_palindrome_partitioning\n"
   ]
  }
 ],
 "metadata": {
  "kernelspec": {
   "display_name": "myenv",
   "language": "python",
   "name": "python3"
  },
  "language_info": {
   "codemirror_mode": {
    "name": "ipython",
    "version": 3
   },
   "file_extension": ".py",
   "mimetype": "text/x-python",
   "name": "python",
   "nbconvert_exporter": "python",
   "pygments_lexer": "ipython3",
   "version": "3.12.7"
  }
 },
 "nbformat": 4,
 "nbformat_minor": 2
}
