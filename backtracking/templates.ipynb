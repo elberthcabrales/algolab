{
 "cells": [
  {
   "cell_type": "code",
   "execution_count": null,
   "metadata": {},
   "outputs": [
    {
     "data": {
      "text/plain": [
       "[[2, 2, 3], [7]]"
      ]
     },
     "execution_count": 6,
     "metadata": {},
     "output_type": "execute_result"
    }
   ],
   "source": [
    "# Example for Backtracking: Subsets (78. Subsets)\n",
    "# https://leetcode.com/problems/combination-sum/\n",
    "from typing import List\n",
    "\n",
    "class Solution:\n",
    "    def combinationSum(self, candidates: List[int], target: int) -> List[List[int]]:\n",
    "        \n",
    "        n = len(candidates)\n",
    "        ans = []\n",
    "        def backtrack(curr: List[int], accum: int, idx: int):\n",
    "            if accum == target:\n",
    "                ans.append(curr[:])\n",
    "                return\n",
    "            \n",
    "            for i in range(idx, n):\n",
    "                num = candidates[i]\n",
    "                if accum + num <= target:\n",
    "                    curr.append(num)\n",
    "                    accum += num\n",
    "                    backtrack(curr, accum, i)\n",
    "                    accum -= num\n",
    "                    curr.pop()\n",
    "\n",
    "        backtrack([], 0, 0)\n",
    "        return ans\n",
    "\n",
    "s = Solution()\n",
    "candidates = [2,3,6,7]\n",
    "target = 7\n",
    "s.combinationSum(candidates, target)"
   ]
  },
  {
   "cell_type": "code",
   "execution_count": null,
   "metadata": {},
   "outputs": [],
   "source": [
    "# https://leetcode.com/problems/permutations/\n",
    "class Solution:\n",
    "    def permute(self, nums: List[int]) -> List[List[int]]:\n",
    "        \"\"\"\n",
    "        Input: nums = [1,2,3]\n",
    "        Output: [[1,2,3],[1,3,2],[2,1,3],[2,3,1],[3,1,2],[3,2,1]]\n",
    "        \"\"\"\n",
    "        ans = []\n",
    "        def backtracking(curr: List[int]):\n",
    "            if len(nums) == len(curr):\n",
    "                ans.append(curr[:])\n",
    "                return\n",
    "\n",
    "            for num in nums:\n",
    "                if not num in curr:\n",
    "                    curr.append(num)\n",
    "                    backtracking(curr)\n",
    "                    curr.pop()\n",
    "\n",
    "        backtracking([])\n",
    "        \n",
    "        return ans"
   ]
  },
  {
   "cell_type": "code",
   "execution_count": 1,
   "metadata": {},
   "outputs": [
    {
     "ename": "NameError",
     "evalue": "name 'List' is not defined",
     "output_type": "error",
     "traceback": [
      "\u001b[0;31m---------------------------------------------------------------------------\u001b[0m",
      "\u001b[0;31mNameError\u001b[0m                                 Traceback (most recent call last)",
      "Cell \u001b[0;32mIn[1], line 3\u001b[0m\n\u001b[1;32m      1\u001b[0m \u001b[38;5;66;03m# Example for Permutations II (47. Permutations II) using Counter\u001b[39;00m\n\u001b[1;32m      2\u001b[0m \u001b[38;5;66;03m# https://leetcode.com/problems/permutations-ii/\u001b[39;00m\n\u001b[0;32m----> 3\u001b[0m \u001b[38;5;28;43;01mclass\u001b[39;49;00m\u001b[43m \u001b[49m\u001b[38;5;21;43;01mSolution\u001b[39;49;00m\u001b[43m:\u001b[49m\n\u001b[1;32m      5\u001b[0m \u001b[43m    \u001b[49m\u001b[38;5;28;43;01mdef\u001b[39;49;00m\u001b[43m \u001b[49m\u001b[38;5;21;43mpermute_unique\u001b[39;49m\u001b[43m(\u001b[49m\u001b[38;5;28;43mself\u001b[39;49m\u001b[43m,\u001b[49m\u001b[43m \u001b[49m\u001b[43mnums\u001b[49m\u001b[43m:\u001b[49m\u001b[43m \u001b[49m\u001b[43mList\u001b[49m\u001b[43m[\u001b[49m\u001b[38;5;28;43mint\u001b[39;49m\u001b[43m]\u001b[49m\u001b[43m)\u001b[49m\u001b[43m \u001b[49m\u001b[38;5;241;43m-\u001b[39;49m\u001b[38;5;241;43m>\u001b[39;49m\u001b[43m \u001b[49m\u001b[43mList\u001b[49m\u001b[43m[\u001b[49m\u001b[43mList\u001b[49m\u001b[43m[\u001b[49m\u001b[38;5;28;43mint\u001b[39;49m\u001b[43m]\u001b[49m\u001b[43m]\u001b[49m\u001b[43m:\u001b[49m\n\u001b[1;32m      6\u001b[0m \u001b[38;5;250;43m        \u001b[39;49m\u001b[38;5;124;43;03m\"\"\"\u001b[39;49;00m\n\u001b[1;32m      7\u001b[0m \u001b[38;5;124;43;03m        Generate all unique permutations of a given list of numbers using a Counter.\u001b[39;49;00m\n\u001b[1;32m      8\u001b[0m \n\u001b[0;32m   (...)\u001b[0m\n\u001b[1;32m     13\u001b[0m \u001b[38;5;124;43;03m            List[List[int]]: All possible unique permutations.\u001b[39;49;00m\n\u001b[1;32m     14\u001b[0m \u001b[38;5;124;43;03m        \"\"\"\u001b[39;49;00m\n",
      "Cell \u001b[0;32mIn[1], line 5\u001b[0m, in \u001b[0;36mSolution\u001b[0;34m()\u001b[0m\n\u001b[1;32m      3\u001b[0m \u001b[38;5;28;01mclass\u001b[39;00m \u001b[38;5;21;01mSolution\u001b[39;00m:\n\u001b[0;32m----> 5\u001b[0m     \u001b[38;5;28;01mdef\u001b[39;00m \u001b[38;5;21mpermute_unique\u001b[39m(\u001b[38;5;28mself\u001b[39m, nums: \u001b[43mList\u001b[49m[\u001b[38;5;28mint\u001b[39m]) \u001b[38;5;241m-\u001b[39m\u001b[38;5;241m>\u001b[39m List[List[\u001b[38;5;28mint\u001b[39m]]:\n\u001b[1;32m      6\u001b[0m \u001b[38;5;250m        \u001b[39m\u001b[38;5;124;03m\"\"\"\u001b[39;00m\n\u001b[1;32m      7\u001b[0m \u001b[38;5;124;03m        Generate all unique permutations of a given list of numbers using a Counter.\u001b[39;00m\n\u001b[1;32m      8\u001b[0m \n\u001b[0;32m   (...)\u001b[0m\n\u001b[1;32m     13\u001b[0m \u001b[38;5;124;03m            List[List[int]]: All possible unique permutations.\u001b[39;00m\n\u001b[1;32m     14\u001b[0m \u001b[38;5;124;03m        \"\"\"\u001b[39;00m\n\u001b[1;32m     15\u001b[0m         result \u001b[38;5;241m=\u001b[39m []\n",
      "\u001b[0;31mNameError\u001b[0m: name 'List' is not defined"
     ]
    }
   ],
   "source": [
    "# Example for Permutations II (47. Permutations II) using Counter\n",
    "# https://leetcode.com/problems/permutations-ii/\n",
    "class Solution:\n",
    "\n",
    "    def permute_unique(self, nums: List[int]) -> List[List[int]]:\n",
    "        \"\"\"\n",
    "        Generate all unique permutations of a given list of numbers using a Counter.\n",
    "\n",
    "        Args:\n",
    "            nums (List[int]): The list of numbers, which may contain duplicates.\n",
    "\n",
    "        Returns:\n",
    "            List[List[int]]: All possible unique permutations.\n",
    "        \"\"\"\n",
    "        result = []\n",
    "\n",
    "        def backtracking(sub: List[int], counter: Counter):\n",
    "            if len(sub) == len(nums):\n",
    "                result.append(sub[:])\n",
    "                return\n",
    "            \n",
    "            for num in counter.keys():\n",
    "                if counter[num] > 0:\n",
    "                    sub.append(num)\n",
    "                    counter[num] -= 1\n",
    "                    backtracking(sub, counter)\n",
    "                    counter[num] += 1 # Backtrack and undo the move\n",
    "                    sub.pop()\n",
    "\n",
    "        backtracking([], Counter(nums))\n",
    "        return result\n",
    "\n",
    "# Test case for Permutations II using Counter\n",
    "nums = [1, 1, 2]\n",
    "output_permute_unique = Solution.permute_unique(nums)\n",
    "output_permute_unique"
   ]
  },
  {
   "cell_type": "code",
   "execution_count": 10,
   "metadata": {},
   "outputs": [
    {
     "data": {
      "text/plain": [
       "[['a', 'a', 'b'], ['aa', 'b']]"
      ]
     },
     "execution_count": 10,
     "metadata": {},
     "output_type": "execute_result"
    }
   ],
   "source": [
    "# Example for Backtracking: Palindrome Partitioning (131. Palindrome Partitioning)\n",
    "class Solution:\n",
    "    def partition(self, s: str) -> List[List[str]]:\n",
    "        result = []\n",
    "        def backtracking(word, curr: List[str]):\n",
    "            if not word:\n",
    "                result.append(curr[:])\n",
    "            \n",
    "            for i in range(1, len(word) + 1):\n",
    "                if word[:i] == word[:i][::-1]:\n",
    "                    backtracking(word[i:], curr + [word[:i]])\n",
    "        \n",
    "        backtracking(s, [])\n",
    "\n",
    "        return result\n",
    "    \n",
    "    def palindrome_partitioning(self, s: str) -> List[List[str]]:\n",
    "        \"\"\"\n",
    "        Partition a string into all possible palindrome partitioning.\n",
    "\n",
    "        Args:\n",
    "            s (str): The input string.\n",
    "\n",
    "        Returns:\n",
    "            List[List[str]]: All possible partitions where each substring is a palindrome.\n",
    "        \"\"\"\n",
    "        def is_palindrome(substring: str) -> bool:\n",
    "            return substring == substring[::-1]\n",
    "\n",
    "        def backtrack(start: int, path: List[str]):\n",
    "            if start == len(s):\n",
    "                result.append(path[:])  # Add the current partition\n",
    "                return\n",
    "\n",
    "            for end in range(start + 1, len(s) + 1):\n",
    "                substring = s[start:end]\n",
    "                if is_palindrome(substring):\n",
    "                    path.append(substring)  # Include the palin$drome substring\n",
    "                    backtrack(end, path)  # Recur for the remaining string\n",
    "                    path.pop()  # Backtrack and undo the move\n",
    "\n",
    "        result = []\n",
    "        backtrack(0, [])\n",
    "        return result\n",
    "\n",
    "# Test case for Palindrome Partitioning\n",
    "s = \"aab\"\n",
    "output_palindrome_partitioning = Solution().palindrome_partitioning(s)\n",
    "output_palindrome_partitioning\n"
   ]
  },
  {
   "cell_type": "code",
   "execution_count": null,
   "metadata": {},
   "outputs": [],
   "source": [
    "class Solution:\n",
    "    def subsets(self, nums: List[int]) -> List[List[int]]:\n",
    "        result = []\n",
    "        def backtracking(sub : List[int], idx: int):\n",
    "            if idx > len(nums):\n",
    "                return\n",
    "            \n",
    "            result.append(sub[:])\n",
    "            for i in range(idx, len(nums)):\n",
    "                sub.append(nums[i])\n",
    "                backtracking(sub, i + 1)\n",
    "                sub.pop()\n",
    "            \n",
    "        backtracking([], 0)\n",
    "        return result"
   ]
  },
  {
   "cell_type": "markdown",
   "metadata": {},
   "source": [
    "### TODO:\n",
    "Subsets\n",
    "Subsets II\n",
    "Permutations\n",
    "Permutations II\n",
    "Combinations\n",
    "Combination Sum II\n",
    "Combination Sum III\n",
    "Palindrome Partition"
   ]
  },
  {
   "cell_type": "code",
   "execution_count": null,
   "metadata": {},
   "outputs": [],
   "source": [
    "# https://leetcode.com/problems/combination-sum-iii/description/\n",
    "class Solution:\n",
    "    def combinationSum3(self, k: int, n: int) -> List[List[int]]:\n",
    "        if n == 1:\n",
    "            return []\n",
    "        ans = []\n",
    "        def bt(total, curr, idx: int):\n",
    "            if total == n and len(curr) == k:\n",
    "                ans.append(list(curr))\n",
    "                return\n",
    "                \n",
    "            for i in range(idx, 10):\n",
    "                if len(curr) > k:\n",
    "                    return\n",
    "                if not i in curr:\n",
    "                    curr.add(i)\n",
    "                    total += i\n",
    "                    bt(total, curr, i + 1)\n",
    "                    total -= i\n",
    "                    curr.remove(i)\n",
    "        bt(0, set(), 1)\n",
    "        return ans"
   ]
  },
  {
   "cell_type": "code",
   "execution_count": null,
   "metadata": {},
   "outputs": [
    {
     "data": {
      "text/plain": [
       "4"
      ]
     },
     "execution_count": 5,
     "metadata": {},
     "output_type": "execute_result"
    }
   ],
   "source": [
    "# https://leetcode.com/problems/optimal-partition-of-string\n",
    "class Solution:\n",
    "    def partitionString(self, s: str) -> int:\n",
    "        \n",
    "        ans = 1\n",
    "\n",
    "        substring = set()\n",
    "\n",
    "        for char in s:\n",
    "            if char in substring:\n",
    "                ans += 1\n",
    "                substring = set()\n",
    "            substring.add(char)\n",
    "                \n",
    "        return ans\n",
    "s = Solution()\n",
    "s.partitionString(\"abacaba\") # 4\n"
   ]
  }
 ],
 "metadata": {
  "kernelspec": {
   "display_name": "myenv",
   "language": "python",
   "name": "python3"
  },
  "language_info": {
   "codemirror_mode": {
    "name": "ipython",
    "version": 3
   },
   "file_extension": ".py",
   "mimetype": "text/x-python",
   "name": "python",
   "nbconvert_exporter": "python",
   "pygments_lexer": "ipython3",
   "version": "3.12.7"
  }
 },
 "nbformat": 4,
 "nbformat_minor": 2
}
