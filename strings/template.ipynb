{
 "cells": [
  {
   "cell_type": "code",
   "execution_count": null,
   "metadata": {},
   "outputs": [],
   "source": [
    "# Sample implementation of the efficient_string_building method with example input to test\n",
    "\n",
    "class Templates:\n",
    "    def efficient_string_building(self, arr):\n",
    "        ans = []\n",
    "        for c in arr:\n",
    "            ans.append(c)\n",
    "        return \"\".join(ans)\n",
    "\n",
    "# Test case for the efficient_string_building method\n",
    "template = Templates()\n",
    "example_input = [\"H\", \"e\", \"l\", \"l\", \"o\", \" \", \"W\", \"o\", \"r\", \"l\", \"d\"]\n",
    "output_efficient_string_building = template.efficient_string_building(example_input)\n",
    "output_efficient_string_building\n"
   ]
  },
  {
   "cell_type": "code",
   "execution_count": null,
   "metadata": {},
   "outputs": [],
   "source": [
    "\"\"\"\n",
    "    2825. Make String a Subsequence Using Cyclic Increments\n",
    "\"\"\"\n",
    "(ord(\"z\") - ord(\"a\") + 1) % 27\n",
    "chr(96 + (25 % 26) + 1)\n"
   ]
  },
  {
   "cell_type": "code",
   "execution_count": 60,
   "metadata": {},
   "outputs": [
    {
     "data": {
      "text/plain": [
       "'e'"
      ]
     },
     "execution_count": 60,
     "metadata": {},
     "output_type": "execute_result"
    }
   ],
   "source": [
    "# expected [\"b\",\"l\",\"u\",\"e\",\" \",\"i\",\"s\",\" \",\"s\",\"k\",\"y\",\" \",\"t\",\"h\",\"e\"]\n",
    "s = [\"t\",\"h\",\"e\",\" \",\"s\",\"k\",\"y\",\" \",\"i\",\"s\",\" \",\"b\",\"l\",\"u\",\"e\"]\n",
    "n = len(s) - 1\n",
    "\n",
    "s[n]"
   ]
  },
  {
   "cell_type": "code",
   "execution_count": 22,
   "metadata": {},
   "outputs": [
    {
     "data": {
      "text/plain": [
       "25"
      ]
     },
     "execution_count": 22,
     "metadata": {},
     "output_type": "execute_result"
    }
   ],
   "source": [
    "96 + ord(\"a\") - ord(\"a\") + 1\n",
    "(ord(\"z\") - ord(\"a\")) % 27"
   ]
  },
  {
   "cell_type": "code",
   "execution_count": 21,
   "metadata": {},
   "outputs": [
    {
     "data": {
      "text/plain": [
       "'y'"
      ]
     },
     "execution_count": 21,
     "metadata": {},
     "output_type": "execute_result"
    }
   ],
   "source": [
    "chr(96 + 25)"
   ]
  },
  {
   "cell_type": "code",
   "execution_count": null,
   "metadata": {},
   "outputs": [
    {
     "data": {
      "text/plain": [
       "'z'"
      ]
     },
     "execution_count": 50,
     "metadata": {},
     "output_type": "execute_result"
    }
   ],
   "source": [
    "def getNextChar(char: str) -> str:\n",
    "    return chr(96 + (((ord(char) - ord(\"a\") + 1) % 26) + 1))\n",
    "\n",
    "def getPrevChar(char: str) -> str:\n",
    "    return chr(96 + (((ord(char) - ord(\"a\") - 1) % 26) + 1))\n",
    "\n",
    "\n",
    "getPrevChar(\"a\")"
   ]
  },
  {
   "cell_type": "code",
   "execution_count": null,
   "metadata": {},
   "outputs": [],
   "source": [
    "def getNextStr(string: str) -> str:\n",
    "    next_str = []\n",
    "    for char in string:\n",
    "        next_str.append(chr(((ord(char) - ord(\"a\") + 1) % 26) + ord(\"a\")))\n",
    "    return ''.join(next_str)\n",
    "\n",
    "def getPrevStr(string: str) -> str:\n",
    "    prev_str = []\n",
    "    for char in string:\n",
    "        prev_str.append(chr(((ord(char) - ord(\"a\") - 1) % 26) + ord(\"a\")))\n",
    "    return ''.join(prev_str)\n"
   ]
  },
  {
   "cell_type": "code",
   "execution_count": 2,
   "metadata": {},
   "outputs": [
    {
     "data": {
      "text/plain": [
       "[(-2, 'to'), (-2, 'be'), (-2, 'or'), (-2, 'to'), (-2, 'be'), (-3, 'not')]"
      ]
     },
     "execution_count": 2,
     "metadata": {},
     "output_type": "execute_result"
    }
   ],
   "source": [
    "arr = [(-2, 'to'), (-2, 'be'), (-2, 'or'), (-3, 'not'), (-2, 'to'), (-2, 'be')]\n",
    "\n",
    "arr.sort(key=lambda x: -x[0])\n",
    "arr"
   ]
  }
 ],
 "metadata": {
  "kernelspec": {
   "display_name": "myenv",
   "language": "python",
   "name": "python3"
  },
  "language_info": {
   "codemirror_mode": {
    "name": "ipython",
    "version": 3
   },
   "file_extension": ".py",
   "mimetype": "text/x-python",
   "name": "python",
   "nbconvert_exporter": "python",
   "pygments_lexer": "ipython3",
   "version": "3.12.7"
  }
 },
 "nbformat": 4,
 "nbformat_minor": 2
}
