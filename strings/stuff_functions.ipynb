{
 "cells": [
  {
   "cell_type": "code",
   "execution_count": 1,
   "metadata": {},
   "outputs": [
    {
     "data": {
      "text/plain": [
       "'Hello World'"
      ]
     },
     "execution_count": 1,
     "metadata": {},
     "output_type": "execute_result"
    }
   ],
   "source": [
    "# Sample implementation of the efficient_string_building method with example input to test\n",
    "\n",
    "class Templates:\n",
    "    def efficient_string_building(self, arr):\n",
    "        ans = []\n",
    "        for c in arr:\n",
    "            ans.append(c)\n",
    "        return \"\".join(ans)\n",
    "\n",
    "# Test case for the efficient_string_building method\n",
    "template = Templates()\n",
    "example_input = [\"H\", \"e\", \"l\", \"l\", \"o\", \" \", \"W\", \"o\", \"r\", \"l\", \"d\"]\n",
    "output_efficient_string_building = template.efficient_string_building(example_input)\n",
    "output_efficient_string_building\n"
   ]
  },
  {
   "cell_type": "code",
   "execution_count": null,
   "metadata": {},
   "outputs": [],
   "source": [
    "\"\"\"\n",
    "    2825. Make String a Subsequence Using Cyclic Increments\n",
    "\"\"\"\n",
    "(ord(\"z\") - ord(\"a\") + 1) % 27\n",
    "chr(96 + (25 % 26) + 1)\n"
   ]
  },
  {
   "cell_type": "code",
   "execution_count": 60,
   "metadata": {},
   "outputs": [
    {
     "data": {
      "text/plain": [
       "'e'"
      ]
     },
     "execution_count": 60,
     "metadata": {},
     "output_type": "execute_result"
    }
   ],
   "source": [
    "# expected [\"b\",\"l\",\"u\",\"e\",\" \",\"i\",\"s\",\" \",\"s\",\"k\",\"y\",\" \",\"t\",\"h\",\"e\"]\n",
    "s = [\"t\",\"h\",\"e\",\" \",\"s\",\"k\",\"y\",\" \",\"i\",\"s\",\" \",\"b\",\"l\",\"u\",\"e\"]\n",
    "n = len(s) - 1\n",
    "\n",
    "s[n]"
   ]
  },
  {
   "cell_type": "code",
   "execution_count": null,
   "metadata": {},
   "outputs": [
    {
     "data": {
      "text/plain": [
       "'z'"
      ]
     },
     "execution_count": 50,
     "metadata": {},
     "output_type": "execute_result"
    }
   ],
   "source": [
    "96 + ord(\"a\") - ord(\"a\") + 1\n",
    "(ord(\"z\") - ord(\"a\")) \n",
    "\n",
    "chr(96 + (25) + 1)"
   ]
  },
  {
   "cell_type": "code",
   "execution_count": 21,
   "metadata": {},
   "outputs": [
    {
     "data": {
      "text/plain": [
       "'y'"
      ]
     },
     "execution_count": 21,
     "metadata": {},
     "output_type": "execute_result"
    }
   ],
   "source": [
    "chr(96 + 25)"
   ]
  },
  {
   "cell_type": "code",
   "execution_count": null,
   "metadata": {},
   "outputs": [
    {
     "data": {
      "text/plain": [
       "'z'"
      ]
     },
     "execution_count": 50,
     "metadata": {},
     "output_type": "execute_result"
    }
   ],
   "source": [
    "def getNextChar(char: str) -> str:\n",
    "    return chr(96 + (((ord(char) - ord(\"a\") + 1) % 26) + 1))\n",
    "\n",
    "def getPrevChar(char: str) -> str:\n",
    "    return chr(96 + (((ord(char) - ord(\"a\") - 1) % 26) + 1))\n",
    "\n",
    "\n",
    "getPrevChar(\"a\")"
   ]
  },
  {
   "cell_type": "code",
   "execution_count": null,
   "metadata": {},
   "outputs": [],
   "source": [
    "def getNextStr(string: str) -> str:\n",
    "    next_str = []\n",
    "    for char in string:\n",
    "        next_str.append(chr(((ord(char) - ord(\"a\") + 1) % 26) + ord(\"a\")))\n",
    "    return ''.join(next_str)\n",
    "\n",
    "def getPrevStr(string: str) -> str:\n",
    "    prev_str = []\n",
    "    for char in string:\n",
    "        prev_str.append(chr(((ord(char) - ord(\"a\") - 1) % 26) + ord(\"a\")))\n",
    "    return ''.join(prev_str)\n"
   ]
  },
  {
   "cell_type": "code",
   "execution_count": 8,
   "metadata": {},
   "outputs": [
    {
     "data": {
      "text/plain": [
       "'abc'"
      ]
     },
     "execution_count": 8,
     "metadata": {},
     "output_type": "execute_result"
    }
   ],
   "source": [
    "arr = [(-2, 'to'), (-2, 'be'), (-2, 'or'), (-3, 'not'), (-2, 'to'), (-2, 'be')]\n",
    "\n",
    "arr.sort(key=lambda x: -x[0])\n",
    "arr\n",
    "\n",
    "\n",
    "s = \"abcd\"\n",
    "\n",
    "s[:-1]"
   ]
  },
  {
   "cell_type": "code",
   "execution_count": 4,
   "metadata": {},
   "outputs": [
    {
     "data": {
      "text/plain": [
       "32"
      ]
     },
     "execution_count": 4,
     "metadata": {},
     "output_type": "execute_result"
    }
   ],
   "source": [
    "ord(\"f\") - ord(\"F\")"
   ]
  },
  {
   "cell_type": "code",
   "execution_count": 47,
   "metadata": {},
   "outputs": [
    {
     "name": "stdout",
     "output_type": "stream",
     "text": [
      "ab\n",
      "c\n",
      "25\n"
     ]
    }
   ],
   "source": [
    "def getNextCharacter(char: str) -> str:\n",
    "    if char == \"z\":\n",
    "        return \"ab\"\n",
    "\n",
    "    \n",
    "    position = ord(char) - ord(\"a\") + 1\n",
    "    return chr(\n",
    "        ord(\"a\") + position % 26\n",
    "    )\n",
    "\n",
    "print(getNextCharacter(\"z\"))\n",
    "print(getNextCharacter(\"b\"))\n",
    "print(ord(\"z\") - ord(\"a\"))"
   ]
  },
  {
   "cell_type": "code",
   "execution_count": 62,
   "metadata": {},
   "outputs": [
    {
     "data": {
      "text/plain": [
       "'l'"
      ]
     },
     "execution_count": 62,
     "metadata": {},
     "output_type": "execute_result"
    }
   ],
   "source": [
    "def getNextChar(char: str) -> str:\n",
    "    if \"z\" == char:\n",
    "        return \"ab\"\n",
    "\n",
    "    position = ord(char) - ord(\"a\") + 1\n",
    "    \n",
    "    return chr(ord(\"a\") + position + 1)\n",
    "\n",
    "getNextChar(\"j\")\n",
    "\n"
   ]
  },
  {
   "cell_type": "code",
   "execution_count": 53,
   "metadata": {},
   "outputs": [
    {
     "data": {
      "text/plain": [
       "21"
      ]
     },
     "execution_count": 53,
     "metadata": {},
     "output_type": "execute_result"
    }
   ],
   "source": [
    "len(\"jqktcurgdvlibczdsvnsg\")"
   ]
  },
  {
   "cell_type": "code",
   "execution_count": null,
   "metadata": {},
   "outputs": [],
   "source": [
    "\"\"\"\n",
    "You are given two strings s and t.\n",
    "\n",
    "String t is generated by random shuffling string s and then add one more letter at a random position.\n",
    "\n",
    "Return the letter that was added to t.\n",
    "\n",
    "\n",
    "Example 1:\n",
    "\n",
    "Input: s = \"abcd\", t = \"abcde\"\n",
    "Output: \"e\"\n",
    "Explanation: 'e' is the letter that was added.\n",
    "\"\"\"\n",
    "class Solution:\n",
    "    def findTheDifference(self, s: str, t: str) -> str:\n",
    "        a = 0\n",
    "        b = 0\n",
    "\n",
    "    \n",
    "        for char in t:\n",
    "            a += ord(char)\n",
    "\n",
    "        for char in s:\n",
    "            b += ord(char)\n",
    "\n",
    "        diff = abs(a - b)\n",
    "        \n",
    "        return chr(diff)"
   ]
  }
 ],
 "metadata": {
  "kernelspec": {
   "display_name": ".venv (3.12.3)",
   "language": "python",
   "name": "python3"
  },
  "language_info": {
   "codemirror_mode": {
    "name": "ipython",
    "version": 3
   },
   "file_extension": ".py",
   "mimetype": "text/x-python",
   "name": "python",
   "nbconvert_exporter": "python",
   "pygments_lexer": "ipython3",
   "version": "3.12.3"
  }
 },
 "nbformat": 4,
 "nbformat_minor": 2
}
