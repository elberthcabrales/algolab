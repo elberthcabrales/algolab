{
 "cells": [
  {
   "cell_type": "code",
   "execution_count": null,
   "id": "39de9182",
   "metadata": {},
   "outputs": [],
   "source": [
    "# https://leetcode.com/problems/text-justification/\n",
    "class Solution:\n",
    "    def fullJustify(self, words: List[str], maxWidth: int) -> List[str]:\n",
    "        ans = []\n",
    "        container = []\n",
    "        current_line_len = 0\n",
    "\n",
    "        for word in words:\n",
    "            # Check if adding this word would exceed the maxWidth\n",
    "            if current_line_len + len(word) + len(container) > maxWidth:\n",
    "                # Distribute spaces and add justified line to result\n",
    "                ans.append(self.adjustText(container, current_line_len, maxWidth))\n",
    "                container = []\n",
    "                current_line_len = 0\n",
    "\n",
    "            # Add word to container\n",
    "            container.append(word)\n",
    "            current_line_len += len(word)\n",
    "\n",
    "        # Add the last line, which should be left-justified\n",
    "        ans.append(self.leftJustify(container, maxWidth))\n",
    "\n",
    "        return ans\n",
    "\n",
    "    def adjustText(self, container: List[str], current_line_len: int, maxWidth: int) -> str:\n",
    "        if len(container) == 1:\n",
    "            # If there's only one word, left-justify it\n",
    "            return container[0] + ' ' * (maxWidth - len(container[0]))\n",
    "\n",
    "        # Total spaces to distribute\n",
    "        total_spaces = maxWidth - current_line_len\n",
    "        # Minimum space between words\n",
    "        space_between_words, extra_spaces = divmod(total_spaces, len(container) - 1)\n",
    "\n",
    "        # Distribute the spaces\n",
    "        for i in range(extra_spaces):\n",
    "            container[i] += ' '\n",
    "\n",
    "        return (' ' * space_between_words).join(container)\n",
    "\n",
    "    def leftJustify(self, container: List[str], maxWidth: int) -> str:\n",
    "        # Left justify by joining with a single space and padding the end with spaces\n",
    "        return ' '.join(container) + ' ' * (maxWidth - len(' '.join(container)))\n"
   ]
  }
 ],
 "metadata": {
  "language_info": {
   "name": "python"
  }
 },
 "nbformat": 4,
 "nbformat_minor": 5
}
