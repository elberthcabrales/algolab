{
 "cells": [
  {
   "cell_type": "code",
   "execution_count": 1,
   "id": "4dfb37cf",
   "metadata": {},
   "outputs": [
    {
     "name": "stdout",
     "output_type": "stream",
     "text": [
      "2.0\n"
     ]
    }
   ],
   "source": [
    "\n",
    "\"\"\"\"\n",
    "    f([1,2,3], 0, 3)\n",
    "    └── (1 + f([1,2,3], 1, 3)) / 3\n",
    "                └── 2 + f([1,2,3], 2, 3)\n",
    "                        └── return 3\n",
    "                └── f(1, 3) = 2 + 3 = 5\n",
    "    └── (1 + 5) / 3 = 6 / 3 = 2.0\n",
    "\"\"\"\n",
    "\n",
    "def f(arr, i, n):\n",
    "    if i == n - 1:\n",
    "        return arr[i]\n",
    "    \n",
    "    if i == 0:\n",
    "        return (arr[i] + f(arr, i + 1, n)) / n\n",
    "    else:\n",
    "        return arr[i] + f(arr, i + 1, n)\n",
    "\n",
    "lst = [1, 2, 3]\n",
    "result = f(lst, 0, len(lst))\n",
    "print(result)  # Output: 2\n",
    "\n"
   ]
  },
  {
   "cell_type": "code",
   "execution_count": null,
   "id": "d750807c",
   "metadata": {},
   "outputs": [
    {
     "name": "stdout",
     "output_type": "stream",
     "text": [
      "1\n",
      "8\n",
      "19\n",
      "2.0\n"
     ]
    }
   ],
   "source": [
    "\"\"\"\n",
    "find_min([5,2,8,1,3], 0)\n",
    "└── min(5, find_min([5,2,8,1,3], 1))\n",
    "      └── min(2, find_min([5,2,8,1,3], 2))\n",
    "            └── min(8, find_min([5,2,8,1,3], 3))\n",
    "                  └── min(1, find_min([5,2,8,1,3], 4))\n",
    "                        └── return 3\n",
    "                  └── min(1, 3) = 1\n",
    "            └── min(8, 1) = 1\n",
    "      └── min(2, 1) = 1\n",
    "└── min(5, 1) = 1\n",
    "\n",
    "\"\"\"\n",
    "def find_min(arr, i):\n",
    "    if i == len(arr) - 1:\n",
    "        return arr[i]\n",
    "    \n",
    "    rest_min = find_min(arr, i + 1)\n",
    "    return min(arr[i], rest_min)\n",
    "\n",
    "print(find_min([5, 2, 8, 1, 3], 0))  # Output: 1\n",
    "\n",
    "def find_max(arr, i):\n",
    "    if i == len(arr) - 1:\n",
    "        return arr[i]\n",
    "    \n",
    "    rest_max = find_max(arr, i + 1)\n",
    "    return max(arr[i], rest_max)\n",
    "print(find_max([5, 2, 8, 1, 3], 0))  # Output: 8\n",
    "\n",
    "def find_sum(arr, i):\n",
    "    if i == len(arr) - 1:\n",
    "        return arr[i]\n",
    "    return arr[i] + find_sum(arr, i + 1)\n",
    "print(find_sum([5, 2, 8, 1, 3], 0))  # Output: 19\n",
    "\n",
    "def find_average(arr, i, n):\n",
    "    if i == n - 1:\n",
    "        return arr[i]\n",
    "    \n",
    "    if i == 0:\n",
    "        return (arr[i] + find_average(arr, i + 1, n)) / n\n",
    "    else:\n",
    "        return arr[i] + find_average(arr, i + 1, n)\n",
    "lst = [1, 2, 3]\n",
    "result = find_average(lst, 0, len(lst))\n",
    "\"\"\"\n",
    "In divide-and-conquer, each frame breaks the problem into:\n",
    "\n",
    "A subproblem (fewer elements, smaller index, etc.)\n",
    "\n",
    "A merge/compose step (combining results)\n",
    "\n",
    "    f(0) = (1 + f(1)) / 3\n",
    "    f(1) = 2 + f(2)\n",
    "    f(2) = 3\n",
    "\"\"\"\n",
    "print(result)  # Output: 2.0\n"
   ]
  },
  {
   "cell_type": "code",
   "execution_count": null,
   "id": "ef25acb6",
   "metadata": {},
   "outputs": [],
   "source": [
    "def count_zeros(arr, i):\n",
    "    if i == len(arr):\n",
    "        return 0\n",
    "    is_zero = 1 if arr[i] == 0 else 0\n",
    "    return is_zero + count_zeros(arr, i + 1)\n",
    "\n",
    "print(count_zeros([0, 1, 0, 2, 3, 0], 0))  # ➜ 3\n"
   ]
  },
  {
   "cell_type": "code",
   "execution_count": null,
   "id": "1f110640",
   "metadata": {},
   "outputs": [],
   "source": [
    "def reverse_in_place(arr, left, right):\n",
    "    if left >= right:\n",
    "        return\n",
    "    arr[left], arr[right] = arr[right], arr[left]\n",
    "    reverse_in_place(arr, left + 1, right - 1)\n",
    "\n",
    "arr = [1, 2, 3, 4, 5]\n",
    "reverse_in_place(arr, 0, len(arr) - 1)\n",
    "print(arr)  # ➜ [5, 4, 3, 2, 1]\n"
   ]
  },
  {
   "cell_type": "code",
   "execution_count": null,
   "id": "2d09590e",
   "metadata": {},
   "outputs": [
    {
     "name": "stdout",
     "output_type": "stream",
     "text": [
      "120\n"
     ]
    }
   ],
   "source": [
    "def factorial(n):\n",
    "    if n == 0:\n",
    "        return 1\n",
    "    return n * factorial(n - 1)\n",
    "print(factorial(5))  # Output: 120\n",
    "\n",
    "def fibonacci(n):\n",
    "    if n <= 1:\n",
    "        return n\n",
    "    return fibonacci(n - 1) + fibonacci(n - 2)"
   ]
  },
  {
   "cell_type": "code",
   "execution_count": null,
   "id": "28381567",
   "metadata": {},
   "outputs": [
    {
     "name": "stdout",
     "output_type": "stream",
     "text": [
      "6\n"
     ]
    }
   ],
   "source": [
    "def gcd(a, b):\n",
    "    if b == 0:\n",
    "        return a\n",
    "    return gcd(b, a % b)\n",
    "print(gcd(48, 18))  # Output: 6"
   ]
  },
  {
   "cell_type": "code",
   "execution_count": 2,
   "id": "ce15c72b",
   "metadata": {},
   "outputs": [
    {
     "data": {
      "text/plain": [
       "'bc'"
      ]
     },
     "execution_count": 2,
     "metadata": {},
     "output_type": "execute_result"
    }
   ],
   "source": [
    "s = \"abcd\"\n",
    "\n",
    "s[1: len(s) - 1]"
   ]
  },
  {
   "cell_type": "code",
   "execution_count": null,
   "id": "515847a2",
   "metadata": {},
   "outputs": [],
   "source": [
    "def is_palindrome(s, left, right):\n",
    "    if left >= right:\n",
    "        return True\n",
    "    if s[left] != s[right]:\n",
    "        return False\n",
    "    return is_palindrome(s, left + 1, right - 1)\n",
    "\n",
    "print(is_palindrome(\"racecar\", 0, len(\"racecar\") - 1))  # ➜ True\n"
   ]
  },
  {
   "cell_type": "code",
   "execution_count": 1,
   "id": "f0993b85",
   "metadata": {},
   "outputs": [
    {
     "name": "stdout",
     "output_type": "stream",
     "text": [
      "[1, 2, 3, 4, 5, 6]\n"
     ]
    }
   ],
   "source": [
    "def flatten(lst):\n",
    "    result = []\n",
    "    for item in lst:\n",
    "        if isinstance(item, list):\n",
    "            result.extend(flatten(item))\n",
    "        else:\n",
    "            result.append(item)\n",
    "    return result\n",
    "\n",
    "print(flatten([1, [2, [3, 4], 5], 6]))  # ➜ [1, 2, 3, 4, 5, 6]"
   ]
  },
  {
   "cell_type": "code",
   "execution_count": null,
   "id": "89c741e5",
   "metadata": {},
   "outputs": [],
   "source": [
    "class Solution:\n",
    "    def decodeString(self, s: str) -> str:\n",
    "        n = len(s)\n",
    "        def fn(i):\n",
    "            if i == n:\n",
    "                return \"\"\n",
    "\n",
    "            num = 0\n",
    "            result = \"\"\n",
    "\n",
    "            while i < n:\n",
    "                if s[i].isnumeric():\n",
    "                    num = num * 10 + int(s[i])\n",
    "                elif s[i].isalpha():\n",
    "                    result += s[i]\n",
    "                elif s[i] == \"[\":\n",
    "                    substring, i = fn(i + 1)\n",
    "                    result += substring * num\n",
    "                    num = 0\n",
    "                elif s[i] == \"]\":\n",
    "                    return result, i\n",
    "                i += 1\n",
    "            \n",
    "            return result\n",
    "        \n",
    "\n",
    "        return fn(0)"
   ]
  },
  {
   "cell_type": "code",
   "execution_count": null,
   "id": "ee440b23",
   "metadata": {},
   "outputs": [],
   "source": [
    "class Solution:\n",
    "    def calculate(self, s):\n",
    "        def evaluate(i):\n",
    "            res, digit, sign = 0, 0, 1\n",
    "            \n",
    "            while i < len(s):\n",
    "                if s[i].isdigit():\n",
    "                    digit = digit * 10 + int(s[i])\n",
    "                elif s[i] in '+-':\n",
    "                    res += digit * sign\n",
    "                    digit = 0\n",
    "                    sign = 1 if s[i] == '+' else -1\n",
    "                elif s[i] == '(':\n",
    "                    subres, i = evaluate(i+1)\n",
    "                    res += sign * subres\n",
    "                elif s[i] == ')':\n",
    "                    res += digit * sign\n",
    "                    return res, i\n",
    "                i += 1\n",
    "\n",
    "            return res + digit * sign\n",
    "        \n",
    "        return evaluate(0)\n"
   ]
  }
 ],
 "metadata": {
  "kernelspec": {
   "display_name": ".venv (3.12.3)",
   "language": "python",
   "name": "python3"
  },
  "language_info": {
   "codemirror_mode": {
    "name": "ipython",
    "version": 3
   },
   "file_extension": ".py",
   "mimetype": "text/x-python",
   "name": "python",
   "nbconvert_exporter": "python",
   "pygments_lexer": "ipython3",
   "version": "3.12.3"
  }
 },
 "nbformat": 4,
 "nbformat_minor": 5
}
