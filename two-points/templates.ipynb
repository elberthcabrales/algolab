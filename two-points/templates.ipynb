{
 "cells": [
  {
   "cell_type": "code",
   "execution_count": 1,
   "metadata": {},
   "outputs": [
    {
     "data": {
      "text/plain": [
       "True"
      ]
     },
     "execution_count": 1,
     "metadata": {},
     "output_type": "execute_result"
    }
   ],
   "source": [
    "# Sample implementation of the two_pointers method with example input to test\n",
    "\n",
    "class Templates:\n",
    "    def two_pointers(self, arr):\n",
    "        n = len(arr)\n",
    "        left, right = 0, n - 1\n",
    "        while left < right:\n",
    "            if arr[left] != arr[right]:\n",
    "                return False\n",
    "            left += 1\n",
    "            right -= 1\n",
    "        return True\n",
    "\n",
    "# Test case for the two_pointers method\n",
    "template = Templates()\n",
    "example_input = [1, 2, 3, 2, 1]\n",
    "output = template.two_pointers(example_input)\n",
    "output\n"
   ]
  },
  {
   "cell_type": "code",
   "execution_count": null,
   "metadata": {},
   "outputs": [],
   "source": [
    "# https://leetcode.com/problems/container-with-most-water/\n",
    "class Solution:\n",
    "    def maxArea(self, height: List[int]) -> int:\n",
    "        left = 0\n",
    "        right = len(height) - 1\n",
    "        ans = 0\n",
    "\n",
    "\n",
    "        while left < right:\n",
    "            ans = max(ans, (right - left) * min(height[left], height[right]))\n",
    "\n",
    "            if height[left]  < height[right]:\n",
    "                left += 1\n",
    "            else:\n",
    "                right -= 1\n",
    "        \n",
    "        return ans"
   ]
  },
  {
   "cell_type": "code",
   "execution_count": null,
   "metadata": {},
   "outputs": [
    {
     "data": {
      "text/plain": [
       "[1, 2, 3, 4, 5, 6]"
      ]
     },
     "execution_count": 1,
     "metadata": {},
     "output_type": "execute_result"
    }
   ],
   "source": [
    "# Sample implementation of the two_pointers_two_params method with example input to test\n",
    "\n",
    "class Templates:\n",
    "    def two_pointers_two_params(self, arr1, arr2):\n",
    "        i = 0\n",
    "        j = 0\n",
    "        result = []\n",
    "\n",
    "        # Merge elements from both arrays\n",
    "        while i < len(arr1) and j < len(arr2):\n",
    "            if arr1[i] < arr2[j]:\n",
    "                result.append(arr1[i])\n",
    "                i += 1\n",
    "            else:\n",
    "                result.append(arr2[j])\n",
    "                j += 1\n",
    "\n",
    "        # Add remaining elements from arr1\n",
    "        while i < len(arr1):\n",
    "            result.append(arr1[i])\n",
    "            i += 1\n",
    "\n",
    "        # Add remaining elements from arr2\n",
    "        while j < len(arr2):\n",
    "            result.append(arr2[j])\n",
    "            j += 1\n",
    "\n",
    "        return result\n",
    "\n",
    "# Test case for the two_pointers_two_params method\n",
    "template = Templates()\n",
    "arr1 = [1, 3, 5]\n",
    "arr2 = [2, 4, 6]\n",
    "output_two_params = template.two_pointers_two_params(arr1, arr2)\n",
    "output_two_params\n"
   ]
  },
  {
   "cell_type": "code",
   "execution_count": null,
   "metadata": {},
   "outputs": [],
   "source": [
    "# https://leetcode.com/problems/two-sum-ii-input-array-is-sorted/\n",
    "\n",
    "class Solution:\n",
    "    def twoSum(self, numbers: List[int], target: int) -> List[int]:\n",
    "        left = 0\n",
    "        right = len(numbers) - 1\n",
    "\n",
    "        while left < right:\n",
    "            total = numbers[left] + numbers[right]\n",
    "\n",
    "            if total == target:\n",
    "                return [left + 1, right + 1]\n",
    "            elif total < target:\n",
    "                left += 1\n",
    "            else:\n",
    "                right -= 1\n",
    "\n",
    "        \n",
    "        return []"
   ]
  },
  {
   "cell_type": "code",
   "execution_count": 5,
   "metadata": {},
   "outputs": [
    {
     "data": {
      "text/plain": [
       "[[-1, -1, 2], [-1, 0, 1]]"
      ]
     },
     "execution_count": 5,
     "metadata": {},
     "output_type": "execute_result"
    }
   ],
   "source": [
    "# https://leetcode.com/problems/3sum/\n",
    "\n",
    "from typing import List\n",
    "\n",
    "\n",
    "class Solution:\n",
    "    def threeSum(self, nums: List[int]) -> List[List[int]]:\n",
    "        n = len(nums)\n",
    "        nums.sort()\n",
    "        ans = []\n",
    "\n",
    "        for i in range(n):\n",
    "            if i > 0 and nums[i - 1] == nums[i]:\n",
    "                continue\n",
    "            \n",
    "            left = i + 1\n",
    "            right = n - 1\n",
    "\n",
    "            while left < right:\n",
    "                total = nums[i] + nums[left] + nums[right]\n",
    "\n",
    "                if total == 0:\n",
    "                    ans.append([nums[i], nums[left], nums[right]])\n",
    "\n",
    "                    while left < right and nums[left] == nums[left + 1]:\n",
    "                        left += 1\n",
    " \n",
    "                    left += 1\n",
    "                    right -= 1\n",
    "                elif total > 0:\n",
    "                    right -= 1\n",
    "                else:\n",
    "                    left += 1\n",
    "        \n",
    "        return ans\n",
    "s = Solution()\n",
    "s.threeSum([-1,0,1,2,-1,-4])\n"
   ]
  },
  {
   "cell_type": "code",
   "execution_count": null,
   "metadata": {},
   "outputs": [],
   "source": [
    "# https://leetcode.com/problems/4sum/\n",
    "class Solution:\n",
    "    def fourSum(self, nums: List[int], target: int) -> List[List[int]]:\n",
    "        \"\"\"\n",
    "            no vale repetirlos \n",
    "            para evitar repertirlos vamos a evaluar que el siguiente no sea igual\n",
    "\n",
    "            pero los primero si se pueden repertir por ejemplo el caso 2\n",
    "        \"\"\"\n",
    "\n",
    "        n = len(nums)\n",
    "        nums.sort()\n",
    "        ans = []\n",
    "\n",
    "\n",
    "        for i in range(n):\n",
    "            if i > 0 and nums[i - 1] == nums[i]:\n",
    "                continue\n",
    "            \n",
    "            for j in range(i + 1, n):\n",
    "                if j > i + 1 and nums[j - 1] == nums[j]:\n",
    "                    continue\n",
    "                \n",
    "                left = j + 1\n",
    "                right = n - 1\n",
    "\n",
    "                while left < right:\n",
    "                    total = nums[i] + nums[j] + nums[left] + nums[right]\n",
    "\n",
    "                    if total == target:\n",
    "                        ans.append([nums[i], nums[j], nums[left], nums[right]])\n",
    "\n",
    "                        while left < right and nums[left] == nums[left + 1]:\n",
    "                            left += 1\n",
    "                        \n",
    "                        \n",
    "                        left += 1\n",
    "                        right -= 1\n",
    "                    \n",
    "                    elif total < target:\n",
    "                        left += 1\n",
    "                    else:\n",
    "                        right -= 1\n",
    "\n",
    "        return ans"
   ]
  },
  {
   "cell_type": "code",
   "execution_count": null,
   "metadata": {},
   "outputs": [],
   "source": [
    "class Solution:\n",
    "    def trap(self, height: List[int]) -> int:\n",
    "        left = 0\n",
    "        right = len(height) - 1\n",
    "\n",
    "        left_max = 0\n",
    "        right_max = 0\n",
    "        ans = 0\n",
    "\n",
    "        while left < right:\n",
    "            left_max = max(left_max, height[left])\n",
    "            right_max = max(right_max, height[right])\n",
    "\n",
    "            if left_max < right_max:\n",
    "                ans += (left_max - height[left])\n",
    "                left += 1\n",
    "            else:\n",
    "                ans += (right_max - height[right])\n",
    "                right -= 1\n",
    "            \n",
    "        return ans"
   ]
  },
  {
   "cell_type": "code",
   "execution_count": null,
   "metadata": {},
   "outputs": [],
   "source": [
    "class Solution:\n",
    "    def triangleNumber(self, nums: List[int]) -> int:\n",
    "        nums.sort()\n",
    "        n = len(nums)\n",
    "        ans = 0\n",
    "\n",
    "        for i in range(n - 1, 0, -1):\n",
    "            left = 0\n",
    "            right = i - 1\n",
    "\n",
    "            while left < right:\n",
    "                if nums[left] + nums[right] > nums[i]:\n",
    "                    ans += (right - left)\n",
    "                    right -= 1\n",
    "                else:\n",
    "                    left += 1\n",
    "\n",
    "        return ans"
   ]
  }
 ],
 "metadata": {
  "kernelspec": {
   "display_name": ".venv (3.12.3)",
   "language": "python",
   "name": "python3"
  },
  "language_info": {
   "codemirror_mode": {
    "name": "ipython",
    "version": 3
   },
   "file_extension": ".py",
   "mimetype": "text/x-python",
   "name": "python",
   "nbconvert_exporter": "python",
   "pygments_lexer": "ipython3",
   "version": "3.12.3"
  }
 },
 "nbformat": 4,
 "nbformat_minor": 2
}
