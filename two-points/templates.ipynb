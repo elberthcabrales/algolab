{
 "cells": [
  {
   "cell_type": "code",
   "execution_count": 1,
   "metadata": {},
   "outputs": [
    {
     "data": {
      "text/plain": [
       "True"
      ]
     },
     "execution_count": 1,
     "metadata": {},
     "output_type": "execute_result"
    }
   ],
   "source": [
    "# Sample implementation of the two_pointers method with example input to test\n",
    "\n",
    "class Templates:\n",
    "    def two_pointers(self, arr):\n",
    "        n = len(arr)\n",
    "        left, right = 0, n - 1\n",
    "        while left < right:\n",
    "            if arr[left] != arr[right]:\n",
    "                return False\n",
    "            left += 1\n",
    "            right -= 1\n",
    "        return True\n",
    "\n",
    "# Test case for the two_pointers method\n",
    "template = Templates()\n",
    "example_input = [1, 2, 3, 2, 1]\n",
    "output = template.two_pointers(example_input)\n",
    "output\n"
   ]
  },
  {
   "cell_type": "code",
   "execution_count": null,
   "metadata": {},
   "outputs": [],
   "source": [
    "# Sample implementation of the two_pointers_two_params method with example input to test\n",
    "\n",
    "class Templates:\n",
    "    def two_pointers_two_params(self, arr1, arr2):\n",
    "        i = 0\n",
    "        j = 0\n",
    "        result = []\n",
    "\n",
    "        # Merge elements from both arrays\n",
    "        while i < len(arr1) and j < len(arr2):\n",
    "            if arr1[i] < arr2[j]:\n",
    "                result.append(arr1[i])\n",
    "                i += 1\n",
    "            else:\n",
    "                result.append(arr2[j])\n",
    "                j += 1\n",
    "\n",
    "        # Add remaining elements from arr1\n",
    "        while i < len(arr1):\n",
    "            result.append(arr1[i])\n",
    "            i += 1\n",
    "\n",
    "        # Add remaining elements from arr2\n",
    "        while j < len(arr2):\n",
    "            result.append(arr2[j])\n",
    "            j += 1\n",
    "\n",
    "        return result\n",
    "\n",
    "# Test case for the two_pointers_two_params method\n",
    "template = Templates()\n",
    "arr1 = [1, 3, 5]\n",
    "arr2 = [2, 4, 6]\n",
    "output_two_params = template.two_pointers_two_params(arr1, arr2)\n",
    "output_two_params\n"
   ]
  },
  {
   "cell_type": "code",
   "execution_count": null,
   "metadata": {},
   "outputs": [],
   "source": [
    "# https://leetcode.com/problems/3sum/\n",
    "\n",
    "\n",
    "class Solution:\n",
    "    def threeSum(self, nums: List[int]) -> List[List[int]]:\n",
    "        \"\"\"\n",
    "            steps\n",
    "                sort nums to apply two points\n",
    "                travers one by one less 1 cause the last is calculated in two points\n",
    "                    fn_vd() validate if are duplicates\n",
    "                    appluy_sum_two\n",
    "                        implement two points to find when is 0\n",
    "                            if is 0 move pointer left until arn't duplicateds like fn_vd()\n",
    "        \"\"\"\n",
    "        nums.sort()\n",
    "        n = len(nums)\n",
    "        result = []\n",
    "\n",
    "        for i in range(n - 1):\n",
    "            if i > 0 and nums[i - 1] == nums[i]:\n",
    "                continue\n",
    "            self.sumTwo(i, nums, n, result)\n",
    "        return result\n",
    "            \n",
    "    def sumTwo(self, i: int, nums: List[int], n: int, result: List[int]):\n",
    "        left, right = i + 1, n - 1\n",
    "        while left < right:\n",
    "            accum = nums[i] + nums[left] + nums[right]\n",
    "            if accum == 0:\n",
    "                result.append([nums[i], nums[left], nums[right]])\n",
    "                left += 1\n",
    "                right -= 1\n",
    "                while left < right and nums[left - 1] == nums[left]:\n",
    "                    left += 1\n",
    "            elif accum < 0:\n",
    "                left += 1\n",
    "            else:\n",
    "                right -= 1\n"
   ]
  }
 ],
 "metadata": {
  "kernelspec": {
   "display_name": "myenv",
   "language": "python",
   "name": "python3"
  },
  "language_info": {
   "codemirror_mode": {
    "name": "ipython",
    "version": 3
   },
   "file_extension": ".py",
   "mimetype": "text/x-python",
   "name": "python",
   "nbconvert_exporter": "python",
   "pygments_lexer": "ipython3",
   "version": "3.12.7"
  }
 },
 "nbformat": 4,
 "nbformat_minor": 2
}
