{
 "cells": [
  {
   "cell_type": "code",
   "execution_count": 1,
   "metadata": {},
   "outputs": [
    {
     "data": {
      "text/plain": [
       "True"
      ]
     },
     "execution_count": 1,
     "metadata": {},
     "output_type": "execute_result"
    }
   ],
   "source": [
    "# Sample implementation of the two_pointers method with example input to test\n",
    "\n",
    "class Templates:\n",
    "    def two_pointers(self, arr):\n",
    "        n = len(arr)\n",
    "        left, right = 0, n - 1\n",
    "        while left < right:\n",
    "            if arr[left] != arr[right]:\n",
    "                return False\n",
    "            left += 1\n",
    "            right -= 1\n",
    "        return True\n",
    "\n",
    "# Test case for the two_pointers method\n",
    "template = Templates()\n",
    "example_input = [1, 2, 3, 2, 1]\n",
    "output = template.two_pointers(example_input)\n",
    "output\n"
   ]
  },
  {
   "cell_type": "code",
   "execution_count": null,
   "metadata": {},
   "outputs": [],
   "source": [
    "# Sample implementation of the two_pointers_two_params method with example input to test\n",
    "\n",
    "class Templates:\n",
    "    def two_pointers_two_params(self, arr1, arr2):\n",
    "        i = 0\n",
    "        j = 0\n",
    "        result = []\n",
    "\n",
    "        # Merge elements from both arrays\n",
    "        while i < len(arr1) and j < len(arr2):\n",
    "            if arr1[i] < arr2[j]:\n",
    "                result.append(arr1[i])\n",
    "                i += 1\n",
    "            else:\n",
    "                result.append(arr2[j])\n",
    "                j += 1\n",
    "\n",
    "        # Add remaining elements from arr1\n",
    "        while i < len(arr1):\n",
    "            result.append(arr1[i])\n",
    "            i += 1\n",
    "\n",
    "        # Add remaining elements from arr2\n",
    "        while j < len(arr2):\n",
    "            result.append(arr2[j])\n",
    "            j += 1\n",
    "\n",
    "        return result\n",
    "\n",
    "# Test case for the two_pointers_two_params method\n",
    "template = Templates()\n",
    "arr1 = [1, 3, 5]\n",
    "arr2 = [2, 4, 6]\n",
    "output_two_params = template.two_pointers_two_params(arr1, arr2)\n",
    "output_two_params\n"
   ]
  }
 ],
 "metadata": {
  "kernelspec": {
   "display_name": "myenv",
   "language": "python",
   "name": "python3"
  },
  "language_info": {
   "codemirror_mode": {
    "name": "ipython",
    "version": 3
   },
   "file_extension": ".py",
   "mimetype": "text/x-python",
   "name": "python",
   "nbconvert_exporter": "python",
   "pygments_lexer": "ipython3",
   "version": "3.12.7"
  }
 },
 "nbformat": 4,
 "nbformat_minor": 2
}
