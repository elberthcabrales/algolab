{
 "cells": [
  {
   "cell_type": "code",
   "execution_count": null,
   "metadata": {},
   "outputs": [
    {
     "data": {
      "text/plain": [
       "[20, 24]"
      ]
     },
     "execution_count": 12,
     "metadata": {},
     "output_type": "execute_result"
    }
   ],
   "source": [
    "# https://leetcode.com/problems/smallest-range-covering-elements-from-k-lists/description/\n",
    "import heapq\n",
    "from typing import List\n",
    "import math\n",
    "\n",
    "class Solution:\n",
    "    def smallestRange(self, nums: List[List[int]]) -> List[int]:\n",
    "        result = [-math.inf, math.inf]\n",
    "        heap = []\n",
    "        maxValue = -math.inf\n",
    "\n",
    "        # Step 1: Initialize the heap\n",
    "        for i in range(len(nums)):\n",
    "            heap.append((nums[i][0], i, 0))\n",
    "            maxValue = max(maxValue, nums[i][0])\n",
    "\n",
    "        heapq.heapify(heap)\n",
    "\n",
    "        # Step 2: Process the heap\n",
    "        while True:\n",
    "            low, rowIndex, colIndex = heapq.heappop(heap)\n",
    "\n",
    "            # Update the range if smaller\n",
    "            if maxValue - low < result[1] - result[0]:\n",
    "                result = [low, maxValue]\n",
    "\n",
    "            # Move to the next element in the current row\n",
    "            colIndex += 1\n",
    "            if colIndex == len(nums[rowIndex]):  # Row exhausted\n",
    "                return result\n",
    "            \n",
    "            nextValue = nums[rowIndex][colIndex]\n",
    "            maxValue = max(maxValue, nextValue)\n",
    "            heapq.heappush(heap, (nextValue, rowIndex, colIndex))\n",
    "\n",
    "\n",
    "# Test\n",
    "nums = [[4,10,15,24,26], [0,9,12,20], [5,18,22,30]]\n",
    "s = Solution()  # Output: [20,24]\n",
    "s.smallestRange(nums)"
   ]
  },
  {
   "cell_type": "code",
   "execution_count": null,
   "metadata": {},
   "outputs": [],
   "source": [
    "from heapq import heappush, heappop\n",
    "\n",
    "class Solution:\n",
    "    def minInterval(self, intervals: List[List[int]], queries: List[int]) -> List[int]:\n",
    "        \"\"\"\n",
    "            intervals = [[2,3],[2,5],[1,8],[20,25]], queries = [2,19,5,22]\n",
    "            [[1,8], [2,3], [2,5], [20, 25]]\n",
    "        \"\"\"\n",
    "        intervals.sort()\n",
    "        result = [-1] * len(queries)\n",
    "        index_queries = sorted((q, i) for i, q in enumerate(queries))\n",
    "        min_heap = []\n",
    "\n",
    "        i = 0 # priority queue index\n",
    "        for query, idx in index_queries:\n",
    "            # fill priotity queue\n",
    "            while i < len(intervals) and intervals[i][0] <= query:\n",
    "                left, right = intervals[i]\n",
    "                # add the range and sorted as smalest\n",
    "                heappush(min_heap, (right - left + 1, right))\n",
    "                i += 1\n",
    "\n",
    "            while min_heap and query > min_heap[0][1]:\n",
    "                heappop(min_heap)\n",
    "            \n",
    "            if min_heap:\n",
    "                result[idx] = min_heap[0][0]\n",
    "\n",
    "        return result"
   ]
  }
 ],
 "metadata": {
  "kernelspec": {
   "display_name": "myenv",
   "language": "python",
   "name": "python3"
  },
  "language_info": {
   "codemirror_mode": {
    "name": "ipython",
    "version": 3
   },
   "file_extension": ".py",
   "mimetype": "text/x-python",
   "name": "python",
   "nbconvert_exporter": "python",
   "pygments_lexer": "ipython3",
   "version": "3.12.7"
  }
 },
 "nbformat": 4,
 "nbformat_minor": 2
}
