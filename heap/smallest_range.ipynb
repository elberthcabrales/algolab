{
 "cells": [
  {
   "cell_type": "code",
   "execution_count": 12,
   "metadata": {},
   "outputs": [
    {
     "data": {
      "text/plain": [
       "[20, 24]"
      ]
     },
     "execution_count": 12,
     "metadata": {},
     "output_type": "execute_result"
    }
   ],
   "source": [
    "import heapq\n",
    "from typing import List\n",
    "import math\n",
    "\n",
    "class Solution:\n",
    "    def smallestRange(self, nums: List[List[int]]) -> List[int]:\n",
    "        result = [-math.inf, math.inf]\n",
    "        heap = []\n",
    "        maxValue = -math.inf\n",
    "\n",
    "        # Step 1: Initialize the heap\n",
    "        for i in range(len(nums)):\n",
    "            heap.append((nums[i][0], i, 0))\n",
    "            maxValue = max(maxValue, nums[i][0])\n",
    "\n",
    "        heapq.heapify(heap)\n",
    "\n",
    "        # Step 2: Process the heap\n",
    "        while True:\n",
    "            low, rowIndex, colIndex = heapq.heappop(heap)\n",
    "\n",
    "            # Update the range if smaller\n",
    "            if maxValue - low < result[1] - result[0]:\n",
    "                result = [low, maxValue]\n",
    "\n",
    "            # Move to the next element in the current row\n",
    "            colIndex += 1\n",
    "            if colIndex == len(nums[rowIndex]):  # Row exhausted\n",
    "                return result\n",
    "            \n",
    "            nextValue = nums[rowIndex][colIndex]\n",
    "            maxValue = max(maxValue, nextValue)\n",
    "            heapq.heappush(heap, (nextValue, rowIndex, colIndex))\n",
    "\n",
    "\n",
    "# Test\n",
    "nums = [[4,10,15,24,26], [0,9,12,20], [5,18,22,30]]\n",
    "s = Solution()  # Output: [20,24]\n",
    "s.smallestRange(nums)"
   ]
  },
  {
   "cell_type": "code",
   "execution_count": null,
   "metadata": {},
   "outputs": [],
   "source": []
  }
 ],
 "metadata": {
  "kernelspec": {
   "display_name": "myenv",
   "language": "python",
   "name": "python3"
  },
  "language_info": {
   "codemirror_mode": {
    "name": "ipython",
    "version": 3
   },
   "file_extension": ".py",
   "mimetype": "text/x-python",
   "name": "python",
   "nbconvert_exporter": "python",
   "pygments_lexer": "ipython3",
   "version": "3.12.7"
  }
 },
 "nbformat": 4,
 "nbformat_minor": 2
}
