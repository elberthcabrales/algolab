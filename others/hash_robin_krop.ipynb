{
 "cells": [
  {
   "cell_type": "markdown",
   "metadata": {},
   "source": [
    "## Hash robin Krop"
   ]
  },
  {
   "cell_type": "code",
   "execution_count": null,
   "metadata": {},
   "outputs": [
    {
     "name": "stdout",
     "output_type": "stream",
     "text": [
      "['CCCCCAAAAA', 'AAAAACCCCC']\n"
     ]
    }
   ],
   "source": [
    "def find_repeated_dna_sequences(s):\n",
    "    output = set()\n",
    "    nucleotides = {'A': 1, 'C': 2, 'G': 3, 'T': 4}  # base = 4\n",
    "    k = 10  # Length of the DNA substring\n",
    "\n",
    "    if len(s) < k:\n",
    "        return list(output)\n",
    "\n",
    "    base = 4  # Base value for the hash\n",
    "    dnas = set()\n",
    "    hash_value = 0\n",
    "\n",
    "    # Compute the hash for the first k-length substring\n",
    "    for i in range(k):\n",
    "        hash_value += nucleotides[s[i]] * (base ** (k - 1 - i))\n",
    "    dnas.add(hash_value)\n",
    "\n",
    "    # Slide the window over the rest of the string\n",
    "    for i in range(k, len(s)):\n",
    "        # Update the hash by removing the contribution of the outgoing character\n",
    "        slide_removed = (hash_value - nucleotides[s[i - k]] * (base ** (k - 1))) * base\n",
    "        # Add the new character contribution to the hash\n",
    "        hash_value = slide_removed + nucleotides[s[i]] * (base ** 0)  # base^0 is 1\n",
    "\n",
    "        if hash_value in dnas:\n",
    "            output.add(s[i - k + 1:i + 1])  # Store the repeated sequence\n",
    "        dnas.add(hash_value)\n",
    "\n",
    "    return list(output)\n",
    "\n",
    "# Example usage\n",
    "dna_string = \"AAAAACCCCCAAAAACCCCCCAAAAAGGGTTT\"\n",
    "result = find_repeated_dna_sequences(dna_string)\n",
    "print(result)  # Output: ['AAAAACCCCC', 'CCCCCAAAAA']"
   ]
  }
 ],
 "metadata": {
  "kernelspec": {
   "display_name": "myenv",
   "language": "python",
   "name": "python3"
  },
  "language_info": {
   "codemirror_mode": {
    "name": "ipython",
    "version": 3
   },
   "file_extension": ".py",
   "mimetype": "text/x-python",
   "name": "python",
   "nbconvert_exporter": "python",
   "pygments_lexer": "ipython3",
   "version": "3.10.12"
  }
 },
 "nbformat": 4,
 "nbformat_minor": 2
}
