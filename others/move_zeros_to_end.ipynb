{
 "cells": [
  {
   "cell_type": "markdown",
   "metadata": {},
   "source": [
    "## Move zeros to end"
   ]
  },
  {
   "cell_type": "code",
   "execution_count": 4,
   "metadata": {},
   "outputs": [
    {
     "name": "stdout",
     "output_type": "stream",
     "text": [
      "[1, 3, 12, 0, 0]\n"
     ]
    }
   ],
   "source": [
    "from typing import List\n",
    "class Solution:\n",
    "    def moveZeroes(self, nums: List[int]) -> None:\n",
    "        \"\"\"\n",
    "        Do not return anything, modify nums in-place instead.\n",
    "        [0,0,1,2,0,5,0]\n",
    "        \"\"\"\n",
    "        lastNonZeroFoundAt = 0\n",
    "        n = len(nums)\n",
    "\n",
    "        i = 0\n",
    "        while i < n:\n",
    "            if nums[i] != 0:\n",
    "                nums[lastNonZeroFoundAt] = nums[i]\n",
    "                lastNonZeroFoundAt += 1\n",
    "            i += 1\n",
    "        \n",
    "        for i in range(lastNonZeroFoundAt, n):\n",
    "            nums[i] = 0\n",
    "\n",
    "# Test the function\n",
    "nums = [0, 1, 0, 3, 12]\n",
    "sol = Solution()\n",
    "sol.moveZeroes(nums)\n",
    "print(nums)  # Output should be [1, 3, 12, 0, 0]\n"
   ]
  }
 ],
 "metadata": {
  "kernelspec": {
   "display_name": "myenv",
   "language": "python",
   "name": "python3"
  },
  "language_info": {
   "codemirror_mode": {
    "name": "ipython",
    "version": 3
   },
   "file_extension": ".py",
   "mimetype": "text/x-python",
   "name": "python",
   "nbconvert_exporter": "python",
   "pygments_lexer": "ipython3",
   "version": "3.12.7"
  }
 },
 "nbformat": 4,
 "nbformat_minor": 2
}
