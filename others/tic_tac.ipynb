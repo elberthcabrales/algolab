{
 "cells": [
  {
   "cell_type": "markdown",
   "metadata": {},
   "source": [
    "## Tic Tac Toe"
   ]
  },
  {
   "cell_type": "code",
   "execution_count": 1,
   "metadata": {},
   "outputs": [
    {
     "name": "stdout",
     "output_type": "stream",
     "text": [
      "A\n",
      "Pending\n",
      "Draw\n",
      "Pending\n"
     ]
    }
   ],
   "source": [
    "from typing import List\n",
    "\n",
    "class GameTicTacToe:\n",
    "    def tictactoe(self, moves: List[List[int]]) -> str:\n",
    "\n",
    "        # Initialize the board, n = 3 in this problem.\n",
    "        n = 3\n",
    "        board = [[0] * n for _ in range(n)]\n",
    "        \n",
    "        # Check if any of 4 winning conditions to see if the current player has won.\n",
    "        def checkRow(row, player_id):\n",
    "            for col in range(n):\n",
    "                if board[row][col] != player_id:\n",
    "                    return False\n",
    "            return True\n",
    "        \n",
    "        def checkCol(col, player_id):\n",
    "            for row in range(n):\n",
    "                if board[row][col] != player_id:\n",
    "                    return False\n",
    "            return True\n",
    "        \n",
    "        def checkDiagonal(player_id):\n",
    "            for row in range(n):\n",
    "                if board[row][row] != player_id:\n",
    "                    return False\n",
    "            return True\n",
    "        \n",
    "        def checkAntiDiagonal(player_id):\n",
    "            for row in range(n):\n",
    "                if board[row][n - 1 - row] != player_id:\n",
    "                    return False\n",
    "            return True\n",
    "        \n",
    "        # Start with player_1.\n",
    "        player = 1\n",
    "\n",
    "        for move in moves:\n",
    "            row, col = move\n",
    "            board[row][col] = player\n",
    "            \n",
    "            # If any of the winning conditions is met, return the current player's id.\n",
    "            if checkRow(row, player) or checkCol(col, player) or \\\n",
    "            (row == col and checkDiagonal(player)) or \\\n",
    "            (row + col == n - 1 and checkAntiDiagonal(player)):\n",
    "                return 'A' if player == 1 else 'B'\n",
    "            \n",
    "            # If no one wins so far, change to the other player alternatively. \n",
    "            # That is from 1 to -1, from -1 to 1.\n",
    "            player *= -1\n",
    "            \n",
    "        # If all moves are completed and there is still no result, we shall check if\n",
    "        # the grid is full or not. If so, the game ends with draw, otherwise pending.    \n",
    "        return \"Draw\" if len(moves) == n * n else \"Pending\"\n",
    "\n",
    "# Test cases for the tictactoe function\n",
    "solution = GameTicTacToe()\n",
    "\n",
    "# Test case 1: Player A wins\n",
    "moves1 = [[0,0],[2,0],[1,1],[2,1],[2,2]]\n",
    "print(solution.tictactoe(moves1))  # Output: 'A'\n",
    "\n",
    "# Test case 2: Player B wins\n",
    "moves2 = [[0,0],[1,1],[0,1],[2,1],[1,0],[2,0]]\n",
    "print(solution.tictactoe(moves2))  # Output: 'B'\n",
    "\n",
    "# Test case 3: Draw\n",
    "moves3 = [[0,0],[1,1],[2,0],[1,0],[1,2],[2,1],[0,1],[0,2],[2,2]]\n",
    "print(solution.tictactoe(moves3))  # Output: 'Draw'\n",
    "\n",
    "# Test case 4: Pending\n",
    "moves4 = [[0,0],[1,1],[2,2]]\n",
    "print(solution.tictactoe(moves4))  # Output: 'Pending'"
   ]
  },
  {
   "cell_type": "markdown",
   "metadata": {},
   "source": []
  }
 ],
 "metadata": {
  "kernelspec": {
   "display_name": "myenv",
   "language": "python",
   "name": "python3"
  },
  "language_info": {
   "codemirror_mode": {
    "name": "ipython",
    "version": 3
   },
   "file_extension": ".py",
   "mimetype": "text/x-python",
   "name": "python",
   "nbconvert_exporter": "python",
   "pygments_lexer": "ipython3",
   "version": "3.10.12"
  }
 },
 "nbformat": 4,
 "nbformat_minor": 2
}
