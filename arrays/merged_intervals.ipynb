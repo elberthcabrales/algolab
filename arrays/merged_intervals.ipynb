{
 "cells": [
  {
   "cell_type": "code",
   "execution_count": null,
   "id": "4ef808b0",
   "metadata": {},
   "outputs": [],
   "source": [
    "class Solution:\n",
    "    def countDays(self, days: int, meetings: List[List[int]]) -> int:\n",
    "        \"\"\"\n",
    "            Input: days = 10, meetings = [[5,7],[1,3],[9,10]]\n",
    "            1,3 5,7 9,10 \n",
    "        \"\"\"\n",
    "        meetings.sort(key=lambda x: x[0])\n",
    "        #merge intervals\n",
    "        merged_meetings = [[meetings[0][0], meetings[0][1]]]\n",
    "        for start, end in meetings[1:]:\n",
    "            if merged_meetings[-1][1] > start:\n",
    "                 merged_meetings[-1][1] = max(end, merged_meetings[-1][1])\n",
    "            else:\n",
    "                merged_meetings.append([start, end])\n",
    "\n",
    "        # get the dead time among meetings\n",
    "        dead_time = 0\n",
    "        prev_end = merged_meetings[0][1]\n",
    "        for start, end in merged_meetings[1:]:\n",
    "            if prev_end < start:\n",
    "                dead_time += (start - (prev_end + 1))\n",
    "\n",
    "            prev_end = end\n",
    "           \n",
    "        if days > merged_meetings[-1][1]:\n",
    "            dead_time += (days - merged_meetings[-1][1])\n",
    "        \n",
    "        if merged_meetings[0][0] > 1:\n",
    "            dead_time += (merged_meetings[0][0] - 1)\n",
    "        \n",
    "        return dead_time\n",
    "            \n"
   ]
  }
 ],
 "metadata": {
  "language_info": {
   "name": "python"
  }
 },
 "nbformat": 4,
 "nbformat_minor": 5
}
