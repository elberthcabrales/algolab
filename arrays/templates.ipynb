{
 "cells": [
  {
   "cell_type": "code",
   "execution_count": null,
   "metadata": {},
   "outputs": [],
   "source": [
    "class Solution:\n",
    "    def findMedianSortedArrays(self, nums1: List[int], nums2: List[int]) -> float:\n",
    "        merged = []\n",
    "\n",
    "        # Merge the two sorted arrays\n",
    "        while nums1 and nums2:\n",
    "            if nums1[0] >= nums2[0]:\n",
    "                merged.append(nums2.pop(0))\n",
    "            else:\n",
    "                merged.append(nums1.pop(0))\n",
    "\n",
    "        # Append any remaining elements from nums1\n",
    "        while nums1:\n",
    "            merged.append(nums1.pop(0))\n",
    "\n",
    "        # Append any remaining elements from nums2\n",
    "        while nums2:\n",
    "            merged.append(nums2.pop(0))\n",
    "\n",
    "        # Check if the merged array length is even or odd\n",
    "        is_even = len(merged) % 2 == 0\n",
    "\n",
    "        if is_even:\n",
    "            idx1 = (len(merged) // 2) - 1\n",
    "            idx2 = len(merged) // 2\n",
    "            return (merged[idx1] + merged[idx2]) / 2\n",
    "        else:\n",
    "            idx = len(merged) // 2\n",
    "            return float(merged[idx])\n"
   ]
  },
  {
   "cell_type": "code",
   "execution_count": null,
   "metadata": {},
   "outputs": [
    {
     "data": {
      "text/plain": [
       "104"
      ]
     },
     "execution_count": 2,
     "metadata": {},
     "output_type": "execute_result"
    }
   ],
   "source": [
    "from collections import Counter, defaultdict\n",
    "\n",
    "class Solution:\n",
    "    def groupAnagrams(self, strs: List[str]) -> List[List[str]]:\n",
    "        \"\"\"\n",
    "            use counter to validate anagrama\n",
    "            anagrams = coll\n",
    "        \"\"\"\n",
    "        anagrams = defaultdict(List)\n",
    "        for e in strs:\n",
    "            copy = e\n",
    "            soted_word = \"\".join(sorted(e))\n",
    "            if soted_word not in anagrams:\n",
    "                anagrams[soted_word] = []\n",
    "            anagrams[soted_word].append(copy)\n",
    "        \n",
    "        return anagrams.values()"
   ]
  },
  {
   "cell_type": "code",
   "execution_count": null,
   "metadata": {},
   "outputs": [],
   "source": [
    "# https://leetcode.com/problems/group-shifted-strings/\n",
    "from typing import List\n",
    "import collections\n",
    "\n",
    "class Solution:\n",
    "    def groupStrings(self, strings: List[str]) -> List[List[str]]:\n",
    "        strs = set(strings)\n",
    "        graph = collections.defaultdict(set)\n",
    "        \n",
    "        for string in strings:\n",
    "            next_string = string\n",
    "            prev_string = string\n",
    "            for _ in range(26):\n",
    "                next_string = self.getNextStr(next_string)\n",
    "                if next_string in strs:\n",
    "                    graph[string].add(next_string)\n",
    "                    graph[next_string].add(string)\n",
    "                prev_string = self.getPrevStr(prev_string)\n",
    "                if prev_string in strs:\n",
    "                    graph[string].add(prev_string)\n",
    "                    graph[prev_string].add(string)       \n",
    "\n",
    "        result = []\n",
    "\n",
    "        visited = set() \n",
    "        def dfs(node, group):\n",
    "            visited.add(node)\n",
    "            group.append(node)\n",
    "            for neighbor in graph[node]:\n",
    "                if neighbor not in visited:\n",
    "                    dfs(neighbor, group)\n",
    "        \n",
    "        for node in strings:\n",
    "            if node not in visited:\n",
    "                group = []\n",
    "                dfs(node, group)\n",
    "                # Include duplicates explicitly\n",
    "                duplicates = [s for s in strings if s in group]\n",
    "                result.append(duplicates)\n",
    "        \n",
    "        return result\n",
    "    \n",
    "    def getNextStr(self, string: str) -> str:\n",
    "        next_str = []\n",
    "        for char in string:\n",
    "            next_str.append(chr(((ord(char) - ord(\"a\") + 1) % 26) + ord(\"a\")))\n",
    "        return ''.join(next_str)\n",
    "    \n",
    "    def getPrevStr(self, string: str) -> str:\n",
    "        prev_str = []\n",
    "        for char in string:\n",
    "            prev_str.append(chr(((ord(char) - ord(\"a\") - 1) % 26) + ord(\"a\")))\n",
    "        return ''.join(prev_str)\n"
   ]
  },
  {
   "cell_type": "code",
   "execution_count": null,
   "metadata": {},
   "outputs": [],
   "source": [
    "class Solution:\n",
    "    def check(self, nums: List[int]) -> bool:\n",
    "        \n",
    "        counter = 0\n",
    "        for i in range(len(nums)):\n",
    "            if nums[i] > nums[(i + 1) % len(nums)]:\n",
    "                counter += 1\n",
    "            if counter > 1:\n",
    "                return False\n",
    "\n",
    "\n",
    "        return True"
   ]
  }
 ],
 "metadata": {
  "kernelspec": {
   "display_name": ".venv",
   "language": "python",
   "name": "python3"
  },
  "language_info": {
   "codemirror_mode": {
    "name": "ipython",
    "version": 3
   },
   "file_extension": ".py",
   "mimetype": "text/x-python",
   "name": "python",
   "nbconvert_exporter": "python",
   "pygments_lexer": "ipython3",
   "version": "3.12.3"
  }
 },
 "nbformat": 4,
 "nbformat_minor": 2
}
