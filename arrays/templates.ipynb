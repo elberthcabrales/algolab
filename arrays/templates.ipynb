{
 "cells": [
  {
   "cell_type": "code",
   "execution_count": null,
   "metadata": {},
   "outputs": [],
   "source": [
    "class Solution:\n",
    "    def findMedianSortedArrays(self, nums1: List[int], nums2: List[int]) -> float:\n",
    "        merged = []\n",
    "\n",
    "        # Merge the two sorted arrays\n",
    "        while nums1 and nums2:\n",
    "            if nums1[0] >= nums2[0]:\n",
    "                merged.append(nums2.pop(0))\n",
    "            else:\n",
    "                merged.append(nums1.pop(0))\n",
    "\n",
    "        # Append any remaining elements from nums1\n",
    "        while nums1:\n",
    "            merged.append(nums1.pop(0))\n",
    "\n",
    "        # Append any remaining elements from nums2\n",
    "        while nums2:\n",
    "            merged.append(nums2.pop(0))\n",
    "\n",
    "        # Check if the merged array length is even or odd\n",
    "        is_even = len(merged) % 2 == 0\n",
    "\n",
    "        if is_even:\n",
    "            idx1 = (len(merged) // 2) - 1\n",
    "            idx2 = len(merged) // 2\n",
    "            return (merged[idx1] + merged[idx2]) / 2\n",
    "        else:\n",
    "            idx = len(merged) // 2\n",
    "            return float(merged[idx])\n"
   ]
  }
 ],
 "metadata": {
  "kernelspec": {
   "display_name": "myenv",
   "language": "python",
   "name": "python3"
  },
  "language_info": {
   "name": "python",
   "version": "3.12.7"
  }
 },
 "nbformat": 4,
 "nbformat_minor": 2
}
