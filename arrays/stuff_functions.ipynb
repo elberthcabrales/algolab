{
 "cells": [
  {
   "cell_type": "code",
   "execution_count": null,
   "metadata": {},
   "outputs": [
    {
     "data": {
      "text/plain": [
       "1.5"
      ]
     },
     "execution_count": 1,
     "metadata": {},
     "output_type": "execute_result"
    }
   ],
   "source": [
    "def find_median(nums):\n",
    "    nums.sort()  # Step 1: Sort the list\n",
    "    n = len(nums)  # Step 2: Determine the length of the list\n",
    "    \n",
    "    # Step 3: Find the middle element(s)\n",
    "    if n % 2 == 1:  # If the length is odd\n",
    "        median = nums[n // 2]\n",
    "    else:  # If the length is even\n",
    "        median = (nums[(n // 2) - 1] + nums[n // 2]) / 2\n",
    "    \n",
    "    return median\n",
    "\n",
    "\n",
    "find_median([1, 2])  # Expected output: 1.5"
   ]
  },
  {
   "cell_type": "code",
   "execution_count": null,
   "metadata": {},
   "outputs": [
    {
     "data": {
      "text/plain": [
       "''"
      ]
     },
     "execution_count": 7,
     "metadata": {},
     "output_type": "execute_result"
    }
   ],
   "source": [
    "#Write a function to flatten a nested list. nested_list = [1, [2, [3, 4], 5], 6],  [1, [2, [3, [7,8], 4], 5], 6]\n",
    "class Solution:\n",
    "    def flatten(self, arr):\n",
    "        ans = []\n",
    "        while arr:\n",
    "            current = arr.pop() # 6, [2, [3, 4], 5], 5, [3, 4], 4\n",
    "            if isinstance(current, int):\n",
    "                ans.insert(0,current) # [6, 5, 4, 3\n",
    "            else:\n",
    "                arr.extend(current)\n",
    "                \n",
    "        return ans\n",
    "        \n",
    "\n",
    "\n",
    "s = Solution()\n",
    "\n",
    "# case 1\n",
    "[1, 2, 3, 4, 5, 6] == s.flatten([1, [2, [3, 4], 5], 6]) "
   ]
  },
  {
   "cell_type": "code",
   "execution_count": 2,
   "metadata": {},
   "outputs": [
    {
     "data": {
      "text/plain": [
       "0"
      ]
     },
     "execution_count": 2,
     "metadata": {},
     "output_type": "execute_result"
    }
   ],
   "source": [
    "0 % 2"
   ]
  },
  {
   "cell_type": "code",
   "execution_count": null,
   "metadata": {},
   "outputs": [],
   "source": []
  }
 ],
 "metadata": {
  "kernelspec": {
   "display_name": ".venv",
   "language": "python",
   "name": "python3"
  },
  "language_info": {
   "codemirror_mode": {
    "name": "ipython",
    "version": 3
   },
   "file_extension": ".py",
   "mimetype": "text/x-python",
   "name": "python",
   "nbconvert_exporter": "python",
   "pygments_lexer": "ipython3",
   "version": "3.12.3"
  }
 },
 "nbformat": 4,
 "nbformat_minor": 2
}
