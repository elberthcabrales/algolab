{
 "cells": [
  {
   "cell_type": "code",
   "execution_count": 2,
   "metadata": {},
   "outputs": [
    {
     "data": {
      "text/plain": [
       "21.0"
      ]
     },
     "execution_count": 2,
     "metadata": {},
     "output_type": "execute_result"
    }
   ],
   "source": [
    "def find_median(nums):\n",
    "    nums.sort()  # Step 1: Sort the list\n",
    "    n = len(nums)  # Step 2: Determine the length of the list\n",
    "    \n",
    "    # Step 3: Find the middle element(s)\n",
    "    if n % 2 == 1:  # If the length is odd\n",
    "        median = nums[n // 2]\n",
    "    else:  # If the length is even\n",
    "        median = (nums[(n // 2) - 1] + nums[n // 2]) / 2\n",
    "    \n",
    "    return median\n",
    "\n",
    "\n",
    "find_median([1, 2, 40, 50])  # Expected output: 3"
   ]
  },
  {
   "cell_type": "code",
   "execution_count": null,
   "metadata": {},
   "outputs": [],
   "source": []
  }
 ],
 "metadata": {
  "kernelspec": {
   "display_name": "myenv",
   "language": "python",
   "name": "python3"
  },
  "language_info": {
   "codemirror_mode": {
    "name": "ipython",
    "version": 3
   },
   "file_extension": ".py",
   "mimetype": "text/x-python",
   "name": "python",
   "nbconvert_exporter": "python",
   "pygments_lexer": "ipython3",
   "version": "3.12.7"
  }
 },
 "nbformat": 4,
 "nbformat_minor": 2
}
