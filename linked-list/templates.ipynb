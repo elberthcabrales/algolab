{
 "cells": [
  {
   "cell_type": "code",
   "execution_count": 2,
   "metadata": {},
   "outputs": [
    {
     "data": {
      "text/plain": [
       "3"
      ]
     },
     "execution_count": 2,
     "metadata": {},
     "output_type": "execute_result"
    }
   ],
   "source": [
    "# Sample implementation of the linked_list method with example input to test\n",
    "\n",
    "class ListNode:\n",
    "    def __init__(self, val=0, next=None):\n",
    "        self.val = val\n",
    "        self.next = next\n",
    "\n",
    "class Templates:\n",
    "    def linked_list(self, head):\n",
    "        fast = slow = head\n",
    "        while fast and fast.next:\n",
    "            slow = slow.next\n",
    "            fast = fast.next.next\n",
    "        return slow\n",
    "\n",
    "# Test case for the linked_list method\n",
    "template = Templates()\n",
    "# Creating a linked list: 1 -> 2 -> 3 -> 4 -> 5\n",
    "head = ListNode(1)\n",
    "head.next = ListNode(2)\n",
    "head.next.next = ListNode(3)\n",
    "head.next.next.next = ListNode(4)\n",
    "head.next.next.next.next = ListNode(5)\n",
    "\n",
    "output_linked_list = template.linked_list(head)\n",
    "output_linked_list.val  # Output the value of the middle node found by the fast and slow pointer technique\n"
   ]
  },
  {
   "cell_type": "code",
   "execution_count": null,
   "metadata": {},
   "outputs": [],
   "source": []
  },
  {
   "cell_type": "code",
   "execution_count": 3,
   "metadata": {},
   "outputs": [
    {
     "data": {
      "text/plain": [
       "[5, 4, 3, 2, 1]"
      ]
     },
     "execution_count": 3,
     "metadata": {},
     "output_type": "execute_result"
    }
   ],
   "source": [
    "# Sample implementation of the reverse_linked_list method with example input to test\n",
    "\n",
    "class Templates:\n",
    "    def reverse_linked_list(self, head):\n",
    "        prev = None\n",
    "        curr = head\n",
    "        while curr:\n",
    "            next_temp = curr.next\n",
    "            curr.next = prev\n",
    "            prev = curr\n",
    "            curr = next_temp\n",
    "        return prev\n",
    "\n",
    "# Test case for the reverse_linked_list method\n",
    "template = Templates()\n",
    "# Creating a linked list: 1 -> 2 -> 3 -> 4 -> 5\n",
    "head = ListNode(1)\n",
    "head.next = ListNode(2)\n",
    "head.next.next = ListNode(3)\n",
    "head.next.next.next = ListNode(4)\n",
    "head.next.next.next.next = ListNode(5)\n",
    "\n",
    "reversed_head = template.reverse_linked_list(head)\n",
    "\n",
    "# Collecting values from the reversed linked list\n",
    "reversed_values = []\n",
    "while reversed_head:\n",
    "    reversed_values.append(reversed_head.val)\n",
    "    reversed_head = reversed_head.next\n",
    "\n",
    "reversed_values\n"
   ]
  },
  {
   "cell_type": "code",
   "execution_count": null,
   "metadata": {},
   "outputs": [],
   "source": [
    "from typing import Optional\n",
    "\n",
    "\n",
    "class ListNode:\n",
    "    def __init__(self, val=0, next=None):\n",
    "        self.val = val\n",
    "        self.next = next\n",
    "class Solution:\n",
    "    def deleteDuplicatesComplex(self, head: Optional[ListNode]) -> Optional[ListNode]:\n",
    "        ll = ListNode(0)\n",
    "        ll.next = head\n",
    "        sentinel = ll\n",
    "\n",
    "        while head:\n",
    "            if head.next and head.next.val == head.val:\n",
    "                while head.next and head.next.val == head.val:\n",
    "                    head = head.next\n",
    "                sentinel.next = head.next # if start with repeated first element ponting to next no repeated\n",
    "            else:\n",
    "                sentinel = sentinel.next\n",
    "            head = head.next\n",
    "\n",
    "        return ll.next\n",
    "\n",
    "    def deleteDuplicates(self, head: Optional[ListNode]) -> Optional[ListNode]:\n",
    "        current = head\n",
    "\n",
    "        while current:\n",
    "            if current.next and current.val == current.next.val:\n",
    "                current.next = current.next.next\n",
    "            else:\n",
    "                current = current.next\n",
    "\n",
    "        return head"
   ]
  },
  {
   "cell_type": "code",
   "execution_count": null,
   "metadata": {},
   "outputs": [],
   "source": [
    "# Definition for singly-linked list.\n",
    "class ListNode:\n",
    "    def __init__(self, val=0, next=None):\n",
    "        self.val = val\n",
    "        self.next = next\n",
    "\n",
    "class Solution:\n",
    "    def oddEvenList(self, head: Optional[ListNode]) -> Optional[ListNode]:\n",
    "        if(head is None):\n",
    "            return head\n",
    "\n",
    "        odd = head\n",
    "        even = head.next\n",
    "\n",
    "        sentinel = even\n",
    "\n",
    "        while even and even.next:\n",
    "            odd.next = even.next\n",
    "            even.next = even.next.next\n",
    "\n",
    "            #move on\n",
    "            odd = odd.next\n",
    "            even = even.next\n",
    "        \n",
    "        odd.next = sentinel\n",
    "\n",
    "        return head\n",
    "        \"\"\"\n",
    "            original\n",
    "            1-->2-->3-->4-->5--> null\n",
    "            \n",
    "            odd 1-->2-->3-->4-->5--> null\n",
    "            even 2-->3-->4-->5-->null\n",
    "\n",
    "            1-->3\n",
    "            2-->4\n",
    "            \n",
    "        \"\"\""
   ]
  }
 ],
 "metadata": {
  "kernelspec": {
   "display_name": "myenv",
   "language": "python",
   "name": "python3"
  },
  "language_info": {
   "codemirror_mode": {
    "name": "ipython",
    "version": 3
   },
   "file_extension": ".py",
   "mimetype": "text/x-python",
   "name": "python",
   "nbconvert_exporter": "python",
   "pygments_lexer": "ipython3",
   "version": "3.12.7"
  }
 },
 "nbformat": 4,
 "nbformat_minor": 2
}
