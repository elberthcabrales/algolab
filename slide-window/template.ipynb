{
 "cells": [
  {
   "cell_type": "code",
   "execution_count": null,
   "metadata": {},
   "outputs": [],
   "source": [
    "# Sample implementation of the sliding_window method with example input to test\n",
    "\n",
    "class Templates:\n",
    "    def sliding_window(self, arr):\n",
    "        left = ans = curr = 0\n",
    "        char_set = set()  # Example logic to calculate the length of the longest substring without repeating characters\n",
    "\n",
    "        for right in range(len(arr)):\n",
    "            while arr[right] in char_set:\n",
    "                char_set.remove(arr[left])\n",
    "                left += 1\n",
    "            char_set.add(arr[right])\n",
    "            ans = max(ans, right - left + 1)\n",
    "\n",
    "        return ans\n",
    "\n",
    "# Test case for the sliding_window method\n",
    "template = Templates()\n",
    "example_input = \"abcabcbb\"  # Example: Longest substring without repeating characters\n",
    "output_sliding_window = template.sliding_window(example_input)\n",
    "output_sliding_window\n"
   ]
  }
 ],
 "metadata": {
  "kernelspec": {
   "display_name": "myenv",
   "language": "python",
   "name": "python3"
  },
  "language_info": {
   "name": "python",
   "version": "3.12.7"
  }
 },
 "nbformat": 4,
 "nbformat_minor": 2
}
