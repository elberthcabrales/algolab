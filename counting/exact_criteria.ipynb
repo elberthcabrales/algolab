{
 "cells": [
  {
   "cell_type": "code",
   "execution_count": null,
   "metadata": {},
   "outputs": [],
   "source": [
    "from collections import defaultdict\n",
    "\n",
    "#Find number of subarrays that fit an exact criteria\n",
    "def fn(arr, k):\n",
    "    counts = defaultdict(int)\n",
    "    counts[0] = 1\n",
    "    ans = curr = 0\n",
    "\n",
    "    for num in arr:\n",
    "        curr += num\n",
    "        ans += counts[curr - k]\n",
    "        counts[curr] += 1\n",
    "    \n",
    "    return ans\n",
    "\n",
    "# Example usage\n",
    "arr = [1, 1, 1]\n",
    "k = 2\n",
    "result = fn(arr, k)\n",
    "print(f\"Number of subarrays with sum {k}: {result}\")"
   ]
  },
  {
   "cell_type": "code",
   "execution_count": null,
   "metadata": {
    "vscode": {
     "languageId": "plaintext"
    }
   },
   "outputs": [],
   "source": []
  }
 ],
 "metadata": {
  "language_info": {
   "name": "python"
  }
 },
 "nbformat": 4,
 "nbformat_minor": 2
}
