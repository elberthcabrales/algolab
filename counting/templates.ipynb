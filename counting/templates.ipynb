{
 "cells": [
  {
   "cell_type": "code",
   "execution_count": null,
   "metadata": {},
   "outputs": [],
   "source": [
    "from collections import defaultdict\n",
    "\n",
    "#Find number of subarrays that fit an exact criteria\n",
    "def fn(arr, k):\n",
    "    counts = defaultdict(int)\n",
    "    counts[0] = 1\n",
    "    ans = curr = 0\n",
    "\n",
    "    for num in arr:\n",
    "        curr += num\n",
    "        ans += counts[curr - k]\n",
    "        counts[curr] += 1\n",
    "    \n",
    "    return ans\n",
    "\n",
    "# Example usage\n",
    "arr = [1, 1, 1]\n",
    "k = 2\n",
    "result = fn(arr, k)\n",
    "print(f\"Number of subarrays with sum {k}: {result}\")"
   ]
  },
  {
   "cell_type": "code",
   "execution_count": 13,
   "metadata": {},
   "outputs": [
    {
     "data": {
      "text/plain": [
       "2"
      ]
     },
     "execution_count": 13,
     "metadata": {},
     "output_type": "execute_result"
    }
   ],
   "source": [
    "\"\"\"\n",
    "    Given an m x n matrix mat where every row is sorted in strictly increasing order, return the smallest common element in all rows.\n",
    "\"\"\"\n",
    "from typing import List\n",
    "class Solution:\n",
    "    def smallestCommonElement(self, mat: List[List[int]]) -> int:\n",
    "            ans = set(mat[0])\n",
    "            for i in range(1, len(mat)):\n",
    "                row = mat[i]\n",
    "                ans = set(row) & ans\n",
    "            return min(ans) if len(ans) > 0 else -1\n",
    "\n",
    "mat = [\n",
    "    [1,2,3,4,5],\n",
    "    [2,4,5,8,10],\n",
    "    [2,5,7,9,11],\n",
    "    [1,2,3,5,7,9]\n",
    "]\n",
    "s = Solution()\n",
    "s.smallestCommonElement(mat)"
   ]
  },
  {
   "cell_type": "code",
   "execution_count": null,
   "metadata": {},
   "outputs": [],
   "source": [
    "\"\"\"\n",
    "You are given an integer array nums. A number x is lonely when it appears only once, and no adjacent numbers (i.e. x + 1 and x - 1) appear in the array.\n",
    "\n",
    "Return all lonely numbers in nums. You may return the answer in any order.\n",
    "\"\"\"\n",
    "class Solution:\n",
    "    def findLonely(self, nums: List[int]) -> List[int]:\n",
    "        d=set()\n",
    "        s=set()\n",
    "        for n in nums:\n",
    "            if n not in d:\n",
    "                d.add(n)\n",
    "                s.add(n)\n",
    "            else:\n",
    "                if n in s:\n",
    "                    s.remove(n)\n",
    "        return [n for n in s if n-1 not in d and n+1 not in d]"
   ]
  },
  {
   "cell_type": "code",
   "execution_count": null,
   "metadata": {},
   "outputs": [],
   "source": [
    "# https://leetcode.com/problems/determine-if-two-strings-are-close/description/?envType=problem-list-v2&envId=counting\n",
    "class Solution:\n",
    "    def closeStrings(self, word1: str, word2: str) -> bool:\n",
    "        freq1 = [0] * 26\n",
    "        freq2 = [0] * 26\n",
    "\n",
    "        for ch in word1:\n",
    "            freq1[ord(ch) - ord('a')] += 1\n",
    "\n",
    "        for ch in word2:\n",
    "            freq2[ord(ch) - ord('a')] += 1\n",
    "\n",
    "        for i in range(26):\n",
    "            if (freq1[i] == 0 and freq2[i] != 0) or (freq1[i] != 0 and freq2[i] == 0):\n",
    "                return False\n",
    "\n",
    "        freq1.sort()\n",
    "        freq2.sort()\n",
    "\n",
    "        for i in range(26):\n",
    "            if freq1[i] != freq2[i]:\n",
    "                return False\n",
    "\n",
    "        return True\n"
   ]
  },
  {
   "cell_type": "code",
   "execution_count": null,
   "metadata": {},
   "outputs": [],
   "source": [
    "class Solution:\n",
    "    def minimumCardPickup(self, cards: List[int]) -> int:\n",
    "        freq = collections.defaultdict(int)\n",
    "\n",
    "        min_val = float(\"inf\")\n",
    "        for i, card in enumerate(cards):\n",
    "\n",
    "            if card in freq:\n",
    "                min_val = min(min_val, i - freq[card] + 1)\n",
    "\n",
    "            freq[card] = i\n",
    "        \n",
    "        return min_val if min_val != float(\"inf\") else -1\n"
   ]
  }
 ],
 "metadata": {
  "kernelspec": {
   "display_name": "myenv",
   "language": "python",
   "name": "python3"
  },
  "language_info": {
   "codemirror_mode": {
    "name": "ipython",
    "version": 3
   },
   "file_extension": ".py",
   "mimetype": "text/x-python",
   "name": "python",
   "nbconvert_exporter": "python",
   "pygments_lexer": "ipython3",
   "version": "3.12.7"
  }
 },
 "nbformat": 4,
 "nbformat_minor": 2
}
