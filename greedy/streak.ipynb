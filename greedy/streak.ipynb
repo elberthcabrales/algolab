{
 "cells": [
  {
   "cell_type": "markdown",
   "metadata": {},
   "source": [
    "### Handle with streak (rachas)"
   ]
  },
  {
   "cell_type": "code",
   "execution_count": null,
   "metadata": {},
   "outputs": [],
   "source": [
    "\"\"\"\n",
    "https://leetcode.com/problems/count-number-of-homogenous-substrings/description/\n",
    "Input: s = \"abbcccaa\"\n",
    "Output: 13\n",
    "Explanation: The homogenous substrings are listed as below:\n",
    "\"a\"   appears 3 times.\n",
    "\"aa\"  appears 1 time.\n",
    "\"b\"   appears 2 times.\n",
    "\"bb\"  appears 1 time.\n",
    "\"c\"   appears 3 times.\n",
    "\"cc\"  appears 2 times.\n",
    "\"ccc\" appears 1 time.\n",
    "3 + 1 + 2 + 1 + 3 + 2 + 1 = 13.\n",
    "\n",
    "\"\"\"\n",
    "class Solution:\n",
    "    def countHomogenous(self, s: str) -> int:\n",
    "        MOD = 10 ** 9 + 7\n",
    "\n",
    "        accum = 0\n",
    "        ans = 0\n",
    "        for i in range(len(s)):\n",
    "            if i == 0 or s[i] == s[i - 1]:\n",
    "                accum += 1\n",
    "            else:\n",
    "                accum = 1\n",
    "            ans += accum\n",
    "        \n",
    "        return ans % MOD"
   ]
  },
  {
   "cell_type": "code",
   "execution_count": null,
   "metadata": {},
   "outputs": [],
   "source": [
    "# https://leetcode.com/problems/number-of-substrings-with-only-1s/\n",
    "class Solution:\n",
    "    def numSub(self, s: str) -> int:\n",
    "        MOD = 10 ** 9 + 7\n",
    "\n",
    "        streak = 0\n",
    "        ans = 0\n",
    "        for i in range(len(s)):\n",
    "            if s[i] == \"1\":\n",
    "                streak += 1\n",
    "            else:\n",
    "                streak = 0\n",
    "            ans += streak\n",
    "\n",
    "        return ans % MOD"
   ]
  }
 ],
 "metadata": {
  "kernelspec": {
   "display_name": "myenv",
   "language": "python",
   "name": "python3"
  },
  "language_info": {
   "name": "python",
   "version": "3.12.7"
  }
 },
 "nbformat": 4,
 "nbformat_minor": 2
}
