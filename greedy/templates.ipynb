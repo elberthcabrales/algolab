{
 "cells": [
  {
   "cell_type": "markdown",
   "metadata": {},
   "source": [
    "Template for \"Tracking Increments in Arrays\" Problems\n",
    "Core Idea\n",
    "The solution involves:\n",
    "\n",
    "Tracking differences between consecutive elements to identify \"gains\" (i.e., increments).\n",
    "Summing all positive increments since they represent the effort required to \"climb\" to the target."
   ]
  },
  {
   "cell_type": "markdown",
   "metadata": {},
   "source": [
    "\n",
    "General Steps\n",
    "Initialize Variables:\n",
    "\n",
    "prev: Tracks the previous element in the array.\n",
    "accum: Accumulates the total number of operations.\n",
    "Iterate Over the Array:\n",
    "\n",
    "If the current element is greater than prev, calculate the difference and add it to accum.\n",
    "Update prev to the current element.\n",
    "Return the Accumulated Result.\n"
   ]
  },
  {
   "cell_type": "markdown",
   "metadata": {},
   "source": []
  },
  {
   "cell_type": "code",
   "execution_count": null,
   "metadata": {},
   "outputs": [],
   "source": [
    "from typing import List\n",
    "\n",
    "class Solution:\n",
    "    def solveArrayIncrementProblem(self, arr: List[int]) -> int:\n",
    "        \"\"\"\n",
    "        Template for solving array increment problems.\n",
    "        Arguments:\n",
    "        arr -- Target array\n",
    "\n",
    "        Returns:\n",
    "        Minimum number of operations to achieve the target array.\n",
    "        \"\"\"\n",
    "        # Initialize variables\n",
    "        prev = 0\n",
    "        accum = 0\n",
    "\n",
    "        # Traverse the array\n",
    "        for curr in arr:\n",
    "            if curr > prev:\n",
    "                accum += curr - prev\n",
    "            prev = curr\n",
    "\n",
    "        # Return the accumulated operations\n",
    "        return accum\n"
   ]
  },
  {
   "cell_type": "code",
   "execution_count": null,
   "metadata": {},
   "outputs": [],
   "source": [
    "# https://leetcode.com/problems/partition-array-into-disjoint-intervals/description/\n",
    "class Solution:\n",
    "    def partitionDisjoint(self, nums: List[int]) -> int:\n",
    "        \"\"\"\n",
    "            every element in right is bigger than max_left\n",
    "            if exist one element that is small in the right side then \n",
    "            max_right now is max_left\n",
    "        \"\"\"\n",
    "        max_left = nums[0]\n",
    "        max_right = nums[0]\n",
    "        lenght = 1\n",
    "        for i in range(1, len(nums)):\n",
    "            max_right = max(max_right, nums[i])\n",
    "\n",
    "            if nums[i] < max_left:\n",
    "                max_left = max_right\n",
    "                lenght = i + 1\n",
    "\n",
    "\n",
    "        return lenght"
   ]
  }
 ],
 "metadata": {
  "kernelspec": {
   "display_name": "myenv",
   "language": "python",
   "name": "python3"
  },
  "language_info": {
   "codemirror_mode": {
    "name": "ipython",
    "version": 3
   },
   "file_extension": ".py",
   "mimetype": "text/x-python",
   "name": "python",
   "nbconvert_exporter": "python",
   "pygments_lexer": "ipython3",
   "version": "3.12.7"
  }
 },
 "nbformat": 4,
 "nbformat_minor": 2
}
