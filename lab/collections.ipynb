{
 "cells": [
  {
   "cell_type": "code",
   "execution_count": 11,
   "metadata": {},
   "outputs": [
    {
     "name": "stdout",
     "output_type": "stream",
     "text": [
      "OrderedDict({'apple': 3, 'banana': 2, 'cherry': 5, 'date': 4, 'elderberry': 1})\n",
      "OrderedDict({'apple': 3, 'cherry': 5, 'date': 4, 'elderberry': 1, 'banana': 2})\n"
     ]
    },
    {
     "data": {
      "text/plain": [
       "('apple', 3)"
      ]
     },
     "execution_count": 11,
     "metadata": {},
     "output_type": "execute_result"
    }
   ],
   "source": [
    "from collections import OrderedDict\n",
    "\n",
    "# Creating an OrderedDict with initial values\n",
    "ordered_dict = OrderedDict([('apple', 3), ('banana', 2), ('cherry', 5)])\n",
    "\n",
    "# Adding new items\n",
    "ordered_dict['date'] = 4\n",
    "ordered_dict['elderberry'] = 1\n",
    "\n",
    "print(ordered_dict)\n",
    "# Output: OrderedDict([('apple', 3), ('banana', 2), ('cherry', 5), ('date', 4), ('elderberry', 1)])\n",
    "\n",
    "ordered_dict.move_to_end('banana')\n",
    "print(ordered_dict)\n",
    "ordered_dict.popitem(last=False)"
   ]
  },
  {
   "cell_type": "code",
   "execution_count": 13,
   "metadata": {},
   "outputs": [
    {
     "ename": "TypeError",
     "evalue": "'tuple' object does not support item assignment",
     "output_type": "error",
     "traceback": [
      "\u001b[0;31m---------------------------------------------------------------------------\u001b[0m",
      "\u001b[0;31mTypeError\u001b[0m                                 Traceback (most recent call last)",
      "Cell \u001b[0;32mIn[13], line 3\u001b[0m\n\u001b[1;32m      1\u001b[0m t \u001b[38;5;241m=\u001b[39m (\u001b[38;5;241m1\u001b[39m, \u001b[38;5;241m2\u001b[39m, \u001b[38;5;241m3\u001b[39m)\n\u001b[0;32m----> 3\u001b[0m \u001b[43mt\u001b[49m\u001b[43m[\u001b[49m\u001b[38;5;241;43m0\u001b[39;49m\u001b[43m]\u001b[49m \u001b[38;5;241m=\u001b[39m \u001b[38;5;241m10\u001b[39m\n\u001b[1;32m      4\u001b[0m \u001b[38;5;28mprint\u001b[39m(t)\n",
      "\u001b[0;31mTypeError\u001b[0m: 'tuple' object does not support item assignment"
     ]
    }
   ],
   "source": [
    "t = (1, 2, 3)\n",
    "\n",
    "t[0] = 10\n",
    "print(t)"
   ]
  },
  {
   "cell_type": "code",
   "execution_count": 21,
   "metadata": {},
   "outputs": [
    {
     "data": {
      "text/plain": [
       "[{'a': 10, 'b': 2}, {'a': 3, 'b': 4}, {'a': 5, 'b': 6}]"
      ]
     },
     "execution_count": 21,
     "metadata": {},
     "output_type": "execute_result"
    }
   ],
   "source": [
    "import heapq\n",
    "arr = [{'a': 1, 'b': 2}, {'a': 3, 'b': 4}, {'a': 5, 'b': 6}]\n",
    "\n",
    "arr[0]['a'] = 10 \n",
    "arr"
   ]
  },
  {
   "cell_type": "code",
   "execution_count": null,
   "metadata": {},
   "outputs": [
    {
     "name": "stdout",
     "output_type": "stream",
     "text": [
      "{'c', 'd'}\n",
      "{'b', 'd', 'g', 'e', 'a', 'f', 'c'}\n",
      "{'a', 'b', 'f'}\n",
      "{'b', 'g', 'e', 'a', 'f'}\n"
     ]
    }
   ],
   "source": [
    "# Python Code: Intersection\n",
    "a = set('abcdf')\n",
    "b = set('cdeg')\n",
    "\n",
    "\n",
    "# a.intersection(b)\n",
    "print(a & b)  # {'c', 'd'} - Common elements between sets a and b\n",
    "\n",
    "# SQL Equivalent: Intersection\n",
    "# Using two tables `table_a` and `table_b` with a column `letter`\n",
    "# Find common letters in both tables:\n",
    "# SELECT letter \n",
    "# FROM table_a \n",
    "# INTERSECT \n",
    "# SELECT letter \n",
    "# FROM table_b;\n",
    "\n",
    "\n",
    "# Python Code: Union\n",
    "# a.union(b)\n",
    "print(a | b)  # {'a', 'b', 'c', 'd', 'e', 'f', 'g'} - All unique elements from both sets\n",
    "\n",
    "# SQL Equivalent: Union\n",
    "# SELECT letter \n",
    "# FROM table_a \n",
    "# UNION \n",
    "# SELECT letter \n",
    "# FROM table_b;\n",
    "\n",
    "\n",
    "# Python Code: Difference\n",
    "# a.difference(b)\n",
    "print(a - b)  # {'a', 'b', 'f'} - Elements in a but not in b\n",
    "\n",
    "# SQL Equivalent: Difference\n",
    "# SELECT letter \n",
    "# FROM table_a \n",
    "# EXCEPT \n",
    "# SELECT letter \n",
    "# FROM table_b;\n",
    "\n",
    "\n",
    "# Python Code: Symmetric Difference\n",
    "# a.symmetric_difference(b)\n",
    "print(a ^ b)  # {'a', 'b', 'e', 'f', 'g'} - Elements in either set but not both\n",
    "\n",
    "# SQL Equivalent: Symmetric Difference\n",
    "# Use UNION ALL and EXCEPT for this:\n",
    "# SELECT letter \n",
    "# FROM (\n",
    "#     SELECT letter FROM table_a \n",
    "#     UNION ALL \n",
    "#     SELECT letter FROM table_b\n",
    "# ) sub\n",
    "# GROUP BY letter \n",
    "# HAVING COUNT(*) = 1;\n"
   ]
  },
  {
   "cell_type": "code",
   "execution_count": null,
   "metadata": {},
   "outputs": [],
   "source": []
  }
 ],
 "metadata": {
  "kernelspec": {
   "display_name": "myenv",
   "language": "python",
   "name": "python3"
  },
  "language_info": {
   "codemirror_mode": {
    "name": "ipython",
    "version": 3
   },
   "file_extension": ".py",
   "mimetype": "text/x-python",
   "name": "python",
   "nbconvert_exporter": "python",
   "pygments_lexer": "ipython3",
   "version": "3.12.7"
  }
 },
 "nbformat": 4,
 "nbformat_minor": 2
}
