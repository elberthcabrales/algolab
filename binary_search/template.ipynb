{
 "cells": [
  {
   "cell_type": "code",
   "execution_count": 9,
   "metadata": {},
   "outputs": [
    {
     "data": {
      "text/plain": [
       "4"
      ]
     },
     "execution_count": 9,
     "metadata": {},
     "output_type": "execute_result"
    }
   ],
   "source": [
    "from typing import List\n",
    "class Solution:\n",
    "    def binary_search(arr, target):\n",
    "        left, right = 0, len(arr) - 1\n",
    "        while left <= right:\n",
    "            mid = (left + right) // 2\n",
    "            if arr[mid] == target:\n",
    "                return mid  # Return the index of the target\n",
    "            elif arr[mid] < target:\n",
    "                left = mid + 1\n",
    "            else:\n",
    "                right = mid - 1\n",
    "        return -1  # Target not found\n",
    "\n",
    "    # Test case for the binary_search function\n",
    "    arr = [1, 2, 3, 4, 5, 6, 7, 8, 9]\n",
    "    target = 5\n",
    "\n",
    "    output_binary_search = binary_search(arr, target)\n",
    "    output_binary_search\n"
   ]
  },
  {
   "cell_type": "code",
   "execution_count": null,
   "metadata": {},
   "outputs": [],
   "source": [
    "def binary_search(matrix: List[List[int]], start: int, target: int, vertical: bool) -> bool:\n",
    "    \"\"\"\n",
    "    Perform binary search on a matrix row or column.\n",
    "\n",
    "    Args:\n",
    "        matrix (List[List[int]]): The 2D matrix.\n",
    "        start (int): The starting index for the search.\n",
    "        target (int): The target value to find.\n",
    "        vertical (bool): True to search a column, False to search a row.\n",
    "\n",
    "    Returns:\n",
    "        bool: True if the target is found, otherwise False.\n",
    "    \"\"\"\n",
    "    lo = start\n",
    "    hi = len(matrix) - 1 if vertical else len(matrix[0]) - 1\n",
    "\n",
    "    while lo <= hi:\n",
    "        mid = (lo + hi) // 2\n",
    "        if vertical:\n",
    "            mid_val = matrix[mid][start]\n",
    "        else:\n",
    "            mid_val = matrix[start][mid]\n",
    "\n",
    "        if mid_val == target:\n",
    "            return True\n",
    "        elif mid_val < target:\n",
    "            lo = mid + 1\n",
    "        else:\n",
    "            hi = mid - 1\n",
    "\n",
    "    return False\n",
    "\n",
    "\n",
    "def search_matrix(matrix: List[List[int]], target: int) -> bool:\n",
    "    \"\"\"\n",
    "    Search for a target value in a 2D matrix using binary search.\n",
    "\n",
    "    Args:\n",
    "        matrix (List[List[int]]): The 2D matrix.\n",
    "        target (int): The target value to find.\n",
    "\n",
    "    Returns:\n",
    "        bool: True if the target is found, otherwise False.\n",
    "    \"\"\"\n",
    "    len_row = len(matrix)\n",
    "    len_col = len(matrix[0])\n",
    "\n",
    "    for i in range(min(len_row, len_col)):\n",
    "        col_found = binary_search(matrix, i, target, True)\n",
    "        row_found = binary_search(matrix, i, target, False)\n",
    "\n",
    "        if col_found or row_found:\n",
    "            return True\n",
    "\n",
    "    return False\n",
    "\n",
    "# Example Usage\n",
    "matrix = [\n",
    "    [1, 3, 5],\n",
    "    [7, 10, 12],\n",
    "    [14, 17, 20]\n",
    "]\n",
    "target = 10\n",
    "result = search_matrix(matrix, target)\n",
    "print(result)  # Output: True\n",
    "\n"
   ]
  },
  {
   "cell_type": "code",
   "execution_count": 6,
   "metadata": {},
   "outputs": [
    {
     "data": {
      "text/plain": [
       "2"
      ]
     },
     "execution_count": 6,
     "metadata": {},
     "output_type": "execute_result"
    }
   ],
   "source": [
    "# Refactored implementation of binary search: left-most insertion point\n",
    "def findLeftOptimized(nums: List[int], target: int) -> int:\n",
    "    low = 0\n",
    "    hi = len(nums) - 1\n",
    "\n",
    "    while low <= hi:\n",
    "        mid = (low + hi) // 2\n",
    "\n",
    "        if nums[mid] == target:\n",
    "            # IMPORTANT mid == 0\n",
    "            if mid == 0 or nums[mid - 1] < target:\n",
    "                return mid\n",
    "            hi = mid - 1\n",
    "        elif nums[mid] < target:\n",
    "            low = mid + 1\n",
    "        else:\n",
    "            hi = mid - 1\n",
    "\n",
    "    return -1\n",
    "\n",
    "def binary_search_leftmost(arr, target):\n",
    "    left, right = 0, len(arr)\n",
    "    while left < right:\n",
    "        mid = (left + right) // 2\n",
    "        if arr[mid] >= target:\n",
    "            right = mid\n",
    "        else:\n",
    "            left = mid + 1\n",
    "    return left  # Left points to the insertion position\n",
    "\n",
    "# Test case for the binary_search_leftmost function\n",
    "arr = [1, 2, 3, 3, 5, 7]\n",
    "target = 3\n",
    "\n",
    "binary_search_leftmost(arr, target)\n",
    "findLeftOptimized(arr, target)\n"
   ]
  },
  {
   "cell_type": "code",
   "execution_count": 7,
   "metadata": {},
   "outputs": [
    {
     "data": {
      "text/plain": [
       "4"
      ]
     },
     "execution_count": 7,
     "metadata": {},
     "output_type": "execute_result"
    }
   ],
   "source": [
    "from typing import List\n",
    "\n",
    "def findRightOptimized(nums: List[int], target: int) -> int:\n",
    "    lo = 0\n",
    "    hi = len(nums) - 1\n",
    "    \n",
    "    while lo <= hi:\n",
    "        mid = (lo + hi) // 2\n",
    "\n",
    "        if nums[mid] == target:\n",
    "            if mid == len(nums) - 1 or nums[mid + 1] > target:\n",
    "                return mid\n",
    "            lo = mid + 1\n",
    "        elif nums[mid] < target:\n",
    "            lo = mid + 1\n",
    "        else:\n",
    "            hi = mid - 1\n",
    "    \n",
    "    return -1\n",
    "\n",
    "def binary_search_rightmost(arr, target):\n",
    "    left, right = 0, len(arr)\n",
    "    while left < right:\n",
    "        mid = (left + right) // 2\n",
    "        if arr[mid] > target:\n",
    "            right = mid\n",
    "        else:\n",
    "            left = mid + 1\n",
    "    return left  # Left points to the insertion position\n",
    "# Test case for the binary_search_rightmost function\n",
    "arr = [1, 2, 3, 3, 3, 5, 7]\n",
    "target = 3\n",
    "\n",
    "binary_search_rightmost(arr, target)\n",
    "findRightOptimized(arr, target)"
   ]
  },
  {
   "cell_type": "code",
   "execution_count": 9,
   "metadata": {},
   "outputs": [
    {
     "data": {
      "text/plain": [
       "5"
      ]
     },
     "execution_count": 9,
     "metadata": {},
     "output_type": "execute_result"
    }
   ],
   "source": [
    "# validate leftmost and rightmost\n",
    "def findPeakElement(nums: List[int]) -> int:\n",
    "    lo = 0\n",
    "    hi = len(nums) - 1\n",
    "\n",
    "    while lo <= hi:\n",
    "        mid = (lo + hi) // 2\n",
    "\n",
    "        is_left_ok = (mid == 0) or (nums[mid] > nums[mid - 1])\n",
    "        is_right_ok = (mid == len(nums) - 1) or (nums[mid] > nums[mid + 1])\n",
    "\n",
    "        if is_left_ok and is_right_ok:\n",
    "            return mid\n",
    "\n",
    "        if mid > 0 and nums[mid - 1] > nums[mid]:\n",
    "            hi = mid - 1\n",
    "        else:\n",
    "            lo = mid + 1\n",
    "\n",
    "    return lo\n",
    "\n",
    "findPeakElement([1,2,1,3,5,6,4]) # 5"
   ]
  },
  {
   "cell_type": "code",
   "execution_count": 1,
   "metadata": {},
   "outputs": [
    {
     "data": {
      "text/plain": [
       "18"
      ]
     },
     "execution_count": 1,
     "metadata": {},
     "output_type": "execute_result"
    }
   ],
   "source": [
    "# Greedy algorithm  IF YOU FOR A MAXIMUM\n",
    "def split_array_largest_sum(nums, m):\n",
    "    \"\"\"\n",
    "    Solve the 'Split Array Largest Sum' problem using binary search.\n",
    "\n",
    "    Args:\n",
    "        nums (List[int]): Array of integers.\n",
    "        m (int): Number of subarrays to split into.\n",
    "\n",
    "    Returns:\n",
    "        int: The minimized largest sum among the `m` subarrays.\n",
    "    \"\"\"\n",
    "    def can_split(max_sum):\n",
    "        count, curr_sum = 1, 0\n",
    "        for num in nums:\n",
    "            if curr_sum + num > max_sum:\n",
    "                count += 1\n",
    "                curr_sum = num\n",
    "                if count > m:\n",
    "                    return False\n",
    "            else:\n",
    "                curr_sum += num\n",
    "        return True\n",
    "\n",
    "    # The range of possible answers is between max(nums) and sum(nums)\n",
    "    left, right = max(nums), sum(nums)\n",
    "\n",
    "    while left <= right:\n",
    "        mid = (left + right) // 2\n",
    "        if can_split(mid):\n",
    "            right = mid - 1  # Try for a smaller maximum sum\n",
    "        else:\n",
    "            left = mid + 1  # Increase the maximum sum to make splitting feasible\n",
    "\n",
    "    return left  # The smallest maximum sum that works\n",
    "\n",
    "# Example test case for Split Array Largest Sum\n",
    "nums = [7, 2, 5, 10, 8]\n",
    "m = 2\n",
    "\n",
    "output_split_array_largest_sum = split_array_largest_sum(nums, m)\n",
    "output_split_array_largest_sum\n"
   ]
  },
  {
   "cell_type": "code",
   "execution_count": null,
   "metadata": {},
   "outputs": [],
   "source": [
    "# Example for \"Capacity To Ship Packages Within D Days\" problem using binary search\n",
    "\n",
    "def ship_within_days(weights, days):\n",
    "    \"\"\"\n",
    "    Solve the 'Capacity To Ship Packages Within D Days' problem using binary search.\n",
    "\n",
    "    Args:\n",
    "        weights (List[int]): Array of package weights.\n",
    "        days (int): Number of days to deliver all packages.\n",
    "\n",
    "    Returns:\n",
    "        int: The minimum capacity of the ship to deliver all packages within the given days.\n",
    "    \"\"\"\n",
    "    def can_ship(capacity):\n",
    "        current_weight = 0\n",
    "        required_days = 1\n",
    "        for weight in weights:\n",
    "            if current_weight + weight > capacity:\n",
    "                required_days += 1\n",
    "                current_weight = weight\n",
    "                if required_days > days:\n",
    "                    return False\n",
    "            else:\n",
    "                current_weight += weight\n",
    "        return True\n",
    "\n",
    "    # The range of possible capacities is between max(weights) and sum(weights)\n",
    "    left, right = max(weights), sum(weights)\n",
    "\n",
    "    while left <= right:\n",
    "        mid = (left + right) // 2\n",
    "        if can_ship(mid):\n",
    "            right = mid - 1  # Try for a smaller capacity\n",
    "        else:\n",
    "            left = mid + 1  # Increase the capacity to make it feasible\n",
    "\n",
    "    return left  # The minimum capacity that works\n",
    "\n",
    "# Test case for \"Capacity To Ship Packages Within D Days\"\n",
    "weights = [1, 2, 3, 4, 5, 6, 7, 8, 9, 10]\n",
    "days = 5\n",
    "\n",
    "output_ship_within_days = ship_within_days(weights, days)\n",
    "output_ship_within_days\n"
   ]
  },
  {
   "cell_type": "code",
   "execution_count": 11,
   "metadata": {},
   "outputs": [
    {
     "data": {
      "text/plain": [
       "18"
      ]
     },
     "execution_count": 11,
     "metadata": {},
     "output_type": "execute_result"
    }
   ],
   "source": [
    "def splitArray(nums: List[int], k: int) -> int:\n",
    "    def can_split(max_sum):\n",
    "        count, current_sum = 1, 0\n",
    "        for num in nums:\n",
    "            if current_sum + num > max_sum:\n",
    "                count += 1\n",
    "                current_sum = num\n",
    "                if count > k:\n",
    "                    return False\n",
    "            else:\n",
    "                current_sum += num\n",
    "        return True\n",
    "    \n",
    "    left, right = max(nums), sum(nums)\n",
    "    while left < right:\n",
    "        mid = (left + right) // 2\n",
    "        if can_split(mid):\n",
    "            right = mid\n",
    "        else:\n",
    "            left = mid + 1\n",
    "    return left\n",
    "\n",
    "splitArray([7,2,5,10,8], 2) # 18"
   ]
  }
 ],
 "metadata": {
  "kernelspec": {
   "display_name": "myenv",
   "language": "python",
   "name": "python3"
  },
  "language_info": {
   "codemirror_mode": {
    "name": "ipython",
    "version": 3
   },
   "file_extension": ".py",
   "mimetype": "text/x-python",
   "name": "python",
   "nbconvert_exporter": "python",
   "pygments_lexer": "ipython3",
   "version": "3.12.7"
  }
 },
 "nbformat": 4,
 "nbformat_minor": 2
}
