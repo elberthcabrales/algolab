{
 "cells": [
  {
   "cell_type": "code",
   "execution_count": 1,
   "metadata": {},
   "outputs": [
    {
     "name": "stdout",
     "output_type": "stream",
     "text": [
      "4\n",
      "-1\n",
      "-1\n"
     ]
    }
   ],
   "source": [
    "\"\"\"\n",
    "Samples\n",
    "\n",
    "33. Search in Rotated Sorted Array\n",
    "\"\"\"\n",
    "from typing import List\n",
    "\n",
    "class Solution:\n",
    "    def search(self, nums: List[int], target: int) -> int:\n",
    "        \"\"\"\n",
    "            if the part in mid is sorted validate normal binary search else\n",
    "        \"\"\"\n",
    "        lo = 0\n",
    "        hi = len(nums) - 1\n",
    "\n",
    "        while lo <= hi:\n",
    "            mid = (hi + lo) // 2\n",
    "\n",
    "            if nums[mid] == target:\n",
    "                return mid\n",
    "\n",
    "            # is sorted this part\n",
    "            if nums[lo] <= nums[mid]:\n",
    "                if nums[lo] <= target < nums[mid]:\n",
    "                    hi = mid - 1\n",
    "                else:\n",
    "                    lo = mid + 1\n",
    "            else:\n",
    "                if nums[mid] < target <= nums[hi]:\n",
    "                    lo = mid + 1\n",
    "                else:\n",
    "                    hi = mid - 1\n",
    "\n",
    "        return -1\n",
    "\n",
    "    #Test\n",
    "s = Solution()\n",
    "print(s.search([4,5,6,7,0,1,2], 0)) #4\n",
    "print(s.search([4,5,6,7,0,1,2], 3)) #-1\n",
    "print(s.search([1], 0)) #-1"
   ]
  }
 ],
 "metadata": {
  "kernelspec": {
   "display_name": "myenv",
   "language": "python",
   "name": "python3"
  },
  "language_info": {
   "codemirror_mode": {
    "name": "ipython",
    "version": 3
   },
   "file_extension": ".py",
   "mimetype": "text/x-python",
   "name": "python",
   "nbconvert_exporter": "python",
   "pygments_lexer": "ipython3",
   "version": "3.12.7"
  }
 },
 "nbformat": 4,
 "nbformat_minor": 2
}
