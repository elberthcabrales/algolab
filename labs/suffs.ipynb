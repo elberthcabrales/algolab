{
 "cells": [
  {
   "cell_type": "code",
   "execution_count": 2,
   "metadata": {},
   "outputs": [
    {
     "name": "stdout",
     "output_type": "stream",
     "text": [
      "[5, 4, 3, 2, 1]\n"
     ]
    }
   ],
   "source": [
    "from typing import List\n",
    "\n",
    "\n",
    "def extract_digits(number: int) -> List[int]:\n",
    "    digits = []\n",
    "    copy_num = number\n",
    "    while copy_num > 0:\n",
    "        popped = copy_num % 10\n",
    "        digits.append(popped)\n",
    "        copy_num = copy_num // 10\n",
    "    return digits\n",
    "\n",
    "# Example usage\n",
    "number = 12345\n",
    "digits = extract_digits(number)\n",
    "print(digits)  # Output: [5, 4, 3, 2, 1]"
   ]
  },
  {
   "cell_type": "code",
   "execution_count": null,
   "metadata": {},
   "outputs": [
    {
     "data": {
      "text/plain": [
       "4"
      ]
     },
     "execution_count": 6,
     "metadata": {},
     "output_type": "execute_result"
    }
   ],
   "source": [
    "class Solution:\n",
    "    def makeIntegerBeautiful(self, n: int, target: int) -> int:\n",
    "        \"\"\"\n",
    "            get sum of digits\n",
    "        \"\"\"\n",
    "        if self.sumOfDigits(n) <= target:\n",
    "            return 0\n",
    "        \n",
    "        x = 0\n",
    "        # transform from right to left in 1\n",
    "        digits = self.getDiggits(n)\n",
    "        mypow = 1\n",
    "        for i in range(len(digits) -1, -1, -1):\n",
    "            ref = (10 ** mypow)\n",
    "            digit = digits[i] * (10 ** (mypow - 1))\n",
    "            diff = ref - digit\n",
    "            digits[i] = 0\n",
    "            if i == 0:\n",
    "                digits.appendleft(1)\n",
    "            else:\n",
    "                digits[i - 1] += 1\n",
    "            x += diff\n",
    "            mypow += 1\n",
    "            if sum(digits) <= target:\n",
    "                return x\n",
    "    \n",
    "    def getDiggits(self, num):\n",
    "        ans = collections.deque()\n",
    "        while num:\n",
    "            digit = num % 10\n",
    "            num //= 10\n",
    "            ans.appendleft(digit)\n",
    "        return ans\n",
    "\n",
    "    def sumOfDigits(self, num):\n",
    "        ans = 0\n",
    "        while num:\n",
    "            digit = num % 10\n",
    "            num //= 10\n",
    "            ans += digit\n",
    "        \n",
    "        return ans"
   ]
  }
 ],
 "metadata": {
  "kernelspec": {
   "display_name": "myenv",
   "language": "python",
   "name": "python3"
  },
  "language_info": {
   "codemirror_mode": {
    "name": "ipython",
    "version": 3
   },
   "file_extension": ".py",
   "mimetype": "text/x-python",
   "name": "python",
   "nbconvert_exporter": "python",
   "pygments_lexer": "ipython3",
   "version": "3.12.7"
  }
 },
 "nbformat": 4,
 "nbformat_minor": 2
}
