{
 "cells": [
  {
   "cell_type": "code",
   "execution_count": 2,
   "metadata": {},
   "outputs": [
    {
     "name": "stdout",
     "output_type": "stream",
     "text": [
      "[5, 4, 3, 2, 1]\n"
     ]
    }
   ],
   "source": [
    "from typing import List\n",
    "\n",
    "\n",
    "def extract_digits(number: int) -> List[int]:\n",
    "    digits = []\n",
    "    copy_num = number\n",
    "    while copy_num > 0:\n",
    "        popped = copy_num % 10\n",
    "        digits.append(popped)\n",
    "        copy_num = copy_num // 10\n",
    "    return digits\n",
    "\n",
    "# Example usage\n",
    "number = 12345\n",
    "digits = extract_digits(number)\n",
    "print(digits)  # Output: [5, 4, 3, 2, 1]"
   ]
  },
  {
   "cell_type": "code",
   "execution_count": null,
   "metadata": {},
   "outputs": [
    {
     "data": {
      "text/plain": [
       "4"
      ]
     },
     "execution_count": 6,
     "metadata": {},
     "output_type": "execute_result"
    }
   ],
   "source": [
    "class Solution:\n",
    "    def makeIntegerBeautiful(self, n: int, target: int) -> int:\n",
    "        \"\"\"\n",
    "            get sum of digits\n",
    "        \"\"\"\n",
    "        if self.sumOfDigits(n) <= target:\n",
    "            return 0\n",
    "        \n",
    "        x = 0\n",
    "        # transform from right to left in 1\n",
    "        digits = self.getDiggits(n)\n",
    "        mypow = 1\n",
    "        for i in range(len(digits) -1 , -1, -1):\n",
    "            ref = (10 ** mypow)\n",
    "            digit = digits[i] * (10 ** (mypow - 1))\n",
    "            diff = ref - digit\n",
    "            digits[i] = 0\n",
    "            if i == 0:\n",
    "                digits.appendleft(1)\n",
    "            else:\n",
    "                digits[i - 1] += 1\n",
    "            x += diff\n",
    "            mypow += 1\n",
    "            if sum(digits) <= target:\n",
    "                return x\n",
    "    \n",
    "    def getDiggits(self, num):\n",
    "        ans = collections.deque()\n",
    "        while num:\n",
    "            digit = num % 10\n",
    "            num //= 10\n",
    "            ans.appendleft(digit)\n",
    "        return ans\n",
    "\n",
    "    def sumOfDigits(self, num):\n",
    "        ans = 0\n",
    "        while num:\n",
    "            digit = num % 10\n",
    "            num //= 10\n",
    "            ans += digit\n",
    "        \n",
    "        return ans"
   ]
  },
  {
   "cell_type": "code",
   "execution_count": null,
   "metadata": {},
   "outputs": [
    {
     "name": "stdout",
     "output_type": "stream",
     "text": [
      "[0, 0, 0, 0, 0, 0, 0, 0, 0]\n"
     ]
    }
   ],
   "source": [
    "\"\"\"\n",
    "https://leetcode.com/problems/valid-sudoku/\n",
    "    access to a box\n",
    "    square_index = (r // 3) * 3 + (c // 3)\n",
    "\"\"\"\n",
    "# Create a 9x9 matrix filled with zeros\n",
    "matrix = [[0 for _ in range(9)] for _ in range(9)]\n",
    "\n",
    "# box number 7\n",
    "# Example: Print the matrix\n",
    "r = 7\n",
    "c = 4\n",
    "square_index = (r // 3) * 3 + (c // 3) # 7th box\n",
    "print(matrix[square_index])\n"
   ]
  },
  {
   "cell_type": "code",
   "execution_count": null,
   "metadata": {},
   "outputs": [],
   "source": [
    "# find equal sum left and right are equal\n",
    "class Solution:\n",
    "    def pivotIndex(self, nums: List[int]) -> int:\n",
    "        n = len(nums)\n",
    "        prefix_sum = [0] * (n + 1)\n",
    "        for i in range(n):\n",
    "            prefix_sum[i + 1] = prefix_sum[i] + nums[i]\n",
    "        prefix_sum\n",
    "\n",
    "        for i in range(n):\n",
    "            # [0,1,8,11,17,22,28]\n",
    "            num = nums[i]\n",
    "            if prefix_sum[i] == prefix_sum[n] -  prefix_sum[i] - num:\n",
    "                return i\n",
    "        \n",
    "        return -1"
   ]
  },
  {
   "cell_type": "code",
   "execution_count": null,
   "metadata": {},
   "outputs": [],
   "source": [
    "# instead of using replace str.maketrans\n",
    "s = \"4(2(3)(1))(6(5))\"\n",
    "translation_table = str.maketrans({\"(\": \",\", \")\": \"\"})\n",
    "s = s.translate(translation_table)"
   ]
  },
  {
   "cell_type": "code",
   "execution_count": null,
   "metadata": {},
   "outputs": [],
   "source": [
    "class Solution:\n",
    "    def reverse(self, x: int) -> int:\n",
    "        INT_MAX = 2**(32 - 1)\n",
    "\n",
    "        # Check if the number is negative\n",
    "        isNegative = x < 0\n",
    "        if isNegative:\n",
    "            x = -x\n",
    "\n",
    "        result = 0\n",
    "        while x != 0:\n",
    "            digit = x % 10\n",
    "            x //= 10\n",
    "\n",
    "            result = (result * 10) + digit\n",
    "            if result > INT_MAX:\n",
    "                return 0\n",
    "            \n",
    "\n",
    "        return -result if isNegative else result\n"
   ]
  },
  {
   "cell_type": "code",
   "execution_count": null,
   "metadata": {},
   "outputs": [],
   "source": [
    "\"\"\"\n",
    "    https://leetcode.com/problems/can-place-flowers/\n",
    "    \n",
    "    here use a pattern to validate one left and one right\n",
    "        (i == 0) or flowerbed[i - 1] == 0\n",
    "        (i == len(flowerbed) - 1) or flowerbed[i + 1] == 0\n",
    "    \n",
    "\"\"\"\n",
    "class Solution:\n",
    "    def canPlaceFlowers(self, flowerbed: List[int], n: int) -> bool:\n",
    "        counter = 0\n",
    "\n",
    "        for i in range(len(flowerbed)):\n",
    "             if 0 == flowerbed[i]:\n",
    "                left_adjacent = (i == 0) or flowerbed[i - 1] == 0\n",
    "                right_adjacent = (i == len(flowerbed) - 1) or flowerbed[i + 1] == 0\n",
    "\n",
    "                if left_adjacent and right_adjacent:\n",
    "                    counter += 1\n",
    "                    flowerbed[i] = 1\n",
    "                    if counter >= n:\n",
    "                        return True\n",
    "\n",
    "        \n",
    "        return counter >= n"
   ]
  },
  {
   "cell_type": "code",
   "execution_count": null,
   "metadata": {},
   "outputs": [
    {
     "data": {
      "text/plain": [
       "'cccbbaa'"
      ]
     },
     "execution_count": 5,
     "metadata": {},
     "output_type": "execute_result"
    }
   ],
   "source": [
    "class Solution:\n",
    "    def isPalindromic(self,s: str, left, right) -> bool:\n",
    "        if left >= right:\n",
    "            return True\n",
    "        if s[left] != s[right]:\n",
    "            return False\n",
    "        \n",
    "        return self.isPalindromic(s, left + 1, right - 1)\n",
    "\n",
    "    def countSubstrings(self, s: str) -> int:\n",
    "        ans = 0\n",
    "        n = len(s)\n",
    "        if len(set(s)) == 1:\n",
    "            return (n * (n + 1)) // 2  # Corrected formula\n",
    "\n",
    "        for i in range(n):\n",
    "            for j in range(n - 1, i - 1, -1):\n",
    "                if self.isPalindromic(s, i, j):\n",
    "                    ans += 1\n",
    "\n",
    "        return ans"
   ]
  },
  {
   "cell_type": "code",
   "execution_count": null,
   "metadata": {},
   "outputs": [
    {
     "name": "stdout",
     "output_type": "stream",
     "text": [
      "ho*\n",
      "h*t\n"
     ]
    }
   ],
   "source": [
    "# Add a character in the word\n",
    "word = \"hot\"\n",
    "n = len(word)\n",
    "\n",
    "print(word[:2] + \"*\" + word[2+1:]) # ho*\n",
    "print(word[:1] + \"*\" + word[1+1:]) # h*t\n",
    "print(word[:0] + \"*\" + word[0+1:]) # *ot"
   ]
  },
  {
   "cell_type": "code",
   "execution_count": null,
   "metadata": {},
   "outputs": [],
   "source": [
    "from collections import defaultdict\n",
    "\n",
    "def build_word_graph(words):\n",
    "    \"\"\"\n",
    "    Build a transformation graph where each word is connected to others\n",
    "    that differ by exactly one letter using wildcard patterns.\n",
    "    \"\"\"\n",
    "    graph = defaultdict(set)\n",
    "    buckets = defaultdict(set)\n",
    "    word_len = len(words[0])\n",
    "    wordSet = set(words)\n",
    "\n",
    "    # Step 1: Create wildcard pattern buckets\n",
    "    for word in wordSet:\n",
    "        for i in range(word_len):\n",
    "            pattern = word[:i] + \"*\" + word[i+1:]\n",
    "            buckets[pattern].add(word)\n",
    "\n",
    "    # Step 2: Build graph using shared patterns\n",
    "    for word in wordSet:\n",
    "        for i in range(word_len):\n",
    "            pattern = word[:i] + \"*\" + word[i+1:]\n",
    "            for neighbor in buckets[pattern]:\n",
    "                #if neighbor != word:\n",
    "                graph[word].add(neighbor)\n",
    "\n",
    "    return graph\n",
    "\n",
    "# Example usage\n",
    "if __name__ == \"__main__\":\n",
    "    word_list = [\"hot\", \"dot\", \"dog\", \"lot\", \"log\"]\n",
    "    graph = build_word_graph(word_list)\n",
    "\n",
    "    print(\"Transformation Graph (Adjacency List):\")\n",
    "    for word, neighbors in graph.items():\n",
    "        print(f\"{word} → {neighbors}\")\n"
   ]
  },
  {
   "cell_type": "code",
   "execution_count": null,
   "metadata": {},
   "outputs": [],
   "source": [
    "asc = [0] * n\n",
    "desc = [0] * n\n",
    "\n",
    "# ascending (left to right)\n",
    "for i in range(1, n):\n",
    "    if arr[i] > arr[i - 1]:\n",
    "        asc[i] = asc[i - 1] + 1\n",
    "\n",
    "# descending (right to left)\n",
    "for i in range(n - 2, -1, -1):\n",
    "    if arr[i] > arr[i + 1]:\n",
    "        desc[i] = desc[i + 1] + 1"
   ]
  },
  {
   "cell_type": "code",
   "execution_count": 3,
   "metadata": {},
   "outputs": [
    {
     "data": {
      "text/plain": [
       "9"
      ]
     },
     "execution_count": 3,
     "metadata": {},
     "output_type": "execute_result"
    }
   ],
   "source": [
    "nums = [1, 2, 3, 4, 5, 6, 7, 8, 9, 10]\n",
    "\n",
    "\n",
    "nums[-1]\n",
    "nums[-2]"
   ]
  },
  {
   "cell_type": "code",
   "execution_count": 7,
   "metadata": {},
   "outputs": [
    {
     "data": {
      "text/plain": [
       "'abcdef*hi'"
      ]
     },
     "execution_count": 7,
     "metadata": {},
     "output_type": "execute_result"
    }
   ],
   "source": [
    "s = \"abcdefghi\"\n",
    "i = s.index(\"gh\")\n",
    "s[:i] + \"*\" + s[i+1:] # ab*efghi"
   ]
  },
  {
   "cell_type": "code",
   "execution_count": null,
   "metadata": {},
   "outputs": [],
   "source": []
  }
 ],
 "metadata": {
  "kernelspec": {
   "display_name": ".venv (3.12.3)",
   "language": "python",
   "name": "python3"
  },
  "language_info": {
   "codemirror_mode": {
    "name": "ipython",
    "version": 3
   },
   "file_extension": ".py",
   "mimetype": "text/x-python",
   "name": "python",
   "nbconvert_exporter": "python",
   "pygments_lexer": "ipython3",
   "version": "3.12.3"
  }
 },
 "nbformat": 4,
 "nbformat_minor": 2
}
