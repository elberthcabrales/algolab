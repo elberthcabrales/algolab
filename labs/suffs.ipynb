{
 "cells": [
  {
   "cell_type": "code",
   "execution_count": 2,
   "metadata": {},
   "outputs": [
    {
     "name": "stdout",
     "output_type": "stream",
     "text": [
      "[5, 4, 3, 2, 1]\n"
     ]
    }
   ],
   "source": [
    "from typing import List\n",
    "\n",
    "\n",
    "def extract_digits(number: int) -> List[int]:\n",
    "    digits = []\n",
    "    copy_num = number\n",
    "    while copy_num > 0:\n",
    "        popped = copy_num % 10\n",
    "        digits.append(popped)\n",
    "        copy_num = copy_num // 10\n",
    "    return digits\n",
    "\n",
    "# Example usage\n",
    "number = 12345\n",
    "digits = extract_digits(number)\n",
    "print(digits)  # Output: [5, 4, 3, 2, 1]"
   ]
  },
  {
   "cell_type": "code",
   "execution_count": null,
   "metadata": {},
   "outputs": [
    {
     "data": {
      "text/plain": [
       "4"
      ]
     },
     "execution_count": 6,
     "metadata": {},
     "output_type": "execute_result"
    }
   ],
   "source": [
    "class Solution:\n",
    "    def makeIntegerBeautiful(self, n: int, target: int) -> int:\n",
    "        \"\"\"\n",
    "            get sum of digits\n",
    "        \"\"\"\n",
    "        if self.sumOfDigits(n) <= target:\n",
    "            return 0\n",
    "        \n",
    "        x = 0\n",
    "        # transform from right to left in 1\n",
    "        digits = self.getDiggits(n)\n",
    "        mypow = 1\n",
    "        for i in range(len(digits) -1, -1, -1):\n",
    "            ref = (10 ** mypow)\n",
    "            digit = digits[i] * (10 ** (mypow - 1))\n",
    "            diff = ref - digit\n",
    "            digits[i] = 0\n",
    "            if i == 0:\n",
    "                digits.appendleft(1)\n",
    "            else:\n",
    "                digits[i - 1] += 1\n",
    "            x += diff\n",
    "            mypow += 1\n",
    "            if sum(digits) <= target:\n",
    "                return x\n",
    "    \n",
    "    def getDiggits(self, num):\n",
    "        ans = collections.deque()\n",
    "        while num:\n",
    "            digit = num % 10\n",
    "            num //= 10\n",
    "            ans.appendleft(digit)\n",
    "        return ans\n",
    "\n",
    "    def sumOfDigits(self, num):\n",
    "        ans = 0\n",
    "        while num:\n",
    "            digit = num % 10\n",
    "            num //= 10\n",
    "            ans += digit\n",
    "        \n",
    "        return ans"
   ]
  },
  {
   "cell_type": "code",
   "execution_count": null,
   "metadata": {},
   "outputs": [
    {
     "name": "stdout",
     "output_type": "stream",
     "text": [
      "[0, 0, 0, 0, 0, 0, 0, 0, 0]\n"
     ]
    }
   ],
   "source": [
    "\"\"\"\n",
    "https://leetcode.com/problems/valid-sudoku/\n",
    "    access to a box\n",
    "    square_index = (r // 3) * 3 + (c // 3)\n",
    "\"\"\"\n",
    "# Create a 9x9 matrix filled with zeros\n",
    "matrix = [[0 for _ in range(9)] for _ in range(9)]\n",
    "\n",
    "# box number 7\n",
    "# Example: Print the matrix\n",
    "r = 7\n",
    "c = 4\n",
    "square_index = (r // 3) * 3 + (c // 3) # 7th box\n",
    "print(matrix[square_index])\n"
   ]
  },
  {
   "cell_type": "code",
   "execution_count": null,
   "metadata": {},
   "outputs": [],
   "source": [
    "# find equal sum left and right are equal\n",
    "class Solution:\n",
    "    def pivotIndex(self, nums: List[int]) -> int:\n",
    "        n = len(nums)\n",
    "        prefix_sum = [0] * (n + 1)\n",
    "        for i in range(n):\n",
    "            prefix_sum[i + 1] = prefix_sum[i] + nums[i]\n",
    "        prefix_sum\n",
    "\n",
    "        for i in range(n):\n",
    "            # [0,1,8,11,17,22,28]\n",
    "            num = nums[i]\n",
    "            if prefix_sum[i] == prefix_sum[n] -  prefix_sum[i] - num:\n",
    "                return i\n",
    "        \n",
    "        return -1"
   ]
  }
 ],
 "metadata": {
  "kernelspec": {
   "display_name": ".venv",
   "language": "python",
   "name": "python3"
  },
  "language_info": {
   "codemirror_mode": {
    "name": "ipython",
    "version": 3
   },
   "file_extension": ".py",
   "mimetype": "text/x-python",
   "name": "python",
   "nbconvert_exporter": "python",
   "pygments_lexer": "ipython3",
   "version": "3.12.3"
  }
 },
 "nbformat": 4,
 "nbformat_minor": 2
}
