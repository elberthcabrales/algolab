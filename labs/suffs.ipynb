{
 "cells": [
  {
   "cell_type": "code",
   "execution_count": 2,
   "metadata": {},
   "outputs": [
    {
     "name": "stdout",
     "output_type": "stream",
     "text": [
      "[5, 4, 3, 2, 1]\n"
     ]
    }
   ],
   "source": [
    "from typing import List\n",
    "\n",
    "\n",
    "def extract_digits(number: int) -> List[int]:\n",
    "    digits = []\n",
    "    copy_num = number\n",
    "    while copy_num > 0:\n",
    "        popped = copy_num % 10\n",
    "        digits.append(popped)\n",
    "        copy_num = copy_num // 10\n",
    "    return digits\n",
    "\n",
    "# Example usage\n",
    "number = 12345\n",
    "digits = extract_digits(number)\n",
    "print(digits)  # Output: [5, 4, 3, 2, 1]"
   ]
  }
 ],
 "metadata": {
  "kernelspec": {
   "display_name": "myenv",
   "language": "python",
   "name": "python3"
  },
  "language_info": {
   "codemirror_mode": {
    "name": "ipython",
    "version": 3
   },
   "file_extension": ".py",
   "mimetype": "text/x-python",
   "name": "python",
   "nbconvert_exporter": "python",
   "pygments_lexer": "ipython3",
   "version": "3.12.7"
  }
 },
 "nbformat": 4,
 "nbformat_minor": 2
}
