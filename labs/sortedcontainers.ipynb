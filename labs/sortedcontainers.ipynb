{
 "cells": [
  {
   "cell_type": "code",
   "execution_count": 5,
   "metadata": {},
   "outputs": [
    {
     "name": "stdout",
     "output_type": "stream",
     "text": [
      "SortedList(['a', 'b', 'b', 'c', 'c', 'c', 'd', 'd', 'd', 'd', 'e', 'e', 'e', 'e', 'e', 'k'])\n",
      "['d', 'd', 'd', 'd']\n"
     ]
    }
   ],
   "source": [
    "from sortedcontainers import SortedList\n",
    "\n",
    "sl = SortedList('abbcccddddeeeee')\n",
    "sl.add('k')\n",
    "print(sl)  # SortedList(['a', 'b', 'b', 'c', 'c', 'c', 'd', 'd', 'd', 'd', 'e', 'e', 'e', 'e', 'k'])\n",
    "l = sl.bisect_left('d')\n",
    "r = sl.bisect_right('d')\n",
    "\n",
    "print(sl[l:r])  # ['d', 'd', 'd', 'd']\n",
    "\n",
    "\n"
   ]
  },
  {
   "cell_type": "code",
   "execution_count": 1,
   "metadata": {},
   "outputs": [
    {
     "name": "stdout",
     "output_type": "stream",
     "text": [
      "3\n"
     ]
    }
   ],
   "source": [
    "from sortedcontainers import SortedDict\n",
    "\n",
    "sd = SortedDict({'c': 3, 'a': 1, 'b': 2, 'd': 4, 'e': 5})\n",
    "it = sd.index('c')\n",
    "print(sd.peekitem(it)[1])"
   ]
  },
  {
   "cell_type": "code",
   "execution_count": null,
   "metadata": {},
   "outputs": [
    {
     "name": "stdout",
     "output_type": "stream",
     "text": [
      "2\n"
     ]
    },
    {
     "data": {
      "text/plain": [
       "'bar mine'"
      ]
     },
     "execution_count": 1,
     "metadata": {},
     "output_type": "execute_result"
    }
   ],
   "source": [
    "from sortedcontainers import SortedDict\n",
    "\n",
    "class TimeMap:\n",
    "        def __init__(self):\n",
    "            \"\"\"\n",
    "            Initialize your data structure here.\n",
    "            \"\"\"\n",
    "            self.store = {}\n",
    "    \n",
    "        def set(self, key: str, value: str, timestamp: int) -> None:\n",
    "            if key not in self.store:\n",
    "                self.store[key] = SortedDict()\n",
    "            \n",
    "            self.store[key][timestamp] = value\n",
    "    \n",
    "        def get(self, key: str, timestamp: int) -> str:\n",
    "            if key not in self.store:\n",
    "                return ''\n",
    "            \"\"\"\n",
    "                This method returns the first to the right\n",
    "            \"\"\"\n",
    "            #it = self.store[key].bisect_right(timestamp)\n",
    "            it = self.store[key].bisect_left(timestamp)\n",
    "\n",
    "            print(it)\n",
    "\n",
    "            return self.store[key].peekitem(it - 1)[1] if it else ''\n",
    "\n",
    "kv = TimeMap()\n",
    "kv.set(\"foo\", \"bar\", 1) # store the key \"foo\" and value \"bar\" along with timestamp = 1\n",
    "kv.set(\"foo\", \"bar mine\", 2) # this is the most closer value\n",
    "kv.set(\"foo\", \"bar2\", 6)\n",
    "kv.set(\"foo\", \"bar3\", 18)\n",
    "kv.get(\"foo\", 5) "
   ]
  },
  {
   "cell_type": "code",
   "execution_count": null,
   "metadata": {},
   "outputs": [
    {
     "data": {
      "text/plain": [
       "0"
      ]
     },
     "execution_count": 2,
     "metadata": {},
     "output_type": "execute_result"
    }
   ],
   "source": [
    "# https://leetcode.com/problems/lru-cache/\n",
    "import collections\n",
    "\n",
    "class LRUCache:\n",
    "    def __init__(self, capacity: int):\n",
    "        self.capacity = capacity\n",
    "        self.hash = collections.OrderedDict()\n",
    "\n",
    "    def get(self, key: int) -> int:\n",
    "        if key not in self.hash:\n",
    "            return -1\n",
    "        val = self.hash.get(key)\n",
    "        self.hash.move_to_end(key)\n",
    "        return val\n",
    "\n",
    "    def put(self, key: int, value: int) -> None:\n",
    "        self.hash[key] = value\n",
    "        self.hash.move_to_end(key)\n",
    "        if self.capacity < len(self.hash):\n",
    "            self.hash.popitem(False)\n",
    "\n",
    "    def get_max_key(self) -> int:\n",
    "        if not self.hash:\n",
    "            return -1  # or raise an exception if preferred\n",
    "        return max(self.hash, key=lambda k: self.hash[k])\n",
    "\n",
    "# Example usage\n",
    "cache = LRUCache(2)\n",
    "cache.put(1, 10)\n",
    "cache.put(2, 20)\n",
    "print(cache.get_max_key())  # Output: 2\n",
    "cache.put(3, 15)\n",
    "print(cache.get_max_key())  # Output: 3e)\n",
    "\n",
    "\n",
    "# Your LRUCache object will be instantiated and called as such:\n",
    "# obj = LRUCache(capacity)\n",
    "# param_1 = obj.get(key)\n",
    "# obj.put(key,value)"
   ]
  },
  {
   "cell_type": "code",
   "execution_count": 2,
   "metadata": {},
   "outputs": [
    {
     "name": "stdout",
     "output_type": "stream",
     "text": [
      "SortedDict({0: 5, 1: 10, 2: 20, 3: 30})\n"
     ]
    }
   ],
   "source": [
    "sd = SortedDict()\n",
    "sd[1] = 10\n",
    "sd[2] = 20\n",
    "sd[3] = 30\n",
    "sd[0] = 5\n",
    "\n",
    "print(sd)  # SortedDict({0: 5, 1: 10, 2: 20, 3: 30})"
   ]
  }
 ],
 "metadata": {
  "kernelspec": {
   "display_name": ".venv (3.12.3)",
   "language": "python",
   "name": "python3"
  },
  "language_info": {
   "codemirror_mode": {
    "name": "ipython",
    "version": 3
   },
   "file_extension": ".py",
   "mimetype": "text/x-python",
   "name": "python",
   "nbconvert_exporter": "python",
   "pygments_lexer": "ipython3",
   "version": "3.12.3"
  }
 },
 "nbformat": 4,
 "nbformat_minor": 2
}
