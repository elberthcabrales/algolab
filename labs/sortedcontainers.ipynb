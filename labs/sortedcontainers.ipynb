{
 "cells": [
  {
   "cell_type": "code",
   "execution_count": 5,
   "metadata": {},
   "outputs": [
    {
     "name": "stdout",
     "output_type": "stream",
     "text": [
      "SortedList(['a', 'b', 'b', 'c', 'c', 'c', 'd', 'd', 'd', 'd', 'e', 'e', 'e', 'e', 'e', 'k'])\n",
      "['d', 'd', 'd', 'd']\n"
     ]
    }
   ],
   "source": [
    "from sortedcontainers import SortedList\n",
    "\n",
    "sl = SortedList('abbcccddddeeeee')\n",
    "sl.add('k')\n",
    "print(sl)  # SortedList(['a', 'b', 'b', 'c', 'c', 'c', 'd', 'd', 'd', 'd', 'e', 'e', 'e', 'e', 'k'])\n",
    "l = sl.bisect_left('d')\n",
    "r = sl.bisect_right('d')\n",
    "\n",
    "print(sl[l:r])  # ['d', 'd', 'd', 'd']\n",
    "\n",
    "\n"
   ]
  },
  {
   "cell_type": "code",
   "execution_count": null,
   "metadata": {},
   "outputs": [
    {
     "name": "stdout",
     "output_type": "stream",
     "text": [
      "SortedDict({'a': 1, 'b': 2, 'c': 3, 'd': 4, 'e': 5}) 2\n",
      "3\n"
     ]
    }
   ],
   "source": [
    "from sortedcontainers import SortedDict\n",
    "\n",
    "sd = SortedDict({'c': 3, 'a': 1, 'b': 2, 'd': 4, 'e': 5})\n",
    "it = sd.index('c')\n",
    "print(sd.peekitem(it)[1])"
   ]
  },
  {
   "cell_type": "code",
   "execution_count": null,
   "metadata": {},
   "outputs": [
    {
     "name": "stdout",
     "output_type": "stream",
     "text": [
      "2\n"
     ]
    },
    {
     "data": {
      "text/plain": [
       "'bar mine'"
      ]
     },
     "execution_count": 1,
     "metadata": {},
     "output_type": "execute_result"
    }
   ],
   "source": [
    "from sortedcontainers import SortedDict\n",
    "\n",
    "class TimeMap:\n",
    "        def __init__(self):\n",
    "            \"\"\"\n",
    "            Initialize your data structure here.\n",
    "            \"\"\"\n",
    "            self.store = {}\n",
    "    \n",
    "        def set(self, key: str, value: str, timestamp: int) -> None:\n",
    "            if key not in self.store:\n",
    "                self.store[key] = SortedDict()\n",
    "            \n",
    "            self.store[key][timestamp] = value\n",
    "    \n",
    "        def get(self, key: str, timestamp: int) -> str:\n",
    "            if key not in self.store:\n",
    "                return ''\n",
    "            \"\"\"\n",
    "                This method returns the first to the right\n",
    "            \"\"\"\n",
    "            #it = self.store[key].bisect_right(timestamp)\n",
    "            it = self.store[key].bisect_left(timestamp)\n",
    "\n",
    "            print(it)\n",
    "\n",
    "            return self.store[key].peekitem(it - 1)[1] if it else ''\n",
    "\n",
    "kv = TimeMap()\n",
    "kv.set(\"foo\", \"bar\", 1) # store the key \"foo\" and value \"bar\" along with timestamp = 1\n",
    "kv.set(\"foo\", \"bar mine\", 2) # this is the most closer value\n",
    "kv.set(\"foo\", \"bar2\", 6)\n",
    "kv.set(\"foo\", \"bar3\", 18)\n",
    "kv.get(\"foo\", 5) "
   ]
  },
  {
   "cell_type": "code",
   "execution_count": 2,
   "metadata": {},
   "outputs": [
    {
     "data": {
      "text/plain": [
       "0"
      ]
     },
     "execution_count": 2,
     "metadata": {},
     "output_type": "execute_result"
    }
   ],
   "source": [
    "15 % 5"
   ]
  },
  {
   "cell_type": "code",
   "execution_count": null,
   "metadata": {},
   "outputs": [],
   "source": []
  }
 ],
 "metadata": {
  "kernelspec": {
   "display_name": "myenv",
   "language": "python",
   "name": "python3"
  },
  "language_info": {
   "codemirror_mode": {
    "name": "ipython",
    "version": 3
   },
   "file_extension": ".py",
   "mimetype": "text/x-python",
   "name": "python",
   "nbconvert_exporter": "python",
   "pygments_lexer": "ipython3",
   "version": "3.12.7"
  }
 },
 "nbformat": 4,
 "nbformat_minor": 2
}
