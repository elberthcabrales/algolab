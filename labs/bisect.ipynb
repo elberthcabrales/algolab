{
 "cells": [
  {
   "cell_type": "code",
   "execution_count": 2,
   "metadata": {},
   "outputs": [
    {
     "name": "stdout",
     "output_type": "stream",
     "text": [
      "List after insertion: [10, 20, 25, 30, 40, 50]\n"
     ]
    }
   ],
   "source": [
    "import bisect\n",
    "\n",
    "# Example sorted list\n",
    "sorted_list = [10, 20, 30, 40, 50]\n",
    "\n",
    "# Insert a new element (25) while maintaining the sorted order\n",
    "bisect.insort(sorted_list, 25)\n",
    "print(f\"List after insertion: {sorted_list}\")\n"
   ]
  },
  {
   "cell_type": "code",
   "execution_count": 1,
   "metadata": {},
   "outputs": [
    {
     "name": "stdout",
     "output_type": "stream",
     "text": [
      "Position using bisect_left for 30: 2\n",
      "Position using bisect_right for 30: 4\n"
     ]
    }
   ],
   "source": [
    "import bisect\n",
    "\n",
    "sorted_list = [10, 20, 30, 30, 40, 50]\n",
    "\n",
    "# Using bisect_left to find insertion point for 30 (before the first 30)\n",
    "left_position = bisect.bisect_left(sorted_list, 30)\n",
    "print(f\"Position using bisect_left for 30: {left_position}\")\n",
    "\n",
    "# Using bisect_right to find insertion point for 30 (after the last 30)\n",
    "right_position = bisect.bisect_right(sorted_list, 30)\n",
    "print(f\"Position using bisect_right for 30: {right_position}\")\n"
   ]
  },
  {
   "cell_type": "code",
   "execution_count": 2,
   "metadata": {},
   "outputs": [
    {
     "name": "stdout",
     "output_type": "stream",
     "text": [
      "Element 30 not found\n"
     ]
    }
   ],
   "source": [
    "import bisect\n",
    "\n",
    "# Sorted list for binary search\n",
    "sorted_list = [10, 20, 30, 40, 50]\n",
    "\n",
    "# Performing binary search for the element 30\n",
    "position = bisect.bisect_left(sorted_list, 5)\n",
    "\n",
    "# Check if the element is found\n",
    "if sorted_list[position] == 30:\n",
    "    print(f\"Element 30 found at index {position}\")\n",
    "else:\n",
    "    print(\"Element 30 not found\")\n"
   ]
  }
 ],
 "metadata": {
  "kernelspec": {
   "display_name": ".venv (3.12.3)",
   "language": "python",
   "name": "python3"
  },
  "language_info": {
   "codemirror_mode": {
    "name": "ipython",
    "version": 3
   },
   "file_extension": ".py",
   "mimetype": "text/x-python",
   "name": "python",
   "nbconvert_exporter": "python",
   "pygments_lexer": "ipython3",
   "version": "3.12.3"
  }
 },
 "nbformat": 4,
 "nbformat_minor": 2
}
