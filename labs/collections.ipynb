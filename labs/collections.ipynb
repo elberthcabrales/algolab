{
 "cells": [
  {
   "cell_type": "code",
   "execution_count": 11,
   "metadata": {},
   "outputs": [
    {
     "name": "stdout",
     "output_type": "stream",
     "text": [
      "OrderedDict({'apple': 3, 'banana': 2, 'cherry': 5, 'date': 4, 'elderberry': 1})\n",
      "OrderedDict({'apple': 3, 'cherry': 5, 'date': 4, 'elderberry': 1, 'banana': 2})\n"
     ]
    },
    {
     "data": {
      "text/plain": [
       "('apple', 3)"
      ]
     },
     "execution_count": 11,
     "metadata": {},
     "output_type": "execute_result"
    }
   ],
   "source": [
    "from collections import OrderedDict\n",
    "\n",
    "# Creating an OrderedDict with initial values\n",
    "ordered_dict = OrderedDict([('apple', 3), ('banana', 2), ('cherry', 5)])\n",
    "\n",
    "# Adding new items\n",
    "ordered_dict['date'] = 4\n",
    "ordered_dict['elderberry'] = 1\n",
    "\n",
    "print(ordered_dict)\n",
    "# Output: OrderedDict([('apple', 3), ('banana', 2), ('cherry', 5), ('date', 4), ('elderberry', 1)])\n",
    "\n",
    "ordered_dict.move_to_end('banana')\n",
    "print(ordered_dict)\n",
    "ordered_dict.popitem(last=False)"
   ]
  },
  {
   "cell_type": "code",
   "execution_count": null,
   "metadata": {},
   "outputs": [
    {
     "name": "stdout",
     "output_type": "stream",
     "text": [
      "{'c', 'd'}\n",
      "{'b', 'd', 'g', 'e', 'a', 'f', 'c'}\n",
      "{'a', 'b', 'f'}\n",
      "{'b', 'g', 'e', 'a', 'f'}\n"
     ]
    }
   ],
   "source": [
    "# Python Code: Intersection\n",
    "a = set('abcdf')\n",
    "b = set('cdeg')\n",
    "\n",
    "\n",
    "# a.intersection(b)\n",
    "print(a & b)  # {'c', 'd'} - Common elements between sets a and b\n",
    "\n",
    "# SQL Equivalent: Intersection\n",
    "# Using two tables `table_a` and `table_b` with a column `letter`\n",
    "# Find common letters in both tables:\n",
    "# SELECT letter \n",
    "# FROM table_a \n",
    "# INTERSECT \n",
    "# SELECT letter \n",
    "# FROM table_b;\n",
    "\n",
    "\n",
    "# Python Code: Union\n",
    "# a.union(b)\n",
    "print(a | b)  # {'a', 'b', 'c', 'd', 'e', 'f', 'g'} - All unique elements from both sets\n",
    "\n",
    "# SQL Equivalent: Union\n",
    "# SELECT letter \n",
    "# FROM table_a \n",
    "# UNION \n",
    "# SELECT letter \n",
    "# FROM table_b;\n",
    "\n",
    "\n",
    "# Python Code: Difference\n",
    "# a.difference(b)\n",
    "print(a - b)  # {'a', 'b', 'f'} - Elements in a but not in b\n",
    "\n",
    "# SQL Equivalent: Difference\n",
    "# SELECT letter \n",
    "# FROM table_a \n",
    "# EXCEPT \n",
    "# SELECT letter \n",
    "# FROM table_b;\n",
    "\n",
    "\n",
    "# Python Code: Symmetric Difference\n",
    "# a.symmetric_difference(b)\n",
    "print(a ^ b)  # {'a', 'b', 'e', 'f', 'g'} - Elements in either set but not both\n",
    "\n",
    "# SQL Equivalent: Symmetric Difference\n",
    "# Use UNION ALL and EXCEPT for this:\n",
    "# SELECT letter \n",
    "# FROM (\n",
    "#     SELECT letter FROM table_a \n",
    "#     UNION ALL \n",
    "#     SELECT letter FROM table_b\n",
    "# ) sub\n",
    "# GROUP BY letter \n",
    "# HAVING COUNT(*) = 1;\n"
   ]
  },
  {
   "cell_type": "code",
   "execution_count": 48,
   "metadata": {},
   "outputs": [
    {
     "name": "stdout",
     "output_type": "stream",
     "text": [
      "What is your name?  It is lancelot.\n",
      "What is your quest?  It is the holy grail.\n",
      "What is your favorite color?  It is blue.\n"
     ]
    }
   ],
   "source": [
    "# How zip() works in Python\n",
    "# Python code to demonstrate the working of\n",
    "# zip()\n",
    "\n",
    "questions = ['name', 'quest', 'favorite color', 'PROBLEM']\n",
    "answers = ['lancelot', 'the holy grail', 'blue'] #'YOU']\n",
    "\n",
    "result = zip(questions, answers)\n",
    "\n",
    "for q, a in result:\n",
    "    print('What is your {0}?  It is {1}.'.format(q, a))"
   ]
  },
  {
   "cell_type": "markdown",
   "metadata": {},
   "source": []
  },
  {
   "cell_type": "code",
   "execution_count": 13,
   "metadata": {},
   "outputs": [
    {
     "name": "stdout",
     "output_type": "stream",
     "text": [
      "Position to insert 5: 3\n",
      "List after inserting 5: 1\n"
     ]
    }
   ],
   "source": [
    "import bisect\n",
    "\n",
    "# Create a sorted list\n",
    "sorted_list = [1, 3, 4, 7, 8]\n",
    "\n",
    "# Use bisect to find the position where an element should be inserted\n",
    "position = bisect.bisect(sorted_list, 5)\n",
    "print(f\"Position to insert 5: {position}\")\n",
    "\n",
    "# Insert an element into the sorted list while maintaining order\n",
    "position = bisect.bisect(sorted_list, 1)\n",
    "print(f\"List after inserting 5: {position}\")"
   ]
  },
  {
   "cell_type": "code",
   "execution_count": 1,
   "metadata": {},
   "outputs": [
    {
     "data": {
      "text/plain": [
       "defaultdict(int, {'a': 10, 'b': 2})"
      ]
     },
     "execution_count": 1,
     "metadata": {},
     "output_type": "execute_result"
    }
   ],
   "source": [
    "import collections\n",
    "\n",
    "d = collections.defaultdict(int)\n",
    "d['a'] = 1\n",
    "d['b'] = 2\n",
    "\n",
    "b = d\n",
    "b['a'] = 10\n",
    "\n",
    "d"
   ]
  }
 ],
 "metadata": {
  "kernelspec": {
   "display_name": "myenv",
   "language": "python",
   "name": "python3"
  },
  "language_info": {
   "codemirror_mode": {
    "name": "ipython",
    "version": 3
   },
   "file_extension": ".py",
   "mimetype": "text/x-python",
   "name": "python",
   "nbconvert_exporter": "python",
   "pygments_lexer": "ipython3",
   "version": "3.12.7"
  }
 },
 "nbformat": 4,
 "nbformat_minor": 2
}
