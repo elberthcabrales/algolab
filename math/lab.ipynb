{
 "cells": [
  {
   "cell_type": "code",
   "execution_count": 8,
   "id": "d68c9df1",
   "metadata": {},
   "outputs": [
    {
     "name": "stdout",
     "output_type": "stream",
     "text": [
      "[1, 2, 3, 4, 6, 9, 12, 18, 36]\n",
      "[1, 2, 3, 4, 6, 9, 12, 18, 36]\n"
     ]
    }
   ],
   "source": [
    "def factors(n):\n",
    "    result = []\n",
    "    for i in range(1, n + 1):\n",
    "        if n % i == 0:   # if i divides n evenly\n",
    "            result.append(i)\n",
    "    return result\n",
    "\n",
    "print(factors(36))  # [1, 2, 3, 4, 6, 9, 12, 18, 36]\n",
    "\n",
    "import math\n",
    "\n",
    "def factors(n):\n",
    "    result = set()\n",
    "    for i in range(1, int(math.sqrt(n)) + 1):\n",
    "        if n % i == 0:\n",
    "            result.add(i)\n",
    "            result.add(n // i)  # add the pair factor\n",
    "    return sorted(result)\n",
    "\n",
    "print(factors(36))  # [1, 2, 3, 4, 6, 9, 12, 18, 36]\n"
   ]
  }
 ],
 "metadata": {
  "kernelspec": {
   "display_name": ".venv (3.12.3)",
   "language": "python",
   "name": "python3"
  },
  "language_info": {
   "codemirror_mode": {
    "name": "ipython",
    "version": 3
   },
   "file_extension": ".py",
   "mimetype": "text/x-python",
   "name": "python",
   "nbconvert_exporter": "python",
   "pygments_lexer": "ipython3",
   "version": "3.12.3"
  }
 },
 "nbformat": 4,
 "nbformat_minor": 5
}
